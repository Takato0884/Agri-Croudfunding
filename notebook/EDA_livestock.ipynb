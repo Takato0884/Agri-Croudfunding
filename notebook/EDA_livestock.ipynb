{
 "cells": [
  {
   "cell_type": "markdown",
   "metadata": {},
   "source": [
    "# 前処理"
   ]
  },
  {
   "cell_type": "code",
   "execution_count": 1,
   "metadata": {},
   "outputs": [],
   "source": [
    "import numpy as np\n",
    "import pandas as pd\n",
    "import matplotlib.pyplot as plt\n",
    "import seaborn as sns"
   ]
  },
  {
   "cell_type": "code",
   "execution_count": 2,
   "metadata": {},
   "outputs": [],
   "source": [
    "#scvファイルの読み込み\n",
    "livestock = pd.read_csv(\"../data/livestock.csv\")\n",
    "cultured = pd.read_csv(\"../data/cultured.csv\")"
   ]
  },
  {
   "cell_type": "code",
   "execution_count": 3,
   "metadata": {},
   "outputs": [],
   "source": [
    "data_pre = pd.concat([livestock,cultured],sort=False)\n",
    "data = data_pre.reset_index(drop=True)"
   ]
  },
  {
   "cell_type": "code",
   "execution_count": 4,
   "metadata": {},
   "outputs": [
    {
     "name": "stderr",
     "output_type": "stream",
     "text": [
      "<ipython-input-4-766776659890>:15: SettingWithCopyWarning: \n",
      "A value is trying to be set on a copy of a slice from a DataFrame\n",
      "\n",
      "See the caveats in the documentation: https://pandas.pydata.org/pandas-docs/stable/user_guide/indexing.html#returning-a-view-versus-a-copy\n",
      "  data[\"自然災害ダミー\"][i] = 1\n",
      "<ipython-input-4-766776659890>:19: SettingWithCopyWarning: \n",
      "A value is trying to be set on a copy of a slice from a DataFrame\n",
      "\n",
      "See the caveats in the documentation: https://pandas.pydata.org/pandas-docs/stable/user_guide/indexing.html#returning-a-view-versus-a-copy\n",
      "  data[\"自然災害ダミー\"][i] = 1\n",
      "<ipython-input-4-766776659890>:17: SettingWithCopyWarning: \n",
      "A value is trying to be set on a copy of a slice from a DataFrame\n",
      "\n",
      "See the caveats in the documentation: https://pandas.pydata.org/pandas-docs/stable/user_guide/indexing.html#returning-a-view-versus-a-copy\n",
      "  data[\"自然災害ダミー\"][i] = 1\n"
     ]
    }
   ],
   "source": [
    "# 新しい説明変数を作成する\n",
    "\n",
    "#一人当たり支援額\n",
    "data[\"一人当たり支援額\"] = round(data[\"支援総額\"]/(data[\"支援者数\"]+1))\n",
    "#最高額支援ダミー:最高支援額と支援額上限が一致するか 0:不一致 1:一致\n",
    "data[\"最高額支援ダミー\"] = 0\n",
    "data.loc[data['最高支援額']==data['支援額上限'],'最高額支援ダミー'] = 1\n",
    "#最低額返礼品ダミー:支援額下限と返礼品ありの下限が一致するか　0:不一致　1:一致\n",
    "data[\"最低額返礼品ダミー\"] = 0\n",
    "data.loc[data['支援額下限']==data['返礼品ありの下限'],'最低額返礼品ダミー'] = 1\n",
    "#自然災害ダミー:災害を示すような言葉が含まれているか\n",
    "data[\"自然災害ダミー\"] = 0\n",
    "for i in range(len(data)):\n",
    "    if \"震災\" in data[\"プロジェクト名\"][i]:\n",
    "        data[\"自然災害ダミー\"][i] = 1\n",
    "    elif \"豪雨\" in data[\"プロジェクト名\"][i]:\n",
    "        data[\"自然災害ダミー\"][i] = 1\n",
    "    elif \"台風\" in data[\"プロジェクト名\"][i]:\n",
    "        data[\"自然災害ダミー\"][i] = 1\n",
    "\n",
    "#target値を作成　0:失敗　1:成功\n",
    "data[\"achievement\"] = data[\"支援総額\"] // data[\"目標金額\"]\n",
    "data[\"target\"] = 0\n",
    "data.loc[data['achievement']>=1,'target'] = 1"
   ]
  },
  {
   "cell_type": "code",
   "execution_count": 5,
   "metadata": {},
   "outputs": [],
   "source": [
    "delate_col = [\"プロジェクト名\",\"URL\",\"CFP\",\"産業\",\"achievement\"]\n",
    "data = data.drop(columns=delate_col)"
   ]
  },
  {
   "cell_type": "code",
   "execution_count": 6,
   "metadata": {},
   "outputs": [
    {
     "data": {
      "text/html": [
       "<div>\n",
       "<style scoped>\n",
       "    .dataframe tbody tr th:only-of-type {\n",
       "        vertical-align: middle;\n",
       "    }\n",
       "\n",
       "    .dataframe tbody tr th {\n",
       "        vertical-align: top;\n",
       "    }\n",
       "\n",
       "    .dataframe thead th {\n",
       "        text-align: right;\n",
       "    }\n",
       "</style>\n",
       "<table border=\"1\" class=\"dataframe\">\n",
       "  <thead>\n",
       "    <tr style=\"text-align: right;\">\n",
       "      <th></th>\n",
       "      <th>支援総額</th>\n",
       "      <th>目標金額</th>\n",
       "      <th>支援者数</th>\n",
       "      <th>画像数</th>\n",
       "      <th>動画数</th>\n",
       "      <th>文字数</th>\n",
       "      <th>活動報告回数</th>\n",
       "      <th>リターン種類数</th>\n",
       "      <th>最高支援額</th>\n",
       "      <th>支援額上限</th>\n",
       "      <th>支援額下限</th>\n",
       "      <th>最低支援額</th>\n",
       "      <th>返礼品ありの下限</th>\n",
       "      <th>一人当たり支援額</th>\n",
       "      <th>最高額支援ダミー</th>\n",
       "      <th>最低額返礼品ダミー</th>\n",
       "      <th>自然災害ダミー</th>\n",
       "      <th>target</th>\n",
       "    </tr>\n",
       "  </thead>\n",
       "  <tbody>\n",
       "    <tr>\n",
       "      <th>0</th>\n",
       "      <td>1185000</td>\n",
       "      <td>1000000</td>\n",
       "      <td>71</td>\n",
       "      <td>8</td>\n",
       "      <td>0</td>\n",
       "      <td>2566</td>\n",
       "      <td>3</td>\n",
       "      <td>9</td>\n",
       "      <td>50000</td>\n",
       "      <td>50000</td>\n",
       "      <td>5000</td>\n",
       "      <td>5000</td>\n",
       "      <td>5000</td>\n",
       "      <td>16458.0</td>\n",
       "      <td>1</td>\n",
       "      <td>1</td>\n",
       "      <td>0</td>\n",
       "      <td>1</td>\n",
       "    </tr>\n",
       "    <tr>\n",
       "      <th>1</th>\n",
       "      <td>1382000</td>\n",
       "      <td>1000000</td>\n",
       "      <td>72</td>\n",
       "      <td>22</td>\n",
       "      <td>0</td>\n",
       "      <td>4010</td>\n",
       "      <td>5</td>\n",
       "      <td>12</td>\n",
       "      <td>100000</td>\n",
       "      <td>100000</td>\n",
       "      <td>3000</td>\n",
       "      <td>3000</td>\n",
       "      <td>3000</td>\n",
       "      <td>18932.0</td>\n",
       "      <td>1</td>\n",
       "      <td>1</td>\n",
       "      <td>0</td>\n",
       "      <td>1</td>\n",
       "    </tr>\n",
       "    <tr>\n",
       "      <th>2</th>\n",
       "      <td>1205000</td>\n",
       "      <td>1000000</td>\n",
       "      <td>91</td>\n",
       "      <td>9</td>\n",
       "      <td>1</td>\n",
       "      <td>4244</td>\n",
       "      <td>27</td>\n",
       "      <td>12</td>\n",
       "      <td>100000</td>\n",
       "      <td>100000</td>\n",
       "      <td>5000</td>\n",
       "      <td>5000</td>\n",
       "      <td>5000</td>\n",
       "      <td>13098.0</td>\n",
       "      <td>1</td>\n",
       "      <td>1</td>\n",
       "      <td>0</td>\n",
       "      <td>1</td>\n",
       "    </tr>\n",
       "    <tr>\n",
       "      <th>3</th>\n",
       "      <td>865000</td>\n",
       "      <td>600000</td>\n",
       "      <td>79</td>\n",
       "      <td>10</td>\n",
       "      <td>0</td>\n",
       "      <td>3500</td>\n",
       "      <td>13</td>\n",
       "      <td>5</td>\n",
       "      <td>10000</td>\n",
       "      <td>15000</td>\n",
       "      <td>5000</td>\n",
       "      <td>5000</td>\n",
       "      <td>10000</td>\n",
       "      <td>10812.0</td>\n",
       "      <td>0</td>\n",
       "      <td>0</td>\n",
       "      <td>0</td>\n",
       "      <td>1</td>\n",
       "    </tr>\n",
       "    <tr>\n",
       "      <th>4</th>\n",
       "      <td>1619000</td>\n",
       "      <td>1000000</td>\n",
       "      <td>116</td>\n",
       "      <td>18</td>\n",
       "      <td>0</td>\n",
       "      <td>3457</td>\n",
       "      <td>17</td>\n",
       "      <td>6</td>\n",
       "      <td>100000</td>\n",
       "      <td>300000</td>\n",
       "      <td>3000</td>\n",
       "      <td>3000</td>\n",
       "      <td>10000</td>\n",
       "      <td>13838.0</td>\n",
       "      <td>0</td>\n",
       "      <td>0</td>\n",
       "      <td>1</td>\n",
       "      <td>1</td>\n",
       "    </tr>\n",
       "  </tbody>\n",
       "</table>\n",
       "</div>"
      ],
      "text/plain": [
       "      支援総額     目標金額  支援者数  画像数  動画数   文字数  活動報告回数  リターン種類数   最高支援額   支援額上限  \\\n",
       "0  1185000  1000000    71    8    0  2566       3        9   50000   50000   \n",
       "1  1382000  1000000    72   22    0  4010       5       12  100000  100000   \n",
       "2  1205000  1000000    91    9    1  4244      27       12  100000  100000   \n",
       "3   865000   600000    79   10    0  3500      13        5   10000   15000   \n",
       "4  1619000  1000000   116   18    0  3457      17        6  100000  300000   \n",
       "\n",
       "   支援額下限  最低支援額  返礼品ありの下限  一人当たり支援額  最高額支援ダミー  最低額返礼品ダミー  自然災害ダミー  target  \n",
       "0   5000   5000      5000   16458.0         1          1        0       1  \n",
       "1   3000   3000      3000   18932.0         1          1        0       1  \n",
       "2   5000   5000      5000   13098.0         1          1        0       1  \n",
       "3   5000   5000     10000   10812.0         0          0        0       1  \n",
       "4   3000   3000     10000   13838.0         0          0        1       1  "
      ]
     },
     "execution_count": 6,
     "metadata": {},
     "output_type": "execute_result"
    }
   ],
   "source": [
    "data.head()"
   ]
  },
  {
   "cell_type": "code",
   "execution_count": 7,
   "metadata": {},
   "outputs": [],
   "source": [
    "livestock = data[:109]\n",
    "cultured = data[109:]"
   ]
  },
  {
   "cell_type": "markdown",
   "metadata": {},
   "source": [
    "# 畜産"
   ]
  },
  {
   "cell_type": "markdown",
   "metadata": {},
   "source": [
    "#### target"
   ]
  },
  {
   "cell_type": "code",
   "execution_count": 10,
   "metadata": {},
   "outputs": [
    {
     "data": {
      "text/plain": [
       "<AxesSubplot:xlabel='target', ylabel='count'>"
      ]
     },
     "execution_count": 10,
     "metadata": {},
     "output_type": "execute_result"
    },
    {
     "data": {
      "image/png": "[encoded data removed]",
      "text/plain": [
       "<Figure size 750x500 with 1 Axes>"
      ]
     },
     "metadata": {
      "needs_background": "light"
     },
     "output_type": "display_data"
    }
   ],
   "source": [
    "fig = plt.figure(figsize=(15, 10), dpi=50)\n",
    "ax = fig.add_subplot()\n",
    "plt.xlabel('target',fontsize=18)\n",
    "plt.ylabel('count',fontsize=18)\n",
    "plt.xticks(fontsize=16)\n",
    "plt.yticks(fontsize=16)\n",
    "sns.countplot(x=\"target\",data=livestock)"
   ]
  },
  {
   "cell_type": "code",
   "execution_count": 11,
   "metadata": {},
   "outputs": [
    {
     "name": "stdout",
     "output_type": "stream",
     "text": [
      "成功割合:0.6146788990825688\n"
     ]
    }
   ],
   "source": [
    "success = livestock[\"target\"].sum() / len(livestock[\"target\"])\n",
    "print(\"成功割合:{}\".format(success))"
   ]
  },
  {
   "cell_type": "markdown",
   "metadata": {},
   "source": [
    "#### 目標金額"
   ]
  },
  {
   "cell_type": "code",
   "execution_count": 12,
   "metadata": {},
   "outputs": [
    {
     "name": "stdout",
     "output_type": "stream",
     "text": [
      "max:10000000 min:100000\n"
     ]
    }
   ],
   "source": [
    "print(\"max:{} min:{}\".format(livestock[\"目標金額\"].max(),livestock[\"目標金額\"].min()))"
   ]
  },
  {
   "cell_type": "code",
   "execution_count": 13,
   "metadata": {},
   "outputs": [
    {
     "data": {
      "text/plain": [
       "<matplotlib.legend.Legend at 0x7fc860482490>"
      ]
     },
     "execution_count": 13,
     "metadata": {},
     "output_type": "execute_result"
    },
    {
     "data": {
      "image/png": "[encoded data removed]",
      "text/plain": [
       "<Figure size 750x500 with 1 Axes>"
      ]
     },
     "metadata": {
      "needs_background": "light"
     },
     "output_type": "display_data"
    }
   ],
   "source": [
    "fig = plt.figure(figsize=(15, 10), dpi=50)\n",
    "ax = fig.add_subplot()\n",
    "plt.hist(livestock.loc[livestock['target']==0,'目標金額'],range=(10000,10000000),bins=25,alpha=0.5,label='0')\n",
    "plt.hist(livestock.loc[livestock['target']==1,'目標金額'],range=(10000,10000000),bins=25,alpha=0.5,label='1')\n",
    "plt.xlabel('target_value',fontsize=18)\n",
    "plt.ylabel('count',fontsize=18)\n",
    "plt.xticks(fontsize=16)\n",
    "plt.yticks(fontsize=16)\n",
    "plt.legend(title='Success',fontsize=20)"
   ]
  },
  {
   "cell_type": "code",
   "execution_count": 14,
   "metadata": {},
   "outputs": [
    {
     "name": "stdout",
     "output_type": "stream",
     "text": [
      "成功グループの平均:1257985.0746268656\n",
      "失敗グループの平均:1589809.5238095238\n",
      "成功グループの中央値:555000.0\n",
      "失敗グループの中央値:1000000.0\n"
     ]
    }
   ],
   "source": [
    "#外れ値があるので平均は不適切かも\n",
    "print(\"成功グループの平均:{}\".format(livestock.loc[livestock['target']==1,'目標金額'].mean()))\n",
    "print(\"失敗グループの平均:{}\".format(livestock.loc[livestock['target']==0,'目標金額'].mean()))\n",
    "print(\"成功グループの中央値:{}\".format(livestock.loc[livestock['target']==1,'目標金額'].median()))\n",
    "print(\"失敗グループの中央値:{}\".format(livestock.loc[livestock['target']==0,'目標金額'].median()))"
   ]
  },
  {
   "cell_type": "markdown",
   "metadata": {},
   "source": [
    "#### 支援者数"
   ]
  },
  {
   "cell_type": "code",
   "execution_count": 15,
   "metadata": {},
   "outputs": [
    {
     "name": "stdout",
     "output_type": "stream",
     "text": [
      "max:10002 min:0\n"
     ]
    }
   ],
   "source": [
    "print(\"max:{} min:{}\".format(livestock[\"支援者数\"].max(),livestock[\"支援者数\"].min()))"
   ]
  },
  {
   "cell_type": "code",
   "execution_count": 16,
   "metadata": {},
   "outputs": [
    {
     "data": {
      "text/plain": [
       "<matplotlib.legend.Legend at 0x7fc86059d820>"
      ]
     },
     "execution_count": 16,
     "metadata": {},
     "output_type": "execute_result"
    },
    {
     "data": {
      "image/png": "[encoded data removed]",
      "text/plain": [
       "<Figure size 600x400 with 1 Axes>"
      ]
     },
     "metadata": {
      "needs_background": "light"
     },
     "output_type": "display_data"
    }
   ],
   "source": [
    "fig = plt.figure(figsize=(12, 8), dpi=50)\n",
    "ax = fig.add_subplot()\n",
    "plt.hist(livestock.loc[livestock['target']==0,'支援者数'],range=(0,600),bins=30,alpha=0.5,label='0')\n",
    "plt.hist(livestock.loc[livestock['target']==1,'支援者数'],range=(0,600),bins=30,alpha=0.5,label='1')\n",
    "plt.xlabel('supporters',fontsize=18)\n",
    "plt.ylabel('count',fontsize=18)\n",
    "plt.xticks(fontsize=16)\n",
    "plt.yticks(fontsize=16)\n",
    "plt.legend(title='Success',fontsize=20)"
   ]
  },
  {
   "cell_type": "code",
   "execution_count": 17,
   "metadata": {},
   "outputs": [
    {
     "name": "stdout",
     "output_type": "stream",
     "text": [
      "成功グループの平均:303.56716417910445\n",
      "失敗グループの平均:43.023809523809526\n",
      "成功グループの中央値:92.0\n",
      "失敗グループの中央値:14.5\n"
     ]
    }
   ],
   "source": [
    "#外れ値があるので平均は不適切かも\n",
    "print(\"成功グループの平均:{}\".format(livestock.loc[livestock['target']==1,'支援者数'].mean()))\n",
    "print(\"失敗グループの平均:{}\".format(livestock.loc[livestock['target']==0,'支援者数'].mean()))\n",
    "print(\"成功グループの中央値:{}\".format(livestock.loc[livestock['target']==1,'支援者数'].median()))\n",
    "print(\"失敗グループの中央値:{}\".format(livestock.loc[livestock['target']==0,'支援者数'].median()))"
   ]
  },
  {
   "cell_type": "markdown",
   "metadata": {},
   "source": [
    "#### 画像数"
   ]
  },
  {
   "cell_type": "code",
   "execution_count": 18,
   "metadata": {},
   "outputs": [
    {
     "name": "stdout",
     "output_type": "stream",
     "text": [
      "max:47 min:0\n"
     ]
    }
   ],
   "source": [
    "print(\"max:{} min:{}\".format(livestock[\"画像数\"].max(),livestock[\"画像数\"].min()))"
   ]
  },
  {
   "cell_type": "code",
   "execution_count": 19,
   "metadata": {},
   "outputs": [
    {
     "data": {
      "text/plain": [
       "<matplotlib.legend.Legend at 0x7fc8607bca90>"
      ]
     },
     "execution_count": 19,
     "metadata": {},
     "output_type": "execute_result"
    },
    {
     "data": {
      "image/png": "[encoded data removed]",
      "text/plain": [
       "<Figure size 750x500 with 1 Axes>"
      ]
     },
     "metadata": {
      "needs_background": "light"
     },
     "output_type": "display_data"
    }
   ],
   "source": [
    "fig = plt.figure(figsize=(15, 10), dpi=50)\n",
    "ax = fig.add_subplot()\n",
    "plt.hist(livestock.loc[livestock['target']==0,'画像数'],range=(0,70),bins=14,alpha=0.5,label='0')\n",
    "plt.hist(livestock.loc[livestock['target']==1,'画像数'],range=(0,70),bins=14,alpha=0.5,label='1')\n",
    "plt.xlabel('image',fontsize=18)\n",
    "plt.ylabel('count',fontsize=18)\n",
    "plt.xticks(fontsize=16)\n",
    "plt.yticks(fontsize=16)\n",
    "plt.legend(title='Success',fontsize=20)"
   ]
  },
  {
   "cell_type": "code",
   "execution_count": 20,
   "metadata": {},
   "outputs": [
    {
     "name": "stdout",
     "output_type": "stream",
     "text": [
      "成功グループの平均:15.08955223880597\n",
      "失敗グループの平均:10.666666666666666\n",
      "成功グループの中央値:13.0\n",
      "失敗グループの中央値:9.0\n"
     ]
    }
   ],
   "source": [
    "print(\"成功グループの平均:{}\".format(livestock.loc[livestock['target']==1,'画像数'].mean()))\n",
    "print(\"失敗グループの平均:{}\".format(livestock.loc[livestock['target']==0,'画像数'].mean()))\n",
    "print(\"成功グループの中央値:{}\".format(livestock.loc[livestock['target']==1,'画像数'].median()))\n",
    "print(\"失敗グループの中央値:{}\".format(livestock.loc[livestock['target']==0,'画像数'].median()))"
   ]
  },
  {
   "cell_type": "markdown",
   "metadata": {},
   "source": [
    "#### 動画数"
   ]
  },
  {
   "cell_type": "code",
   "execution_count": 21,
   "metadata": {},
   "outputs": [
    {
     "name": "stdout",
     "output_type": "stream",
     "text": [
      "max:2 min:0\n"
     ]
    }
   ],
   "source": [
    "print(\"max:{} min:{}\".format(livestock[\"動画数\"].max(),livestock[\"動画数\"].min()))"
   ]
  },
  {
   "cell_type": "code",
   "execution_count": 22,
   "metadata": {},
   "outputs": [
    {
     "data": {
      "text/plain": [
       "<matplotlib.legend.Legend at 0x7fc8611667c0>"
      ]
     },
     "execution_count": 22,
     "metadata": {},
     "output_type": "execute_result"
    },
    {
     "data": {
      "image/png": "[encoded data removed]",
      "text/plain": [
       "<Figure size 750x500 with 1 Axes>"
      ]
     },
     "metadata": {
      "needs_background": "light"
     },
     "output_type": "display_data"
    }
   ],
   "source": [
    "fig = plt.figure(figsize=(15, 10), dpi=50)\n",
    "ax = fig.add_subplot()\n",
    "plt.hist(livestock.loc[livestock['target']==0,'動画数'],range=(0,7),bins=7,alpha=0.5,label='0')\n",
    "plt.hist(livestock.loc[livestock['target']==1,'動画数'],range=(0,7),bins=7,alpha=0.5,label='1')\n",
    "plt.xlabel('movie',fontsize=18)\n",
    "plt.ylabel('count',fontsize=18)\n",
    "plt.xticks(fontsize=16)\n",
    "plt.yticks(fontsize=16)\n",
    "plt.legend(title='Success',fontsize=20)"
   ]
  },
  {
   "cell_type": "code",
   "execution_count": 23,
   "metadata": {},
   "outputs": [
    {
     "name": "stdout",
     "output_type": "stream",
     "text": [
      "成功グループの平均:0.23880597014925373\n",
      "失敗グループの平均:0.30952380952380953\n",
      "成功グループの中央値:0.0\n",
      "失敗グループの中央値:0.0\n"
     ]
    }
   ],
   "source": [
    "print(\"成功グループの平均:{}\".format(livestock.loc[livestock['target']==1,'動画数'].mean()))\n",
    "print(\"失敗グループの平均:{}\".format(livestock.loc[livestock['target']==0,'動画数'].mean()))\n",
    "print(\"成功グループの中央値:{}\".format(livestock.loc[livestock['target']==1,'動画数'].median()))\n",
    "print(\"失敗グループの中央値:{}\".format(livestock.loc[livestock['target']==0,'動画数'].median()))"
   ]
  },
  {
   "cell_type": "code",
   "execution_count": 24,
   "metadata": {},
   "outputs": [
    {
     "name": "stdout",
     "output_type": "stream",
     "text": [
      "動画ありグループの成功率:0.5652173913043478\n",
      "動画なしグループの成功率:0.627906976744186\n"
     ]
    }
   ],
   "source": [
    "print(\"動画ありグループの成功率:{}\".format(livestock.loc[livestock['動画数']>=1,'target'].mean()))\n",
    "print(\"動画なしグループの成功率:{}\".format(livestock.loc[livestock['動画数']==0,'target'].mean()))"
   ]
  },
  {
   "cell_type": "markdown",
   "metadata": {},
   "source": [
    "#### 文字数"
   ]
  },
  {
   "cell_type": "code",
   "execution_count": 25,
   "metadata": {},
   "outputs": [
    {
     "name": "stdout",
     "output_type": "stream",
     "text": [
      "max:7753 min:702\n"
     ]
    }
   ],
   "source": [
    "print(\"max:{} min:{}\".format(livestock[\"文字数\"].max(),livestock[\"文字数\"].min()))"
   ]
  },
  {
   "cell_type": "code",
   "execution_count": 26,
   "metadata": {},
   "outputs": [
    {
     "data": {
      "text/plain": [
       "<matplotlib.legend.Legend at 0x7fc8614c0490>"
      ]
     },
     "execution_count": 26,
     "metadata": {},
     "output_type": "execute_result"
    },
    {
     "data": {
      "image/png": "[encoded data removed]",
      "text/plain": [
       "<Figure size 750x500 with 1 Axes>"
      ]
     },
     "metadata": {
      "needs_background": "light"
     },
     "output_type": "display_data"
    }
   ],
   "source": [
    "fig = plt.figure(figsize=(15, 10), dpi=50)\n",
    "ax = fig.add_subplot()\n",
    "plt.hist(livestock.loc[livestock['target']==0,'文字数'],range=(0,8000),bins=40,alpha=0.5,label='0')\n",
    "plt.hist(livestock.loc[livestock['target']==1,'文字数'],range=(0,8000),bins=40,alpha=0.5,label='1')\n",
    "plt.xlabel('word',fontsize=18)\n",
    "plt.ylabel('count',fontsize=18)\n",
    "plt.xticks(fontsize=16)\n",
    "plt.yticks(fontsize=16)\n",
    "plt.legend(title='Success',fontsize=20)"
   ]
  },
  {
   "cell_type": "code",
   "execution_count": 27,
   "metadata": {},
   "outputs": [
    {
     "name": "stdout",
     "output_type": "stream",
     "text": [
      "成功グループの平均:3500.4776119402986\n",
      "失敗グループの平均:2632.9761904761904\n",
      "成功グループの中央値:3026.0\n",
      "失敗グループの中央値:2402.5\n"
     ]
    }
   ],
   "source": [
    "print(\"成功グループの平均:{}\".format(livestock.loc[livestock['target']==1,'文字数'].mean()))\n",
    "print(\"失敗グループの平均:{}\".format(livestock.loc[livestock['target']==0,'文字数'].mean()))\n",
    "print(\"成功グループの中央値:{}\".format(livestock.loc[livestock['target']==1,'文字数'].median()))\n",
    "print(\"失敗グループの中央値:{}\".format(livestock.loc[livestock['target']==0,'文字数'].median()))"
   ]
  },
  {
   "cell_type": "markdown",
   "metadata": {},
   "source": [
    "#### 活動報告回数"
   ]
  },
  {
   "cell_type": "code",
   "execution_count": 28,
   "metadata": {},
   "outputs": [
    {
     "name": "stdout",
     "output_type": "stream",
     "text": [
      "max:58 min:0\n"
     ]
    }
   ],
   "source": [
    "print(\"max:{} min:{}\".format(livestock[\"活動報告回数\"].max(),livestock[\"活動報告回数\"].min()))"
   ]
  },
  {
   "cell_type": "code",
   "execution_count": 29,
   "metadata": {},
   "outputs": [
    {
     "data": {
      "text/plain": [
       "<matplotlib.legend.Legend at 0x7fc8616b24f0>"
      ]
     },
     "execution_count": 29,
     "metadata": {},
     "output_type": "execute_result"
    },
    {
     "data": {
      "image/png": "[encoded data removed]",
      "text/plain": [
       "<Figure size 750x500 with 1 Axes>"
      ]
     },
     "metadata": {
      "needs_background": "light"
     },
     "output_type": "display_data"
    }
   ],
   "source": [
    "fig = plt.figure(figsize=(15, 10), dpi=50)\n",
    "ax = fig.add_subplot()\n",
    "plt.hist(livestock.loc[livestock['target']==0,'活動報告回数'],range=(0,100),bins=25,alpha=0.5,label='0')\n",
    "plt.hist(livestock.loc[livestock['target']==1,'活動報告回数'],range=(0,100),bins=25,alpha=0.5,label='1')\n",
    "plt.xlabel('report',fontsize=18)\n",
    "plt.ylabel('count',fontsize=18)\n",
    "plt.xticks(fontsize=16)\n",
    "plt.yticks(fontsize=16)\n",
    "plt.legend(title='Success',fontsize=20)"
   ]
  },
  {
   "cell_type": "code",
   "execution_count": 30,
   "metadata": {},
   "outputs": [
    {
     "name": "stdout",
     "output_type": "stream",
     "text": [
      "成功グループの平均:10.91044776119403\n",
      "失敗グループの平均:4.571428571428571\n",
      "成功グループの中央値:7.0\n",
      "失敗グループの中央値:2.0\n"
     ]
    }
   ],
   "source": [
    "print(\"成功グループの平均:{}\".format(livestock.loc[livestock['target']==1,'活動報告回数'].mean()))\n",
    "print(\"失敗グループの平均:{}\".format(livestock.loc[livestock['target']==0,'活動報告回数'].mean()))\n",
    "print(\"成功グループの中央値:{}\".format(livestock.loc[livestock['target']==1,'活動報告回数'].median()))\n",
    "print(\"失敗グループの中央値:{}\".format(livestock.loc[livestock['target']==0,'活動報告回数'].median()))"
   ]
  },
  {
   "cell_type": "markdown",
   "metadata": {},
   "source": [
    "#### リターン種類数"
   ]
  },
  {
   "cell_type": "code",
   "execution_count": 31,
   "metadata": {},
   "outputs": [
    {
     "name": "stdout",
     "output_type": "stream",
     "text": [
      "max:25 min:1\n"
     ]
    }
   ],
   "source": [
    "print(\"max:{} min:{}\".format(livestock[\"リターン種類数\"].max(),livestock[\"リターン種類数\"].min()))"
   ]
  },
  {
   "cell_type": "code",
   "execution_count": 32,
   "metadata": {},
   "outputs": [
    {
     "data": {
      "text/plain": [
       "<matplotlib.legend.Legend at 0x7fc861691190>"
      ]
     },
     "execution_count": 32,
     "metadata": {},
     "output_type": "execute_result"
    },
    {
     "data": {
      "image/png": "[encoded data removed]",
      "text/plain": [
       "<Figure size 750x500 with 1 Axes>"
      ]
     },
     "metadata": {
      "needs_background": "light"
     },
     "output_type": "display_data"
    }
   ],
   "source": [
    "fig = plt.figure(figsize=(15, 10), dpi=50)\n",
    "ax = fig.add_subplot()\n",
    "plt.hist(livestock.loc[livestock['target']==0,'リターン種類数'],range=(0,50),bins=25,alpha=0.5,label='0')\n",
    "plt.hist(livestock.loc[livestock['target']==1,'リターン種類数'],range=(0,50),bins=25,alpha=0.5,label='1')\n",
    "plt.xlabel('return',fontsize=18)\n",
    "plt.ylabel('count',fontsize=18)\n",
    "plt.xticks(fontsize=16)\n",
    "plt.yticks(fontsize=16)\n",
    "plt.legend(title='Success',fontsize=20)"
   ]
  },
  {
   "cell_type": "code",
   "execution_count": 33,
   "metadata": {},
   "outputs": [
    {
     "name": "stdout",
     "output_type": "stream",
     "text": [
      "成功グループの平均:8.776119402985074\n",
      "失敗グループの平均:7.095238095238095\n",
      "成功グループの中央値:7.0\n",
      "失敗グループの中央値:6.0\n"
     ]
    }
   ],
   "source": [
    "print(\"成功グループの平均:{}\".format(livestock.loc[livestock['target']==1,'リターン種類数'].mean()))\n",
    "print(\"失敗グループの平均:{}\".format(livestock.loc[livestock['target']==0,'リターン種類数'].mean()))\n",
    "print(\"成功グループの中央値:{}\".format(livestock.loc[livestock['target']==1,'リターン種類数'].median()))\n",
    "print(\"失敗グループの中央値:{}\".format(livestock.loc[livestock['target']==0,'リターン種類数'].median()))"
   ]
  },
  {
   "cell_type": "markdown",
   "metadata": {},
   "source": [
    "#### 支援額上限"
   ]
  },
  {
   "cell_type": "code",
   "execution_count": 34,
   "metadata": {},
   "outputs": [
    {
     "name": "stdout",
     "output_type": "stream",
     "text": [
      "max:1000000 min:3000\n"
     ]
    }
   ],
   "source": [
    "print(\"max:{} min:{}\".format(livestock[\"支援額上限\"].max(),livestock[\"支援額上限\"].min()))"
   ]
  },
  {
   "cell_type": "code",
   "execution_count": 35,
   "metadata": {},
   "outputs": [
    {
     "data": {
      "text/plain": [
       "<matplotlib.legend.Legend at 0x7fc861be6cd0>"
      ]
     },
     "execution_count": 35,
     "metadata": {},
     "output_type": "execute_result"
    },
    {
     "data": {
      "image/png": "[encoded data removed]",
      "text/plain": [
       "<Figure size 750x500 with 1 Axes>"
      ]
     },
     "metadata": {
      "needs_background": "light"
     },
     "output_type": "display_data"
    }
   ],
   "source": [
    "fig = plt.figure(figsize=(15, 10), dpi=50)\n",
    "ax = fig.add_subplot()\n",
    "plt.hist(livestock.loc[livestock['target']==0,'支援額上限'],range=(1000,1000000),bins=50,alpha=0.5,label='0')\n",
    "plt.hist(livestock.loc[livestock['target']==1,'支援額上限'],range=(1000,1000000),bins=50,alpha=0.5,label='1')\n",
    "plt.xlabel('upper_value',fontsize=18)\n",
    "plt.ylabel('count',fontsize=18)\n",
    "plt.xticks(fontsize=16)\n",
    "plt.yticks(fontsize=16)\n",
    "plt.legend(title='Success',fontsize=20)"
   ]
  },
  {
   "cell_type": "code",
   "execution_count": 36,
   "metadata": {},
   "outputs": [
    {
     "name": "stdout",
     "output_type": "stream",
     "text": [
      "成功グループの平均:132330.74626865672\n",
      "失敗グループの平均:158038.38095238095\n",
      "成功グループの中央値:50000.0\n",
      "失敗グループの中央値:40000.0\n"
     ]
    }
   ],
   "source": [
    "print(\"成功グループの平均:{}\".format(livestock.loc[livestock['target']==1,'支援額上限'].mean()))\n",
    "print(\"失敗グループの平均:{}\".format(livestock.loc[livestock['target']==0,'支援額上限'].mean()))\n",
    "print(\"成功グループの中央値:{}\".format(livestock.loc[livestock['target']==1,'支援額上限'].median()))\n",
    "print(\"失敗グループの中央値:{}\".format(livestock.loc[livestock['target']==0,'支援額上限'].median()))"
   ]
  },
  {
   "cell_type": "markdown",
   "metadata": {},
   "source": [
    "#### 支援額下限"
   ]
  },
  {
   "cell_type": "code",
   "execution_count": 37,
   "metadata": {},
   "outputs": [
    {
     "name": "stdout",
     "output_type": "stream",
     "text": [
      "max:13500 min:500\n"
     ]
    }
   ],
   "source": [
    "print(\"max:{} min:{}\".format(livestock[\"支援額下限\"].max(),livestock[\"支援額下限\"].min()))"
   ]
  },
  {
   "cell_type": "code",
   "execution_count": 38,
   "metadata": {},
   "outputs": [
    {
     "data": {
      "text/plain": [
       "<matplotlib.legend.Legend at 0x7fc861ee26d0>"
      ]
     },
     "execution_count": 38,
     "metadata": {},
     "output_type": "execute_result"
    },
    {
     "data": {
      "image/png": "[encoded data removed]",
      "text/plain": [
       "<Figure size 750x500 with 1 Axes>"
      ]
     },
     "metadata": {
      "needs_background": "light"
     },
     "output_type": "display_data"
    }
   ],
   "source": [
    "fig = plt.figure(figsize=(15, 10), dpi=50)\n",
    "ax = fig.add_subplot()\n",
    "plt.hist(livestock.loc[livestock['target']==0,'支援額下限'],range=(500,10000),bins=25,alpha=0.5,label='0')\n",
    "plt.hist(livestock.loc[livestock['target']==1,'支援額下限'],range=(500,10000),bins=25,alpha=0.5,label='1')\n",
    "plt.xlabel('bottom_value',fontsize=18)\n",
    "plt.ylabel('count',fontsize=18)\n",
    "plt.xticks(fontsize=16)\n",
    "plt.yticks(fontsize=16)\n",
    "plt.legend(title='Success',fontsize=20)"
   ]
  },
  {
   "cell_type": "code",
   "execution_count": 39,
   "metadata": {},
   "outputs": [
    {
     "name": "stdout",
     "output_type": "stream",
     "text": [
      "成功グループの平均:3439.1194029850744\n",
      "失敗グループの平均:3523.7380952380954\n",
      "成功グループの中央値:3000.0\n",
      "失敗グループの中央値:3000.0\n"
     ]
    }
   ],
   "source": [
    "print(\"成功グループの平均:{}\".format(livestock.loc[livestock['target']==1,'支援額下限'].mean()))\n",
    "print(\"失敗グループの平均:{}\".format(livestock.loc[livestock['target']==0,'支援額下限'].mean()))\n",
    "print(\"成功グループの中央値:{}\".format(livestock.loc[livestock['target']==1,'支援額下限'].median()))\n",
    "print(\"失敗グループの中央値:{}\".format(livestock.loc[livestock['target']==0,'支援額下限'].median()))"
   ]
  },
  {
   "cell_type": "markdown",
   "metadata": {},
   "source": [
    "#### 最高支援額"
   ]
  },
  {
   "cell_type": "code",
   "execution_count": 40,
   "metadata": {},
   "outputs": [
    {
     "name": "stdout",
     "output_type": "stream",
     "text": [
      "max:1000000 min:0\n"
     ]
    }
   ],
   "source": [
    "print(\"max:{} min:{}\".format(livestock[\"最高支援額\"].max(),livestock[\"最低支援額\"].min()))"
   ]
  },
  {
   "cell_type": "code",
   "execution_count": 41,
   "metadata": {},
   "outputs": [
    {
     "data": {
      "text/plain": [
       "<matplotlib.legend.Legend at 0x7fc86210a850>"
      ]
     },
     "execution_count": 41,
     "metadata": {},
     "output_type": "execute_result"
    },
    {
     "data": {
      "image/png": "[encoded data removed]",
      "text/plain": [
       "<Figure size 750x500 with 1 Axes>"
      ]
     },
     "metadata": {
      "needs_background": "light"
     },
     "output_type": "display_data"
    }
   ],
   "source": [
    "fig = plt.figure(figsize=(15, 10), dpi=50)\n",
    "ax = fig.add_subplot()\n",
    "plt.hist(livestock.loc[livestock['target']==0,'最高支援額'],range=(0,400000),bins=25,alpha=0.5,label='0')\n",
    "plt.hist(livestock.loc[livestock['target']==1,'最高支援額'],range=(0,400000),bins=25,alpha=0.5,label='1')\n",
    "plt.xlabel('max_value',fontsize=18)\n",
    "plt.ylabel('count',fontsize=18)\n",
    "plt.xticks(fontsize=16)\n",
    "plt.yticks(fontsize=16)\n",
    "plt.legend(title='Success',fontsize=20)"
   ]
  },
  {
   "cell_type": "code",
   "execution_count": 42,
   "metadata": {},
   "outputs": [
    {
     "name": "stdout",
     "output_type": "stream",
     "text": [
      "成功グループの平均:101453.13432835821\n",
      "失敗グループの平均:37812.19047619047\n",
      "成功グループの中央値:50000.0\n",
      "失敗グループの中央値:17500.0\n"
     ]
    }
   ],
   "source": [
    "print(\"成功グループの平均:{}\".format(livestock.loc[livestock['target']==1,'最高支援額'].mean()))\n",
    "print(\"失敗グループの平均:{}\".format(livestock.loc[livestock['target']==0,'最高支援額'].mean()))\n",
    "print(\"成功グループの中央値:{}\".format(livestock.loc[livestock['target']==1,'最高支援額'].median()))\n",
    "print(\"失敗グループの中央値:{}\".format(livestock.loc[livestock['target']==0,'最高支援額'].median()))"
   ]
  },
  {
   "cell_type": "markdown",
   "metadata": {},
   "source": [
    "#### 最低支援額"
   ]
  },
  {
   "cell_type": "code",
   "execution_count": 43,
   "metadata": {},
   "outputs": [
    {
     "name": "stdout",
     "output_type": "stream",
     "text": [
      "max:13500 min:0\n"
     ]
    }
   ],
   "source": [
    "print(\"max:{} min:{}\".format(livestock[\"最低支援額\"].max(),livestock[\"最低支援額\"].min()))"
   ]
  },
  {
   "cell_type": "code",
   "execution_count": 44,
   "metadata": {},
   "outputs": [
    {
     "data": {
      "text/plain": [
       "<matplotlib.legend.Legend at 0x7fc8622fa550>"
      ]
     },
     "execution_count": 44,
     "metadata": {},
     "output_type": "execute_result"
    },
    {
     "data": {
      "image/png": "[encoded data removed]",
      "text/plain": [
       "<Figure size 750x500 with 1 Axes>"
      ]
     },
     "metadata": {
      "needs_background": "light"
     },
     "output_type": "display_data"
    }
   ],
   "source": [
    "fig = plt.figure(figsize=(15, 10), dpi=50)\n",
    "ax = fig.add_subplot()\n",
    "plt.hist(livestock.loc[livestock['target']==0,'最高支援額'],range=(0,400000),bins=25,alpha=0.5,label='0')\n",
    "plt.hist(livestock.loc[livestock['target']==1,'最高支援額'],range=(0,400000),bins=25,alpha=0.5,label='1')\n",
    "plt.xlabel('min_value',fontsize=18)\n",
    "plt.ylabel('count',fontsize=18)\n",
    "plt.xticks(fontsize=16)\n",
    "plt.yticks(fontsize=16)\n",
    "plt.legend(title='Success',fontsize=20)"
   ]
  },
  {
   "cell_type": "code",
   "execution_count": 45,
   "metadata": {},
   "outputs": [
    {
     "name": "stdout",
     "output_type": "stream",
     "text": [
      "成功グループの平均:3543.597014925373\n",
      "失敗グループの平均:3678.5\n",
      "成功グループの中央値:3000.0\n",
      "失敗グループの中央値:3000.0\n"
     ]
    }
   ],
   "source": [
    "print(\"成功グループの平均:{}\".format(livestock.loc[livestock['target']==1,'最低支援額'].mean()))\n",
    "print(\"失敗グループの平均:{}\".format(livestock.loc[livestock['target']==0,'最低支援額'].mean()))\n",
    "print(\"成功グループの中央値:{}\".format(livestock.loc[livestock['target']==1,'最低支援額'].median()))\n",
    "print(\"失敗グループの中央値:{}\".format(livestock.loc[livestock['target']==0,'最低支援額'].median()))"
   ]
  },
  {
   "cell_type": "markdown",
   "metadata": {},
   "source": [
    "#### 一人当たり支援額"
   ]
  },
  {
   "cell_type": "code",
   "execution_count": 46,
   "metadata": {},
   "outputs": [
    {
     "name": "stdout",
     "output_type": "stream",
     "text": [
      "max:69895.0 min:0.0\n"
     ]
    }
   ],
   "source": [
    "print(\"max:{} min:{}\".format(livestock[\"一人当たり支援額\"].max(),livestock[\"一人当たり支援額\"].min()))"
   ]
  },
  {
   "cell_type": "code",
   "execution_count": 47,
   "metadata": {},
   "outputs": [
    {
     "data": {
      "text/plain": [
       "<matplotlib.legend.Legend at 0x7fc8624ec910>"
      ]
     },
     "execution_count": 47,
     "metadata": {},
     "output_type": "execute_result"
    },
    {
     "data": {
      "image/png": "[encoded data removed]",
      "text/plain": [
       "<Figure size 750x500 with 1 Axes>"
      ]
     },
     "metadata": {
      "needs_background": "light"
     },
     "output_type": "display_data"
    }
   ],
   "source": [
    "fig = plt.figure(figsize=(15, 10), dpi=50)\n",
    "ax = fig.add_subplot()\n",
    "plt.hist(livestock.loc[livestock['target']==0,'一人当たり支援額'],range=(0,70000),bins=25,alpha=0.5,label='0')\n",
    "plt.hist(livestock.loc[livestock['target']==1,'一人当たり支援額'],range=(0,70000),bins=25,alpha=0.5,label='1')\n",
    "plt.xlabel('value_per_head',fontsize=18)\n",
    "plt.ylabel('count',fontsize=18)\n",
    "plt.xticks(fontsize=16)\n",
    "plt.yticks(fontsize=16)\n",
    "plt.legend(title='Success',fontsize=20)"
   ]
  },
  {
   "cell_type": "code",
   "execution_count": 48,
   "metadata": {},
   "outputs": [
    {
     "name": "stdout",
     "output_type": "stream",
     "text": [
      "成功グループの平均:13693.089552238805\n",
      "失敗グループの平均:8827.261904761905\n",
      "成功グループの中央値:11607.0\n",
      "失敗グループの中央値:8439.0\n"
     ]
    }
   ],
   "source": [
    "print(\"成功グループの平均:{}\".format(livestock.loc[livestock['target']==1,'一人当たり支援額'].mean()))\n",
    "print(\"失敗グループの平均:{}\".format(livestock.loc[livestock['target']==0,'一人当たり支援額'].mean()))\n",
    "print(\"成功グループの中央値:{}\".format(livestock.loc[livestock['target']==1,'一人当たり支援額'].median()))\n",
    "print(\"失敗グループの中央値:{}\".format(livestock.loc[livestock['target']==0,'一人当たり支援額'].median()))"
   ]
  },
  {
   "cell_type": "markdown",
   "metadata": {},
   "source": [
    "#### 返礼品ありの下限"
   ]
  },
  {
   "cell_type": "code",
   "execution_count": 49,
   "metadata": {},
   "outputs": [
    {
     "name": "stdout",
     "output_type": "stream",
     "text": [
      "max:13500 min:1000\n"
     ]
    }
   ],
   "source": [
    "print(\"max:{} min:{}\".format(livestock[\"返礼品ありの下限\"].max(),livestock[\"返礼品ありの下限\"].min()))"
   ]
  },
  {
   "cell_type": "code",
   "execution_count": 50,
   "metadata": {},
   "outputs": [
    {
     "data": {
      "text/plain": [
       "<matplotlib.legend.Legend at 0x7fc8622ab220>"
      ]
     },
     "execution_count": 50,
     "metadata": {},
     "output_type": "execute_result"
    },
    {
     "data": {
      "image/png": "[encoded data removed]",
      "text/plain": [
       "<Figure size 750x500 with 1 Axes>"
      ]
     },
     "metadata": {
      "needs_background": "light"
     },
     "output_type": "display_data"
    }
   ],
   "source": [
    "fig = plt.figure(figsize=(15, 10), dpi=50)\n",
    "ax = fig.add_subplot()\n",
    "plt.hist(livestock.loc[livestock['target']==0,'返礼品ありの下限'],range=(0,10000),bins=25,alpha=0.5,label='0')\n",
    "plt.hist(livestock.loc[livestock['target']==1,'返礼品ありの下限'],range=(0,10000),bins=25,alpha=0.5,label='1')\n",
    "plt.xlabel('word',fontsize=18)\n",
    "plt.ylabel('count',fontsize=18)\n",
    "plt.xticks(fontsize=16)\n",
    "plt.yticks(fontsize=16)\n",
    "plt.legend(title='Success',fontsize=20)"
   ]
  },
  {
   "cell_type": "code",
   "execution_count": 51,
   "metadata": {},
   "outputs": [
    {
     "name": "stdout",
     "output_type": "stream",
     "text": [
      "成功グループの平均:4327.179104477612\n",
      "失敗グループの平均:4185.642857142857\n",
      "成功グループの中央値:3000.0\n",
      "失敗グループの中央値:3000.0\n"
     ]
    }
   ],
   "source": [
    "print(\"成功グループの平均:{}\".format(livestock.loc[livestock['target']==1,'返礼品ありの下限'].mean()))\n",
    "print(\"失敗グループの平均:{}\".format(livestock.loc[livestock['target']==0,'返礼品ありの下限'].mean()))\n",
    "print(\"成功グループの中央値:{}\".format(livestock.loc[livestock['target']==1,'返礼品ありの下限'].median()))\n",
    "print(\"失敗グループの中央値:{}\".format(livestock.loc[livestock['target']==0,'返礼品ありの下限'].median()))"
   ]
  },
  {
   "cell_type": "markdown",
   "metadata": {},
   "source": [
    "#### 最高額支援ダミー"
   ]
  },
  {
   "cell_type": "code",
   "execution_count": 52,
   "metadata": {},
   "outputs": [
    {
     "data": {
      "text/plain": [
       "<matplotlib.legend.Legend at 0x7fc8626f6910>"
      ]
     },
     "execution_count": 52,
     "metadata": {},
     "output_type": "execute_result"
    },
    {
     "data": {
      "image/png": "[encoded data removed]",
      "text/plain": [
       "<Figure size 750x500 with 1 Axes>"
      ]
     },
     "metadata": {
      "needs_background": "light"
     },
     "output_type": "display_data"
    }
   ],
   "source": [
    "fig = plt.figure(figsize=(15, 10), dpi=50)\n",
    "ax = fig.add_subplot()\n",
    "sns.countplot(x='最高額支援ダミー',hue='target',data=livestock)\n",
    "plt.xlabel('dummy',fontsize=18)\n",
    "plt.ylabel('count',fontsize=18)\n",
    "plt.xticks(fontsize=16)\n",
    "plt.yticks(fontsize=16)\n",
    "plt.legend(title='Success',fontsize=20)"
   ]
  },
  {
   "cell_type": "code",
   "execution_count": 53,
   "metadata": {},
   "outputs": [
    {
     "name": "stdout",
     "output_type": "stream",
     "text": [
      "ダミー変数が1になる割合:0.7247706422018348\n"
     ]
    }
   ],
   "source": [
    "dummy = livestock[\"最高額支援ダミー\"].sum() / len(livestock[\"最高額支援ダミー\"])\n",
    "print(\"ダミー変数が1になる割合:{}\".format(dummy))"
   ]
  },
  {
   "cell_type": "code",
   "execution_count": 54,
   "metadata": {},
   "outputs": [
    {
     "name": "stdout",
     "output_type": "stream",
     "text": [
      "成功グループの割合:0.8805970149253731\n",
      "失敗グループの割合:0.47619047619047616\n"
     ]
    }
   ],
   "source": [
    "print(\"成功グループの割合:{}\".format(livestock.loc[livestock['target']==1,'最高額支援ダミー'].sum() / len(livestock.loc[livestock['target']==1])))\n",
    "print(\"失敗グループの割合:{}\".format(livestock.loc[livestock['target']==0,'最高額支援ダミー'].sum() / len(livestock.loc[livestock['target']==0])))"
   ]
  },
  {
   "cell_type": "markdown",
   "metadata": {},
   "source": [
    "#### 最低額返礼品ダミー"
   ]
  },
  {
   "cell_type": "code",
   "execution_count": 55,
   "metadata": {},
   "outputs": [
    {
     "data": {
      "text/plain": [
       "<matplotlib.legend.Legend at 0x7fc862965f10>"
      ]
     },
     "execution_count": 55,
     "metadata": {},
     "output_type": "execute_result"
    },
    {
     "data": {
      "image/png": "[encoded data removed]",
      "text/plain": [
       "<Figure size 750x500 with 1 Axes>"
      ]
     },
     "metadata": {
      "needs_background": "light"
     },
     "output_type": "display_data"
    }
   ],
   "source": [
    "fig = plt.figure(figsize=(15, 10), dpi=50)\n",
    "ax = fig.add_subplot()\n",
    "sns.countplot(x='最低額返礼品ダミー',hue='target',data=livestock)\n",
    "plt.xlabel('dummy',fontsize=18)\n",
    "plt.ylabel('count',fontsize=18)\n",
    "plt.xticks(fontsize=16)\n",
    "plt.yticks(fontsize=16)\n",
    "plt.legend(title='Success',fontsize=20)"
   ]
  },
  {
   "cell_type": "code",
   "execution_count": 56,
   "metadata": {},
   "outputs": [
    {
     "name": "stdout",
     "output_type": "stream",
     "text": [
      "ダミー変数が1になる割合:0.7706422018348624\n"
     ]
    }
   ],
   "source": [
    "dummy = livestock[\"最低額返礼品ダミー\"].sum() / len(livestock[\"最低額返礼品ダミー\"])\n",
    "print(\"ダミー変数が1になる割合:{}\".format(dummy))"
   ]
  },
  {
   "cell_type": "code",
   "execution_count": 57,
   "metadata": {},
   "outputs": [
    {
     "name": "stdout",
     "output_type": "stream",
     "text": [
      "成功グループの割合:0.7910447761194029\n",
      "失敗グループの割合:0.7380952380952381\n"
     ]
    }
   ],
   "source": [
    "print(\"成功グループの割合:{}\".format(livestock.loc[livestock['target']==1,'最低額返礼品ダミー'].sum() / len(livestock.loc[livestock['target']==1])))\n",
    "print(\"失敗グループの割合:{}\".format(livestock.loc[livestock['target']==0,'最低額返礼品ダミー'].sum() / len(livestock.loc[livestock['target']==0])))"
   ]
  },
  {
   "cell_type": "markdown",
   "metadata": {},
   "source": [
    "#### 自然災害ダミー"
   ]
  },
  {
   "cell_type": "code",
   "execution_count": 58,
   "metadata": {},
   "outputs": [
    {
     "data": {
      "text/plain": [
       "<matplotlib.legend.Legend at 0x7fc8629c5fd0>"
      ]
     },
     "execution_count": 58,
     "metadata": {},
     "output_type": "execute_result"
    },
    {
     "data": {
      "image/png": "[encoded data removed]",
      "text/plain": [
       "<Figure size 750x500 with 1 Axes>"
      ]
     },
     "metadata": {
      "needs_background": "light"
     },
     "output_type": "display_data"
    }
   ],
   "source": [
    "fig = plt.figure(figsize=(15, 10), dpi=50)\n",
    "ax = fig.add_subplot()\n",
    "sns.countplot(x='target',hue='自然災害ダミー',data=livestock)\n",
    "plt.xlabel('dummy',fontsize=18)\n",
    "plt.ylabel('count',fontsize=18)\n",
    "plt.xticks(fontsize=16)\n",
    "plt.yticks(fontsize=16)\n",
    "plt.legend(title='Success',fontsize=20)"
   ]
  },
  {
   "cell_type": "code",
   "execution_count": 59,
   "metadata": {},
   "outputs": [
    {
     "name": "stdout",
     "output_type": "stream",
     "text": [
      "ダミー変数が1になる割合:0.03669724770642202\n"
     ]
    }
   ],
   "source": [
    "dummy = livestock[\"自然災害ダミー\"].sum() / len(livestock[\"自然災害ダミー\"])\n",
    "print(\"ダミー変数が1になる割合:{}\".format(dummy))"
   ]
  },
  {
   "cell_type": "code",
   "execution_count": 60,
   "metadata": {},
   "outputs": [
    {
     "name": "stdout",
     "output_type": "stream",
     "text": [
      "災害グループの成功率:0.25\n",
      "非災害グループの成功率:0.6285714285714286\n"
     ]
    }
   ],
   "source": [
    "print(\"災害グループの成功率:{}\".format(livestock.loc[livestock['自然災害ダミー']==1,'target'].mean()))\n",
    "print(\"非災害グループの成功率:{}\".format(livestock.loc[livestock['自然災害ダミー']==0,'target'].mean()))"
   ]
  }
 ],
 "metadata": {
  "kernelspec": {
   "display_name": "Python 3",
   "language": "python",
   "name": "python3"
  },
  "language_info": {
   "codemirror_mode": {
    "name": "ipython",
    "version": 3
   },
   "file_extension": ".py",
   "mimetype": "text/x-python",
   "name": "python",
   "nbconvert_exporter": "python",
   "pygments_lexer": "ipython3",
   "version": "3.8.5"
  }
 },
 "nbformat": 4,
 "nbformat_minor": 4
}
