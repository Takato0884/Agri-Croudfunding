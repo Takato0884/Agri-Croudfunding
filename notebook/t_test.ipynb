{
 "cells": [
  {
   "cell_type": "code",
   "execution_count": 1,
   "metadata": {},
   "outputs": [],
   "source": [
    "import numpy as np\n",
    "import pandas as pd\n",
    "import matplotlib.pyplot as plt\n",
    "import seaborn as sns"
   ]
  },
  {
   "cell_type": "code",
   "execution_count": 2,
   "metadata": {},
   "outputs": [],
   "source": [
    "#scvファイルの読み込み\n",
    "livestock = pd.read_csv(\"../data/livestock.csv\")\n",
    "cultured = pd.read_csv(\"../data/cultured.csv\")"
   ]
  },
  {
   "cell_type": "code",
   "execution_count": 3,
   "metadata": {},
   "outputs": [],
   "source": [
    "data_pre = pd.concat([livestock,cultured],sort=False)\n",
    "data = data_pre.reset_index(drop=True)"
   ]
  },
  {
   "cell_type": "code",
   "execution_count": 4,
   "metadata": {
    "scrolled": true
   },
   "outputs": [
    {
     "name": "stderr",
     "output_type": "stream",
     "text": [
      "<ipython-input-4-c46add677b41>:15: SettingWithCopyWarning: \n",
      "A value is trying to be set on a copy of a slice from a DataFrame\n",
      "\n",
      "See the caveats in the documentation: https://pandas.pydata.org/pandas-docs/stable/user_guide/indexing.html#returning-a-view-versus-a-copy\n",
      "  data[\"自然災害ダミー\"][i] = 1\n",
      "<ipython-input-4-c46add677b41>:19: SettingWithCopyWarning: \n",
      "A value is trying to be set on a copy of a slice from a DataFrame\n",
      "\n",
      "See the caveats in the documentation: https://pandas.pydata.org/pandas-docs/stable/user_guide/indexing.html#returning-a-view-versus-a-copy\n",
      "  data[\"自然災害ダミー\"][i] = 1\n",
      "<ipython-input-4-c46add677b41>:17: SettingWithCopyWarning: \n",
      "A value is trying to be set on a copy of a slice from a DataFrame\n",
      "\n",
      "See the caveats in the documentation: https://pandas.pydata.org/pandas-docs/stable/user_guide/indexing.html#returning-a-view-versus-a-copy\n",
      "  data[\"自然災害ダミー\"][i] = 1\n",
      "<ipython-input-4-c46add677b41>:22: SettingWithCopyWarning: \n",
      "A value is trying to be set on a copy of a slice from a DataFrame\n",
      "\n",
      "See the caveats in the documentation: https://pandas.pydata.org/pandas-docs/stable/user_guide/indexing.html#returning-a-view-versus-a-copy\n",
      "  data[\"畜産ダミー\"][:110] = 1\n",
      "/Users/takato/opt/anaconda3/lib/python3.8/site-packages/pandas/core/indexing.py:670: SettingWithCopyWarning: \n",
      "A value is trying to be set on a copy of a slice from a DataFrame\n",
      "\n",
      "See the caveats in the documentation: https://pandas.pydata.org/pandas-docs/stable/user_guide/indexing.html#returning-a-view-versus-a-copy\n",
      "  iloc._setitem_with_indexer(indexer, value)\n"
     ]
    }
   ],
   "source": [
    "# 新しい説明変数を作成する\n",
    "\n",
    "#一人当たり支援額\n",
    "data[\"一人当たり支援額\"] = round(data[\"支援総額\"]/(data[\"支援者数\"]+1))\n",
    "#最高額支援ダミー:最高支援額と支援額上限が一致するか 0:不一致 1:一致\n",
    "data[\"最高額支援ダミー\"] = 0\n",
    "data.loc[data['最高支援額']==data['支援額上限'],'最高額支援ダミー'] = 1\n",
    "#最低額返礼品ダミー:支援額下限と返礼品ありの下限が一致するか　0:不一致　1:一致\n",
    "data[\"最低額返礼品ダミー\"] = 0\n",
    "data.loc[data['支援額下限']==data['返礼品ありの下限'],'最低額返礼品ダミー'] = 1\n",
    "#自然災害ダミー:災害を示すような言葉が含まれているか\n",
    "data[\"自然災害ダミー\"] = 0\n",
    "for i in range(len(data)):\n",
    "    if \"震災\" in data[\"プロジェクト名\"][i]:\n",
    "        data[\"自然災害ダミー\"][i] = 1\n",
    "    elif \"豪雨\" in data[\"プロジェクト名\"][i]:\n",
    "        data[\"自然災害ダミー\"][i] = 1\n",
    "    elif \"台風\" in data[\"プロジェクト名\"][i]:\n",
    "        data[\"自然災害ダミー\"][i] = 1\n",
    "#畜産ダミー:畜産か耕種か　畜産:1 耕種:0\n",
    "data[\"畜産ダミー\"] = 0\n",
    "data[\"畜産ダミー\"][:110] = 1\n",
    "\n",
    "#target値を作成　0:失敗　1:成功\n",
    "data[\"achievement\"] = data[\"支援総額\"] // data[\"目標金額\"]\n",
    "data[\"target\"] = 0\n",
    "data.loc[data['achievement']>=1,'target'] = 1"
   ]
  },
  {
   "cell_type": "code",
   "execution_count": 5,
   "metadata": {},
   "outputs": [],
   "source": [
    "def hold_out(x,y):\n",
    "    X_train, X_test, y_train, y_test = train_test_split(x,y,test_size=0.2,random_state=42)\n",
    "    model = sm.Logit(y_train, X_train)\n",
    "    results = model.fit()\n",
    "    pred = results.predict(X_test)\n",
    "    result = [1 if i>0.5 else 0 for i in pred]\n",
    "    y_test_re = y_test.reset_index(drop=True)\n",
    "    count=0\n",
    "    for i in range(len(y_test)):\n",
    "        if y_test_re[i] == result[i]:\n",
    "            count+=1\n",
    "    return count/len(y_test)"
   ]
  },
  {
   "cell_type": "markdown",
   "metadata": {},
   "source": [
    "# 全体のデータ"
   ]
  },
  {
   "cell_type": "code",
   "execution_count": 6,
   "metadata": {},
   "outputs": [],
   "source": [
    "delate_col = [\"プロジェクト名\",\"URL\",\"CFP\",\"支援総額\",\"産業\",\"最高支援額\",\"最低支援額\",\"achievement\"\n",
    "              ,\"一人当たり支援額\"]\n",
    "data_del_overall = data.drop(columns=delate_col)"
   ]
  },
  {
   "cell_type": "code",
   "execution_count": 7,
   "metadata": {},
   "outputs": [
    {
     "data": {
      "text/html": [
       "<div>\n",
       "<style scoped>\n",
       "    .dataframe tbody tr th:only-of-type {\n",
       "        vertical-align: middle;\n",
       "    }\n",
       "\n",
       "    .dataframe tbody tr th {\n",
       "        vertical-align: top;\n",
       "    }\n",
       "\n",
       "    .dataframe thead th {\n",
       "        text-align: right;\n",
       "    }\n",
       "</style>\n",
       "<table border=\"1\" class=\"dataframe\">\n",
       "  <thead>\n",
       "    <tr style=\"text-align: right;\">\n",
       "      <th></th>\n",
       "      <th>目標金額</th>\n",
       "      <th>支援者数</th>\n",
       "      <th>画像数</th>\n",
       "      <th>動画数</th>\n",
       "      <th>文字数</th>\n",
       "      <th>活動報告回数</th>\n",
       "      <th>リターン種類数</th>\n",
       "      <th>支援額上限</th>\n",
       "      <th>支援額下限</th>\n",
       "      <th>返礼品ありの下限</th>\n",
       "      <th>最高額支援ダミー</th>\n",
       "      <th>最低額返礼品ダミー</th>\n",
       "      <th>自然災害ダミー</th>\n",
       "      <th>畜産ダミー</th>\n",
       "      <th>target</th>\n",
       "    </tr>\n",
       "  </thead>\n",
       "  <tbody>\n",
       "    <tr>\n",
       "      <th>0</th>\n",
       "      <td>1000000</td>\n",
       "      <td>71</td>\n",
       "      <td>8</td>\n",
       "      <td>0</td>\n",
       "      <td>2566</td>\n",
       "      <td>3</td>\n",
       "      <td>9</td>\n",
       "      <td>50000</td>\n",
       "      <td>5000</td>\n",
       "      <td>5000</td>\n",
       "      <td>1</td>\n",
       "      <td>1</td>\n",
       "      <td>0</td>\n",
       "      <td>1</td>\n",
       "      <td>1</td>\n",
       "    </tr>\n",
       "    <tr>\n",
       "      <th>1</th>\n",
       "      <td>1000000</td>\n",
       "      <td>72</td>\n",
       "      <td>22</td>\n",
       "      <td>0</td>\n",
       "      <td>4010</td>\n",
       "      <td>5</td>\n",
       "      <td>12</td>\n",
       "      <td>100000</td>\n",
       "      <td>3000</td>\n",
       "      <td>3000</td>\n",
       "      <td>1</td>\n",
       "      <td>1</td>\n",
       "      <td>0</td>\n",
       "      <td>1</td>\n",
       "      <td>1</td>\n",
       "    </tr>\n",
       "    <tr>\n",
       "      <th>2</th>\n",
       "      <td>1000000</td>\n",
       "      <td>91</td>\n",
       "      <td>9</td>\n",
       "      <td>1</td>\n",
       "      <td>4244</td>\n",
       "      <td>27</td>\n",
       "      <td>12</td>\n",
       "      <td>100000</td>\n",
       "      <td>5000</td>\n",
       "      <td>5000</td>\n",
       "      <td>1</td>\n",
       "      <td>1</td>\n",
       "      <td>0</td>\n",
       "      <td>1</td>\n",
       "      <td>1</td>\n",
       "    </tr>\n",
       "    <tr>\n",
       "      <th>3</th>\n",
       "      <td>600000</td>\n",
       "      <td>79</td>\n",
       "      <td>10</td>\n",
       "      <td>0</td>\n",
       "      <td>3500</td>\n",
       "      <td>13</td>\n",
       "      <td>5</td>\n",
       "      <td>15000</td>\n",
       "      <td>5000</td>\n",
       "      <td>10000</td>\n",
       "      <td>0</td>\n",
       "      <td>0</td>\n",
       "      <td>0</td>\n",
       "      <td>1</td>\n",
       "      <td>1</td>\n",
       "    </tr>\n",
       "    <tr>\n",
       "      <th>4</th>\n",
       "      <td>1000000</td>\n",
       "      <td>116</td>\n",
       "      <td>18</td>\n",
       "      <td>0</td>\n",
       "      <td>3457</td>\n",
       "      <td>17</td>\n",
       "      <td>6</td>\n",
       "      <td>300000</td>\n",
       "      <td>3000</td>\n",
       "      <td>10000</td>\n",
       "      <td>0</td>\n",
       "      <td>0</td>\n",
       "      <td>1</td>\n",
       "      <td>1</td>\n",
       "      <td>1</td>\n",
       "    </tr>\n",
       "    <tr>\n",
       "      <th>...</th>\n",
       "      <td>...</td>\n",
       "      <td>...</td>\n",
       "      <td>...</td>\n",
       "      <td>...</td>\n",
       "      <td>...</td>\n",
       "      <td>...</td>\n",
       "      <td>...</td>\n",
       "      <td>...</td>\n",
       "      <td>...</td>\n",
       "      <td>...</td>\n",
       "      <td>...</td>\n",
       "      <td>...</td>\n",
       "      <td>...</td>\n",
       "      <td>...</td>\n",
       "      <td>...</td>\n",
       "    </tr>\n",
       "    <tr>\n",
       "      <th>688</th>\n",
       "      <td>150000</td>\n",
       "      <td>11</td>\n",
       "      <td>14</td>\n",
       "      <td>0</td>\n",
       "      <td>1156</td>\n",
       "      <td>3</td>\n",
       "      <td>5</td>\n",
       "      <td>15000</td>\n",
       "      <td>1000</td>\n",
       "      <td>1000</td>\n",
       "      <td>0</td>\n",
       "      <td>1</td>\n",
       "      <td>0</td>\n",
       "      <td>0</td>\n",
       "      <td>0</td>\n",
       "    </tr>\n",
       "    <tr>\n",
       "      <th>689</th>\n",
       "      <td>300000</td>\n",
       "      <td>59</td>\n",
       "      <td>21</td>\n",
       "      <td>0</td>\n",
       "      <td>4608</td>\n",
       "      <td>3</td>\n",
       "      <td>9</td>\n",
       "      <td>120000</td>\n",
       "      <td>500</td>\n",
       "      <td>500</td>\n",
       "      <td>1</td>\n",
       "      <td>1</td>\n",
       "      <td>0</td>\n",
       "      <td>0</td>\n",
       "      <td>1</td>\n",
       "    </tr>\n",
       "    <tr>\n",
       "      <th>690</th>\n",
       "      <td>500000</td>\n",
       "      <td>3</td>\n",
       "      <td>21</td>\n",
       "      <td>0</td>\n",
       "      <td>1320</td>\n",
       "      <td>0</td>\n",
       "      <td>5</td>\n",
       "      <td>48000</td>\n",
       "      <td>6000</td>\n",
       "      <td>6000</td>\n",
       "      <td>0</td>\n",
       "      <td>1</td>\n",
       "      <td>0</td>\n",
       "      <td>0</td>\n",
       "      <td>0</td>\n",
       "    </tr>\n",
       "    <tr>\n",
       "      <th>691</th>\n",
       "      <td>1080000</td>\n",
       "      <td>40</td>\n",
       "      <td>10</td>\n",
       "      <td>0</td>\n",
       "      <td>1870</td>\n",
       "      <td>5</td>\n",
       "      <td>7</td>\n",
       "      <td>108000</td>\n",
       "      <td>5400</td>\n",
       "      <td>5400</td>\n",
       "      <td>1</td>\n",
       "      <td>1</td>\n",
       "      <td>0</td>\n",
       "      <td>0</td>\n",
       "      <td>0</td>\n",
       "    </tr>\n",
       "    <tr>\n",
       "      <th>692</th>\n",
       "      <td>1500000</td>\n",
       "      <td>10</td>\n",
       "      <td>13</td>\n",
       "      <td>0</td>\n",
       "      <td>1313</td>\n",
       "      <td>0</td>\n",
       "      <td>3</td>\n",
       "      <td>50000</td>\n",
       "      <td>5000</td>\n",
       "      <td>5000</td>\n",
       "      <td>0</td>\n",
       "      <td>1</td>\n",
       "      <td>0</td>\n",
       "      <td>0</td>\n",
       "      <td>0</td>\n",
       "    </tr>\n",
       "  </tbody>\n",
       "</table>\n",
       "<p>693 rows × 15 columns</p>\n",
       "</div>"
      ],
      "text/plain": [
       "        目標金額  支援者数  画像数  動画数   文字数  活動報告回数  リターン種類数   支援額上限  支援額下限  返礼品ありの下限  \\\n",
       "0    1000000    71    8    0  2566       3        9   50000   5000      5000   \n",
       "1    1000000    72   22    0  4010       5       12  100000   3000      3000   \n",
       "2    1000000    91    9    1  4244      27       12  100000   5000      5000   \n",
       "3     600000    79   10    0  3500      13        5   15000   5000     10000   \n",
       "4    1000000   116   18    0  3457      17        6  300000   3000     10000   \n",
       "..       ...   ...  ...  ...   ...     ...      ...     ...    ...       ...   \n",
       "688   150000    11   14    0  1156       3        5   15000   1000      1000   \n",
       "689   300000    59   21    0  4608       3        9  120000    500       500   \n",
       "690   500000     3   21    0  1320       0        5   48000   6000      6000   \n",
       "691  1080000    40   10    0  1870       5        7  108000   5400      5400   \n",
       "692  1500000    10   13    0  1313       0        3   50000   5000      5000   \n",
       "\n",
       "     最高額支援ダミー  最低額返礼品ダミー  自然災害ダミー  畜産ダミー  target  \n",
       "0           1          1        0      1       1  \n",
       "1           1          1        0      1       1  \n",
       "2           1          1        0      1       1  \n",
       "3           0          0        0      1       1  \n",
       "4           0          0        1      1       1  \n",
       "..        ...        ...      ...    ...     ...  \n",
       "688         0          1        0      0       0  \n",
       "689         1          1        0      0       1  \n",
       "690         0          1        0      0       0  \n",
       "691         1          1        0      0       0  \n",
       "692         0          1        0      0       0  \n",
       "\n",
       "[693 rows x 15 columns]"
      ]
     },
     "execution_count": 7,
     "metadata": {},
     "output_type": "execute_result"
    }
   ],
   "source": [
    "data_del_overall"
   ]
  },
  {
   "cell_type": "code",
   "execution_count": 8,
   "metadata": {},
   "outputs": [],
   "source": [
    "from sklearn.linear_model import LogisticRegression\n",
    "from sklearn.model_selection import train_test_split\n",
    "from sklearn.model_selection import cross_val_score\n",
    "from sklearn.model_selection import StratifiedKFold\n",
    "stratifiedfold = StratifiedKFold(n_splits=5)"
   ]
  },
  {
   "cell_type": "code",
   "execution_count": 9,
   "metadata": {},
   "outputs": [],
   "source": [
    "y_overall = data_del_overall[\"target\"]\n",
    "x_overall = data_del_overall.drop(\"target\",axis=1)"
   ]
  },
  {
   "cell_type": "code",
   "execution_count": 10,
   "metadata": {},
   "outputs": [],
   "source": [
    "# logreg = LogisticRegression()\n",
    "# scores = cross_val_score(logreg,x,y,cv=stratifiedfold)\n",
    "# print(f'LogisticRegression:{scores.mean()}')"
   ]
  },
  {
   "cell_type": "code",
   "execution_count": 18,
   "metadata": {},
   "outputs": [
    {
     "name": "stdout",
     "output_type": "stream",
     "text": [
      "Optimization terminated successfully.\n",
      "         Current function value: 0.336265\n",
      "         Iterations 9\n"
     ]
    },
    {
     "data": {
      "text/plain": [
       "0.8273381294964028"
      ]
     },
     "execution_count": 18,
     "metadata": {},
     "output_type": "execute_result"
    }
   ],
   "source": [
    "hold_out(x_overall,y_overall)"
   ]
  },
  {
   "cell_type": "code",
   "execution_count": 11,
   "metadata": {
    "scrolled": true
   },
   "outputs": [
    {
     "name": "stdout",
     "output_type": "stream",
     "text": [
      "Optimization terminated successfully.\n",
      "         Current function value: 0.319460\n",
      "         Iterations 9\n",
      "                           Logit Regression Results                           \n",
      "==============================================================================\n",
      "Dep. Variable:                 target   No. Observations:                  693\n",
      "Model:                          Logit   Df Residuals:                      678\n",
      "Method:                           MLE   Df Model:                           14\n",
      "Date:                Wed, 23 Dec 2020   Pseudo R-squ.:                  0.5382\n",
      "Time:                        18:43:41   Log-Likelihood:                -221.39\n",
      "converged:                       True   LL-Null:                       -479.36\n",
      "Covariance Type:            nonrobust   LLR p-value:                3.840e-101\n",
      "==============================================================================\n",
      "                 coef    std err          z      P>|z|      [0.025      0.975]\n",
      "------------------------------------------------------------------------------\n",
      "const         -2.9414      0.489     -6.020      0.000      -3.899      -1.984\n",
      "目標金額       -1.971e-06    2.1e-07     -9.384      0.000   -2.38e-06   -1.56e-06\n",
      "支援者数           0.0357      0.004      9.457      0.000       0.028       0.043\n",
      "画像数           -0.0151      0.015     -1.000      0.317      -0.045       0.015\n",
      "動画数            0.0753      0.193      0.389      0.697      -0.304       0.454\n",
      "文字数            0.0002      0.000      2.208      0.027     2.5e-05       0.000\n",
      "活動報告回数         0.0807      0.019      4.284      0.000       0.044       0.118\n",
      "リターン種類数        0.0283      0.030      0.958      0.338      -0.030       0.086\n",
      "支援額上限       8.125e-07   5.84e-07      1.392      0.164   -3.32e-07    1.96e-06\n",
      "支援額下限          0.0001    7.7e-05      1.321      0.186   -4.91e-05       0.000\n",
      "返礼品ありの下限    4.143e-05    3.2e-05      1.296      0.195   -2.12e-05       0.000\n",
      "最高額支援ダミー       1.4692      0.277      5.308      0.000       0.927       2.012\n",
      "最低額返礼品ダミー      0.0474      0.306      0.155      0.877      -0.552       0.646\n",
      "自然災害ダミー       -0.1608      0.631     -0.255      0.799      -1.398       1.076\n",
      "畜産ダミー         -0.2976      0.335     -0.888      0.374      -0.954       0.359\n",
      "==============================================================================\n"
     ]
    }
   ],
   "source": [
    "import statsmodels.api as sm\n",
    "X_overall = sm.add_constant(x_overall)\n",
    "model = sm.Logit(y_overall, X_overall)\n",
    "results = model.fit()\n",
    "print(results.summary())"
   ]
  },
  {
   "cell_type": "markdown",
   "metadata": {},
   "source": [
    "# 耕種農業"
   ]
  },
  {
   "cell_type": "code",
   "execution_count": 12,
   "metadata": {},
   "outputs": [],
   "source": [
    "delate_col = [\"プロジェクト名\",\"URL\",\"CFP\",\"支援総額\",\"産業\",\"最高支援額\",\"最低支援額\",\"achievement\"\n",
    "              ,\"一人当たり支援額\",\"畜産ダミー\"]\n",
    "data_delate_liv_dummy = data.drop(columns=delate_col)"
   ]
  },
  {
   "cell_type": "code",
   "execution_count": 13,
   "metadata": {},
   "outputs": [],
   "source": [
    "livestock = data_delate_liv_dummy[:109]\n",
    "cultured = data_delate_liv_dummy[109:]"
   ]
  },
  {
   "cell_type": "code",
   "execution_count": 14,
   "metadata": {},
   "outputs": [],
   "source": [
    "y_cultured = cultured[\"target\"]\n",
    "x_cultured = cultured.drop(\"target\",axis=1)"
   ]
  },
  {
   "cell_type": "code",
   "execution_count": 20,
   "metadata": {},
   "outputs": [
    {
     "name": "stdout",
     "output_type": "stream",
     "text": [
      "Optimization terminated successfully.\n",
      "         Current function value: 0.303238\n",
      "         Iterations 9\n"
     ]
    },
    {
     "data": {
      "text/plain": [
       "0.8888888888888888"
      ]
     },
     "execution_count": 20,
     "metadata": {},
     "output_type": "execute_result"
    }
   ],
   "source": [
    "hold_out(x_cultured,y_cultured)"
   ]
  },
  {
   "cell_type": "code",
   "execution_count": 15,
   "metadata": {},
   "outputs": [
    {
     "name": "stdout",
     "output_type": "stream",
     "text": [
      "Optimization terminated successfully.\n",
      "         Current function value: 0.302751\n",
      "         Iterations 9\n",
      "                           Logit Regression Results                           \n",
      "==============================================================================\n",
      "Dep. Variable:                 target   No. Observations:                  584\n",
      "Model:                          Logit   Df Residuals:                      570\n",
      "Method:                           MLE   Df Model:                           13\n",
      "Date:                Wed, 23 Dec 2020   Pseudo R-squ.:                  0.5631\n",
      "Time:                        18:43:41   Log-Likelihood:                -176.81\n",
      "converged:                       True   LL-Null:                       -404.67\n",
      "Covariance Type:            nonrobust   LLR p-value:                 3.603e-89\n",
      "==============================================================================\n",
      "                 coef    std err          z      P>|z|      [0.025      0.975]\n",
      "------------------------------------------------------------------------------\n",
      "const         -2.8385      0.536     -5.292      0.000      -3.890      -1.787\n",
      "目標金額       -2.288e-06   2.78e-07     -8.242      0.000   -2.83e-06   -1.74e-06\n",
      "支援者数           0.0411      0.005      8.634      0.000       0.032       0.050\n",
      "画像数           -0.0168      0.017     -1.001      0.317      -0.050       0.016\n",
      "動画数            0.2950      0.207      1.425      0.154      -0.111       0.701\n",
      "文字数            0.0002      0.000      1.443      0.149   -5.73e-05       0.000\n",
      "活動報告回数         0.0826      0.022      3.675      0.000       0.039       0.127\n",
      "リターン種類数        0.0256      0.032      0.789      0.430      -0.038       0.089\n",
      "支援額上限       8.786e-07   6.23e-07      1.410      0.159   -3.43e-07     2.1e-06\n",
      "支援額下限          0.0001   8.69e-05      1.672      0.095   -2.51e-05       0.000\n",
      "返礼品ありの下限    3.702e-05   3.35e-05      1.105      0.269   -2.87e-05       0.000\n",
      "最高額支援ダミー       1.4354      0.310      4.628      0.000       0.827       2.043\n",
      "最低額返礼品ダミー     -0.0298      0.341     -0.087      0.930      -0.698       0.638\n",
      "自然災害ダミー       -0.0959      0.688     -0.139      0.889      -1.444       1.253\n",
      "==============================================================================\n"
     ]
    }
   ],
   "source": [
    "X_cultured = sm.add_constant(x_cultured)\n",
    "model = sm.Logit(y_cultured, X_cultured)\n",
    "results = model.fit()\n",
    "print(results.summary())"
   ]
  },
  {
   "cell_type": "markdown",
   "metadata": {},
   "source": [
    "# 畜産"
   ]
  },
  {
   "cell_type": "code",
   "execution_count": 16,
   "metadata": {},
   "outputs": [],
   "source": [
    "y_livestock = livestock[\"target\"]\n",
    "x_livestock = livestock.drop(\"target\",axis=1)"
   ]
  },
  {
   "cell_type": "code",
   "execution_count": 21,
   "metadata": {},
   "outputs": [
    {
     "name": "stdout",
     "output_type": "stream",
     "text": [
      "Warning: Maximum number of iterations has been exceeded.\n",
      "         Current function value: 0.366023\n",
      "         Iterations: 35\n"
     ]
    },
    {
     "name": "stderr",
     "output_type": "stream",
     "text": [
      "/Users/takato/opt/anaconda3/lib/python3.8/site-packages/statsmodels/base/model.py:566: ConvergenceWarning: Maximum Likelihood optimization failed to converge. Check mle_retvals\n",
      "  warnings.warn(\"Maximum Likelihood optimization failed to \"\n"
     ]
    },
    {
     "data": {
      "text/plain": [
       "0.7727272727272727"
      ]
     },
     "execution_count": 21,
     "metadata": {},
     "output_type": "execute_result"
    }
   ],
   "source": [
    "hold_out(x_livestock,y_livestock)"
   ]
  },
  {
   "cell_type": "code",
   "execution_count": 17,
   "metadata": {},
   "outputs": [
    {
     "name": "stdout",
     "output_type": "stream",
     "text": [
      "Optimization terminated successfully.\n",
      "         Current function value: 0.264417\n",
      "         Iterations 10\n",
      "                           Logit Regression Results                           \n",
      "==============================================================================\n",
      "Dep. Variable:                 target   No. Observations:                  109\n",
      "Model:                          Logit   Df Residuals:                       95\n",
      "Method:                           MLE   Df Model:                           13\n",
      "Date:                Wed, 23 Dec 2020   Pseudo R-squ.:                  0.6033\n",
      "Time:                        18:43:41   Log-Likelihood:                -28.821\n",
      "converged:                       True   LL-Null:                       -72.660\n",
      "Covariance Type:            nonrobust   LLR p-value:                 3.879e-13\n",
      "==============================================================================\n",
      "                 coef    std err          z      P>|z|      [0.025      0.975]\n",
      "------------------------------------------------------------------------------\n",
      "const        -11.8033      3.500     -3.372      0.001     -18.664      -4.943\n",
      "目標金額       -1.616e-06   4.19e-07     -3.859      0.000   -2.44e-06   -7.95e-07\n",
      "支援者数           0.0241      0.007      3.509      0.000       0.011       0.038\n",
      "画像数           -0.0387      0.054     -0.711      0.477      -0.145       0.068\n",
      "動画数           -1.1799      0.627     -1.881      0.060      -2.409       0.050\n",
      "文字数            0.0014      0.000      2.819      0.005       0.000       0.002\n",
      "活動報告回数         0.0396      0.046      0.856      0.392      -0.051       0.130\n",
      "リターン種類数        0.1537      0.113      1.363      0.173      -0.067       0.375\n",
      "支援額上限       3.394e-06   1.84e-06      1.844      0.065   -2.13e-07       7e-06\n",
      "支援額下限         -0.0012      0.001     -1.908      0.056      -0.002    3.26e-05\n",
      "返礼品ありの下限       0.0011      0.001      1.865      0.062   -5.72e-05       0.002\n",
      "最高額支援ダミー       4.1605      1.242      3.349      0.001       1.726       6.595\n",
      "最低額返礼品ダミー      4.0860      2.155      1.897      0.058      -0.137       8.309\n",
      "自然災害ダミー       -0.5941      3.679     -0.161      0.872      -7.805       6.617\n",
      "==============================================================================\n"
     ]
    }
   ],
   "source": [
    "X_livestock = sm.add_constant(x_livestock)\n",
    "model = sm.Logit(y_livestock, X_livestock)\n",
    "results = model.fit()\n",
    "print(results.summary())"
   ]
  }
 ],
 "metadata": {
  "kernelspec": {
   "display_name": "Python 3",
   "language": "python",
   "name": "python3"
  },
  "language_info": {
   "codemirror_mode": {
    "name": "ipython",
    "version": 3
   },
   "file_extension": ".py",
   "mimetype": "text/x-python",
   "name": "python",
   "nbconvert_exporter": "python",
   "pygments_lexer": "ipython3",
   "version": "3.8.5"
  }
 },
 "nbformat": 4,
 "nbformat_minor": 2
}
