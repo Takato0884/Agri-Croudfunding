{
 "cells": [
  {
   "cell_type": "markdown",
   "metadata": {},
   "source": [
    "# 前処理"
   ]
  },
  {
   "cell_type": "code",
   "execution_count": 1,
   "metadata": {},
   "outputs": [],
   "source": [
    "import numpy as np\n",
    "import pandas as pd\n",
    "import matplotlib.pyplot as plt\n",
    "import seaborn as sns\n",
    "from sklearn.model_selection import train_test_split\n",
    "from sklearn.model_selection import StratifiedKFold"
   ]
  },
  {
   "cell_type": "code",
   "execution_count": 2,
   "metadata": {},
   "outputs": [],
   "source": [
    "#scvファイルの読み込み\n",
    "livestock = pd.read_csv(\"../data/livestock.csv\")\n",
    "cultured = pd.read_csv(\"../data/cultured.csv\")"
   ]
  },
  {
   "cell_type": "code",
   "execution_count": 3,
   "metadata": {},
   "outputs": [],
   "source": [
    "data_pre = pd.concat([livestock,cultured],sort=False)\n",
    "data = data_pre.reset_index(drop=True)"
   ]
  },
  {
   "cell_type": "code",
   "execution_count": 4,
   "metadata": {},
   "outputs": [
    {
     "name": "stderr",
     "output_type": "stream",
     "text": [
      "<ipython-input-4-c46add677b41>:15: SettingWithCopyWarning: \n",
      "A value is trying to be set on a copy of a slice from a DataFrame\n",
      "\n",
      "See the caveats in the documentation: https://pandas.pydata.org/pandas-docs/stable/user_guide/indexing.html#returning-a-view-versus-a-copy\n",
      "  data[\"自然災害ダミー\"][i] = 1\n",
      "<ipython-input-4-c46add677b41>:19: SettingWithCopyWarning: \n",
      "A value is trying to be set on a copy of a slice from a DataFrame\n",
      "\n",
      "See the caveats in the documentation: https://pandas.pydata.org/pandas-docs/stable/user_guide/indexing.html#returning-a-view-versus-a-copy\n",
      "  data[\"自然災害ダミー\"][i] = 1\n",
      "<ipython-input-4-c46add677b41>:17: SettingWithCopyWarning: \n",
      "A value is trying to be set on a copy of a slice from a DataFrame\n",
      "\n",
      "See the caveats in the documentation: https://pandas.pydata.org/pandas-docs/stable/user_guide/indexing.html#returning-a-view-versus-a-copy\n",
      "  data[\"自然災害ダミー\"][i] = 1\n",
      "<ipython-input-4-c46add677b41>:22: SettingWithCopyWarning: \n",
      "A value is trying to be set on a copy of a slice from a DataFrame\n",
      "\n",
      "See the caveats in the documentation: https://pandas.pydata.org/pandas-docs/stable/user_guide/indexing.html#returning-a-view-versus-a-copy\n",
      "  data[\"畜産ダミー\"][:110] = 1\n",
      "/Users/takato/opt/anaconda3/lib/python3.8/site-packages/pandas/core/indexing.py:670: SettingWithCopyWarning: \n",
      "A value is trying to be set on a copy of a slice from a DataFrame\n",
      "\n",
      "See the caveats in the documentation: https://pandas.pydata.org/pandas-docs/stable/user_guide/indexing.html#returning-a-view-versus-a-copy\n",
      "  iloc._setitem_with_indexer(indexer, value)\n"
     ]
    }
   ],
   "source": [
    "# 新しい説明変数を作成する\n",
    "\n",
    "#一人当たり支援額\n",
    "data[\"一人当たり支援額\"] = round(data[\"支援総額\"]/(data[\"支援者数\"]+1))\n",
    "#最高額支援ダミー:最高支援額と支援額上限が一致するか 0:不一致 1:一致\n",
    "data[\"最高額支援ダミー\"] = 0\n",
    "data.loc[data['最高支援額']==data['支援額上限'],'最高額支援ダミー'] = 1\n",
    "#最低額返礼品ダミー:支援額下限と返礼品ありの下限が一致するか　0:不一致　1:一致\n",
    "data[\"最低額返礼品ダミー\"] = 0\n",
    "data.loc[data['支援額下限']==data['返礼品ありの下限'],'最低額返礼品ダミー'] = 1\n",
    "#自然災害ダミー:災害を示すような言葉が含まれているか\n",
    "data[\"自然災害ダミー\"] = 0\n",
    "for i in range(len(data)):\n",
    "    if \"震災\" in data[\"プロジェクト名\"][i]:\n",
    "        data[\"自然災害ダミー\"][i] = 1\n",
    "    elif \"豪雨\" in data[\"プロジェクト名\"][i]:\n",
    "        data[\"自然災害ダミー\"][i] = 1\n",
    "    elif \"台風\" in data[\"プロジェクト名\"][i]:\n",
    "        data[\"自然災害ダミー\"][i] = 1\n",
    "#畜産ダミー:畜産か耕種か　畜産:1 耕種:0\n",
    "data[\"畜産ダミー\"] = 0\n",
    "data[\"畜産ダミー\"][:110] = 1\n",
    "\n",
    "#target値を作成　0:失敗　1:成功\n",
    "data[\"achievement\"] = data[\"支援総額\"] // data[\"目標金額\"]\n",
    "data[\"target\"] = 0\n",
    "data.loc[data['achievement']>=1,'target'] = 1"
   ]
  },
  {
   "cell_type": "code",
   "execution_count": 5,
   "metadata": {},
   "outputs": [],
   "source": [
    "delate_col = [\"プロジェクト名\",\"URL\",\"CFP\",\"支援総額\",\"産業\",\"最高支援額\",\"最低支援額\",\"achievement\"\n",
    "              ,\"一人当たり支援額\"]\n",
    "data = data.drop(columns=delate_col)"
   ]
  },
  {
   "cell_type": "code",
   "execution_count": 6,
   "metadata": {
    "scrolled": true
   },
   "outputs": [
    {
     "data": {
      "text/html": [
       "<div>\n",
       "<style scoped>\n",
       "    .dataframe tbody tr th:only-of-type {\n",
       "        vertical-align: middle;\n",
       "    }\n",
       "\n",
       "    .dataframe tbody tr th {\n",
       "        vertical-align: top;\n",
       "    }\n",
       "\n",
       "    .dataframe thead th {\n",
       "        text-align: right;\n",
       "    }\n",
       "</style>\n",
       "<table border=\"1\" class=\"dataframe\">\n",
       "  <thead>\n",
       "    <tr style=\"text-align: right;\">\n",
       "      <th></th>\n",
       "      <th>目標金額</th>\n",
       "      <th>支援者数</th>\n",
       "      <th>画像数</th>\n",
       "      <th>動画数</th>\n",
       "      <th>文字数</th>\n",
       "      <th>活動報告回数</th>\n",
       "      <th>リターン種類数</th>\n",
       "      <th>支援額上限</th>\n",
       "      <th>支援額下限</th>\n",
       "      <th>返礼品ありの下限</th>\n",
       "      <th>最高額支援ダミー</th>\n",
       "      <th>最低額返礼品ダミー</th>\n",
       "      <th>自然災害ダミー</th>\n",
       "      <th>畜産ダミー</th>\n",
       "      <th>target</th>\n",
       "    </tr>\n",
       "  </thead>\n",
       "  <tbody>\n",
       "    <tr>\n",
       "      <th>0</th>\n",
       "      <td>1000000</td>\n",
       "      <td>71</td>\n",
       "      <td>8</td>\n",
       "      <td>0</td>\n",
       "      <td>2566</td>\n",
       "      <td>3</td>\n",
       "      <td>9</td>\n",
       "      <td>50000</td>\n",
       "      <td>5000</td>\n",
       "      <td>5000</td>\n",
       "      <td>1</td>\n",
       "      <td>1</td>\n",
       "      <td>0</td>\n",
       "      <td>1</td>\n",
       "      <td>1</td>\n",
       "    </tr>\n",
       "    <tr>\n",
       "      <th>1</th>\n",
       "      <td>1000000</td>\n",
       "      <td>72</td>\n",
       "      <td>22</td>\n",
       "      <td>0</td>\n",
       "      <td>4010</td>\n",
       "      <td>5</td>\n",
       "      <td>12</td>\n",
       "      <td>100000</td>\n",
       "      <td>3000</td>\n",
       "      <td>3000</td>\n",
       "      <td>1</td>\n",
       "      <td>1</td>\n",
       "      <td>0</td>\n",
       "      <td>1</td>\n",
       "      <td>1</td>\n",
       "    </tr>\n",
       "    <tr>\n",
       "      <th>2</th>\n",
       "      <td>1000000</td>\n",
       "      <td>91</td>\n",
       "      <td>9</td>\n",
       "      <td>1</td>\n",
       "      <td>4244</td>\n",
       "      <td>27</td>\n",
       "      <td>12</td>\n",
       "      <td>100000</td>\n",
       "      <td>5000</td>\n",
       "      <td>5000</td>\n",
       "      <td>1</td>\n",
       "      <td>1</td>\n",
       "      <td>0</td>\n",
       "      <td>1</td>\n",
       "      <td>1</td>\n",
       "    </tr>\n",
       "    <tr>\n",
       "      <th>3</th>\n",
       "      <td>600000</td>\n",
       "      <td>79</td>\n",
       "      <td>10</td>\n",
       "      <td>0</td>\n",
       "      <td>3500</td>\n",
       "      <td>13</td>\n",
       "      <td>5</td>\n",
       "      <td>15000</td>\n",
       "      <td>5000</td>\n",
       "      <td>10000</td>\n",
       "      <td>0</td>\n",
       "      <td>0</td>\n",
       "      <td>0</td>\n",
       "      <td>1</td>\n",
       "      <td>1</td>\n",
       "    </tr>\n",
       "    <tr>\n",
       "      <th>4</th>\n",
       "      <td>1000000</td>\n",
       "      <td>116</td>\n",
       "      <td>18</td>\n",
       "      <td>0</td>\n",
       "      <td>3457</td>\n",
       "      <td>17</td>\n",
       "      <td>6</td>\n",
       "      <td>300000</td>\n",
       "      <td>3000</td>\n",
       "      <td>10000</td>\n",
       "      <td>0</td>\n",
       "      <td>0</td>\n",
       "      <td>1</td>\n",
       "      <td>1</td>\n",
       "      <td>1</td>\n",
       "    </tr>\n",
       "  </tbody>\n",
       "</table>\n",
       "</div>"
      ],
      "text/plain": [
       "      目標金額  支援者数  画像数  動画数   文字数  活動報告回数  リターン種類数   支援額上限  支援額下限  返礼品ありの下限  \\\n",
       "0  1000000    71    8    0  2566       3        9   50000   5000      5000   \n",
       "1  1000000    72   22    0  4010       5       12  100000   3000      3000   \n",
       "2  1000000    91    9    1  4244      27       12  100000   5000      5000   \n",
       "3   600000    79   10    0  3500      13        5   15000   5000     10000   \n",
       "4  1000000   116   18    0  3457      17        6  300000   3000     10000   \n",
       "\n",
       "   最高額支援ダミー  最低額返礼品ダミー  自然災害ダミー  畜産ダミー  target  \n",
       "0         1          1        0      1       1  \n",
       "1         1          1        0      1       1  \n",
       "2         1          1        0      1       1  \n",
       "3         0          0        0      1       1  \n",
       "4         0          0        1      1       1  "
      ]
     },
     "execution_count": 6,
     "metadata": {},
     "output_type": "execute_result"
    }
   ],
   "source": [
    "data.head()"
   ]
  },
  {
   "cell_type": "code",
   "execution_count": 7,
   "metadata": {},
   "outputs": [],
   "source": [
    "import statsmodels.api as sm\n",
    "fold_y = data[\"target\"]\n",
    "x = data[[\"目標金額\",\"支援者数\"]]\n",
    "fold_x = sm.add_constant(x)"
   ]
  },
  {
   "cell_type": "code",
   "execution_count": 26,
   "metadata": {},
   "outputs": [],
   "source": [
    "X_train, X_test, y_train, y_test = train_test_split(fold_x,fold_y,test_size=0.2,random_state=42)"
   ]
  },
  {
   "cell_type": "code",
   "execution_count": 36,
   "metadata": {},
   "outputs": [
    {
     "name": "stdout",
     "output_type": "stream",
     "text": [
      "Optimization terminated successfully.\n",
      "         Current function value: 0.355907\n",
      "         Iterations 9\n",
      "0.8776978417266187\n"
     ]
    }
   ],
   "source": [
    "model = sm.Logit(y_train, X_train)\n",
    "results = model.fit()\n",
    "pred = results.predict(X_test)\n",
    "result = [1 if i>0.5 else 0 for i in pred]\n",
    "y_test_re = y_test.reset_index(drop=True)\n",
    "count=0\n",
    "for i in range(len(y_test)):\n",
    "    if y_test_re[i] == result[i]:\n",
    "        count+=1\n",
    "print(count/len(y_test))"
   ]
  },
  {
   "cell_type": "code",
   "execution_count": 40,
   "metadata": {},
   "outputs": [
    {
     "name": "stdout",
     "output_type": "stream",
     "text": [
      "LogisticRegression:0.8615160045876342\n"
     ]
    }
   ],
   "source": [
    "from sklearn.linear_model import LogisticRegression\n",
    "from sklearn.model_selection import cross_val_score\n",
    "from sklearn.model_selection import StratifiedKFold\n",
    "stratifiedfold = StratifiedKFold(n_splits=5)\n",
    "logreg = LogisticRegression()\n",
    "scores = cross_val_score(logreg,fold_x,fold_y,cv=stratifiedfold)\n",
    "print(f'LogisticRegression:{scores.mean()}')"
   ]
  },
  {
   "cell_type": "code",
   "execution_count": 8,
   "metadata": {},
   "outputs": [],
   "source": [
    "# def train_test(x, y, k, r):\n",
    "#     idx = np.arange(0, x.shape[0])\n",
    "#     idx_test = idx[np.fmod(idx, k) == r]\n",
    "#     idx_train = idx[np.fmod(idx, k) != r]\n",
    "#     x_test = x.iloc[idx_test,:]\n",
    "#     x_train = x.iloc[idx_train,:]\n",
    "#     y_test = y[idx_test]\n",
    "#     y_train = y[idx_train]\n",
    "#     return x_train, x_test, y_train, y_test"
   ]
  },
  {
   "cell_type": "code",
   "execution_count": 9,
   "metadata": {},
   "outputs": [],
   "source": [
    "# for r in range(5):\n",
    "#     x_train, x_test, y_train, y_test = train_test(fold_x, fold_y, 5, r)\n",
    "#     print(\"r = {}\".format(r))\n",
    "#     print(\"x_train:\\n{}\".format(x_train))\n",
    "#     print(\"x_test:\\n{}\".format(x_test))\n",
    "#     print(\"y_train:\\n{}\".format(y_train))\n",
    "#     print(\"y_test:\\n{}\\n\".format(y_test))"
   ]
  },
  {
   "cell_type": "code",
   "execution_count": 10,
   "metadata": {},
   "outputs": [],
   "source": [
    "# count = 0\n",
    "# for r in range(5):\n",
    "#     x_train, x_test, y_train, y_test = train_test(fold_x, fold_y, 5, r)\n",
    "#     model = sm.Logit(y_train, x_train)\n",
    "#     results = model.fit()\n",
    "#     pred = results.predict(x_test)\n",
    "#     result = [1 if i>0.5 else 0 for i in pred]\n",
    "#     y_test_re = y_test.reset_index(drop=True)\n",
    "#     for i in range(len(x_test)):\n",
    "#         if y_test[i] == result[i]:\n",
    "#             count += 1\n",
    "#     print(count)"
   ]
  },
  {
   "cell_type": "code",
   "execution_count": null,
   "metadata": {},
   "outputs": [],
   "source": []
  },
  {
   "cell_type": "code",
   "execution_count": 11,
   "metadata": {},
   "outputs": [],
   "source": [
    "# type(y_test)"
   ]
  },
  {
   "cell_type": "code",
   "execution_count": 12,
   "metadata": {},
   "outputs": [],
   "source": [
    "# y_test[4]"
   ]
  },
  {
   "cell_type": "code",
   "execution_count": 13,
   "metadata": {},
   "outputs": [],
   "source": [
    "# model = sm.Logit(y_train, x_train)"
   ]
  },
  {
   "cell_type": "code",
   "execution_count": 14,
   "metadata": {},
   "outputs": [],
   "source": [
    "# import statsmodels.api as sm\n",
    "# model = sm.Logit(fold_y, fold_x)\n",
    "# results = model.fit()\n",
    "# print(results.params)"
   ]
  },
  {
   "cell_type": "code",
   "execution_count": 15,
   "metadata": {},
   "outputs": [],
   "source": [
    "# pred = results.predict(fold_x)"
   ]
  },
  {
   "cell_type": "code",
   "execution_count": 16,
   "metadata": {},
   "outputs": [],
   "source": [
    "# result=[]\n",
    "# for i in pred:\n",
    "#     if i > 0.5:\n",
    "#         result.append(1)\n",
    "#     else:\n",
    "#         result.append(0)\n",
    "\n",
    "# print(result)"
   ]
  },
  {
   "cell_type": "code",
   "execution_count": 17,
   "metadata": {},
   "outputs": [],
   "source": [
    "# list = [1 if i>0.5 else 0 for i in pred]\n",
    "# print(list)"
   ]
  },
  {
   "cell_type": "markdown",
   "metadata": {},
   "source": [
    "# 交差検証"
   ]
  },
  {
   "cell_type": "code",
   "execution_count": 18,
   "metadata": {},
   "outputs": [],
   "source": [
    "# import statsmodels.api as sm\n",
    "# from sklearn.model_selection import train_test_split\n",
    "# fold_y = data[\"target\"]\n",
    "# x = data[[\"目標金額\",\"活動報告回数\",\"支援者数\"]]\n",
    "# fold_x = sm.add_constant(x)"
   ]
  },
  {
   "cell_type": "code",
   "execution_count": 19,
   "metadata": {},
   "outputs": [],
   "source": [
    "# X_train, X_test, y_train, y_test = train_test_split(fold_x,fold_y,test_size=0.2,random_state=42)"
   ]
  },
  {
   "cell_type": "code",
   "execution_count": 20,
   "metadata": {
    "scrolled": true
   },
   "outputs": [],
   "source": [
    "# model = sm.OLS(fold_y, fold_x)\n",
    "# results = model.fit()\n",
    "# print(results.params)"
   ]
  },
  {
   "cell_type": "code",
   "execution_count": 21,
   "metadata": {},
   "outputs": [],
   "source": [
    "# # from sklearn.linear_model import LogisticRegression\n",
    "# from sklearn.linear_model import LinearRegression\n",
    "# model = LinearRegression()\n",
    "# model.fit(x,fold_y)\n",
    "# # 回帰係数\n",
    "# print(model.coef_)\n",
    "# # 切片 (誤差)\n",
    "# print(model.intercept_)"
   ]
  },
  {
   "cell_type": "code",
   "execution_count": 22,
   "metadata": {},
   "outputs": [],
   "source": [
    "# import statsmodels.api as sm\n",
    "# model = sm.Logit(fold_y, fold_x)\n",
    "# results = model.fit(method=\"ncg\", maxiter=max_iter)\n",
    "# print(results.params)"
   ]
  },
  {
   "cell_type": "code",
   "execution_count": 23,
   "metadata": {},
   "outputs": [],
   "source": [
    "# # from sklearn.linear_model import LogisticRegression\n",
    "# from sklearn.linear_model import LogisticRegression\n",
    "# logreg = LogisticRegression(fit_intercept=False,penalty='none')\n",
    "# logreg.fit(fold_x,fold_y)\n",
    "# # 回帰係数\n",
    "# print(logreg.coef_)"
   ]
  },
  {
   "cell_type": "code",
   "execution_count": 24,
   "metadata": {},
   "outputs": [],
   "source": [
    "# # from sklearn.linear_model import LogisticRegression\n",
    "# from sklearn.linear_model import LogisticRegression\n",
    "# logreg2 = LogisticRegression(solver='newton-cg', max_iter=max_iter, fit_intercept=True, penalty='none')\n",
    "# logreg2.fit(x,fold_y)\n",
    "# # 回帰係数\n",
    "# print(logreg2.coef_)\n",
    "# print(logreg2.intercept_)"
   ]
  },
  {
   "cell_type": "code",
   "execution_count": 25,
   "metadata": {},
   "outputs": [],
   "source": [
    "# n = 200\n",
    "# np.random.seed(42)\n",
    "\n",
    "# x = np.random.randint(0, 2, size=n)\n",
    "# y = (x > (0.5 + np.random.normal(0, 0.5, n))).astype(int)\n",
    "\n",
    "# display(pd.crosstab( y, x ))\n",
    "\n",
    "\n",
    "# max_iter = 100\n",
    "\n",
    "\n",
    "# #### Statsmodels\n",
    "# # first artificially add intercept to x, as advised in the docs:\n",
    "# x_ = sm.add_constant(x)\n",
    "# res_sm = sm.Logit(y, x_).fit(method=\"ncg\", maxiter=max_iter) # x_ here\n",
    "# print(res_sm.params)\n",
    "\n",
    "# #### Scikit-Learn\n",
    "# res_sk = LogisticRegression(solver='newton-cg', max_iter=max_iter, fit_intercept=True, penalty='none')\n",
    "# res_sk.fit( x.reshape(n, 1), y )\n",
    "# print(res_sk.intercept_, res_sk.coef_)"
   ]
  }
 ],
 "metadata": {
  "kernelspec": {
   "display_name": "Python 3",
   "language": "python",
   "name": "python3"
  },
  "language_info": {
   "codemirror_mode": {
    "name": "ipython",
    "version": 3
   },
   "file_extension": ".py",
   "mimetype": "text/x-python",
   "name": "python",
   "nbconvert_exporter": "python",
   "pygments_lexer": "ipython3",
   "version": "3.8.5"
  }
 },
 "nbformat": 4,
 "nbformat_minor": 4
}
