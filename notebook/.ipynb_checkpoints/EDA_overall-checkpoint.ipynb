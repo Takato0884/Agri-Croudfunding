{
 "cells": [
  {
   "cell_type": "markdown",
   "metadata": {},
   "source": [
    "# 前処理"
   ]
  },
  {
   "cell_type": "code",
   "execution_count": 1,
   "metadata": {},
   "outputs": [],
   "source": [
    "import numpy as np\n",
    "import pandas as pd\n",
    "import matplotlib.pyplot as plt\n",
    "import seaborn as sns"
   ]
  },
  {
   "cell_type": "code",
   "execution_count": 2,
   "metadata": {},
   "outputs": [],
   "source": [
    "#scvファイルの読み込み\n",
    "livestock = pd.read_csv(\"../data/livestock.csv\")\n",
    "cultured = pd.read_csv(\"../data/cultured.csv\")"
   ]
  },
  {
   "cell_type": "code",
   "execution_count": 3,
   "metadata": {},
   "outputs": [],
   "source": [
    "data_pre = pd.concat([livestock,cultured],sort=False)\n",
    "data = data_pre.reset_index(drop=True)"
   ]
  },
  {
   "cell_type": "code",
   "execution_count": 4,
   "metadata": {},
   "outputs": [
    {
     "data": {
      "text/html": [
       "<div>\n",
       "<style scoped>\n",
       "    .dataframe tbody tr th:only-of-type {\n",
       "        vertical-align: middle;\n",
       "    }\n",
       "\n",
       "    .dataframe tbody tr th {\n",
       "        vertical-align: top;\n",
       "    }\n",
       "\n",
       "    .dataframe thead th {\n",
       "        text-align: right;\n",
       "    }\n",
       "</style>\n",
       "<table border=\"1\" class=\"dataframe\">\n",
       "  <thead>\n",
       "    <tr style=\"text-align: right;\">\n",
       "      <th></th>\n",
       "      <th>プロジェクト名</th>\n",
       "      <th>URL</th>\n",
       "      <th>支援総額</th>\n",
       "      <th>目標金額</th>\n",
       "      <th>支援者数</th>\n",
       "      <th>画像数</th>\n",
       "      <th>動画数</th>\n",
       "      <th>文字数</th>\n",
       "      <th>活動報告回数</th>\n",
       "      <th>リターン種類数</th>\n",
       "      <th>最高支援額</th>\n",
       "      <th>支援額上限</th>\n",
       "      <th>支援額下限</th>\n",
       "      <th>最低支援額</th>\n",
       "      <th>返礼品ありの下限</th>\n",
       "      <th>CFP</th>\n",
       "      <th>産業</th>\n",
       "    </tr>\n",
       "  </thead>\n",
       "  <tbody>\n",
       "    <tr>\n",
       "      <th>0</th>\n",
       "      <td>国分牧場とお客様をつなぐ！直売×カフェ×農業体験の複合施設を</td>\n",
       "      <td>https://readyfor.jp/projects/kokubufarm</td>\n",
       "      <td>1185000</td>\n",
       "      <td>1000000</td>\n",
       "      <td>71</td>\n",
       "      <td>8</td>\n",
       "      <td>0</td>\n",
       "      <td>2566</td>\n",
       "      <td>3</td>\n",
       "      <td>9</td>\n",
       "      <td>50000</td>\n",
       "      <td>50000</td>\n",
       "      <td>5000</td>\n",
       "      <td>5000</td>\n",
       "      <td>5000</td>\n",
       "      <td>Readyfor</td>\n",
       "      <td>畜産</td>\n",
       "    </tr>\n",
       "    <tr>\n",
       "      <th>1</th>\n",
       "      <td>宮古島のアロエ畑とヤギ。しろう農園ふれあい牧場リニューアル！</td>\n",
       "      <td>https://readyfor.jp/projects/shirounouen</td>\n",
       "      <td>1382000</td>\n",
       "      <td>1000000</td>\n",
       "      <td>72</td>\n",
       "      <td>22</td>\n",
       "      <td>0</td>\n",
       "      <td>4010</td>\n",
       "      <td>5</td>\n",
       "      <td>12</td>\n",
       "      <td>100000</td>\n",
       "      <td>100000</td>\n",
       "      <td>3000</td>\n",
       "      <td>3000</td>\n",
       "      <td>3000</td>\n",
       "      <td>Readyfor</td>\n",
       "      <td>畜産</td>\n",
       "    </tr>\n",
       "    <tr>\n",
       "      <th>2</th>\n",
       "      <td>村人の命を守り、限界集落の未来を救うため、牧場を作りたい</td>\n",
       "      <td>https://readyfor.jp/projects/nigiwaibokujo</td>\n",
       "      <td>1205000</td>\n",
       "      <td>1000000</td>\n",
       "      <td>91</td>\n",
       "      <td>9</td>\n",
       "      <td>1</td>\n",
       "      <td>4244</td>\n",
       "      <td>27</td>\n",
       "      <td>12</td>\n",
       "      <td>100000</td>\n",
       "      <td>100000</td>\n",
       "      <td>5000</td>\n",
       "      <td>5000</td>\n",
       "      <td>5000</td>\n",
       "      <td>Readyfor</td>\n",
       "      <td>畜産</td>\n",
       "    </tr>\n",
       "    <tr>\n",
       "      <th>3</th>\n",
       "      <td>ストレスのない牛の生活環境を作りたい</td>\n",
       "      <td>https://readyfor.jp/projects/tusimaakausinosia...</td>\n",
       "      <td>865000</td>\n",
       "      <td>600000</td>\n",
       "      <td>79</td>\n",
       "      <td>10</td>\n",
       "      <td>0</td>\n",
       "      <td>3500</td>\n",
       "      <td>13</td>\n",
       "      <td>5</td>\n",
       "      <td>10000</td>\n",
       "      <td>15000</td>\n",
       "      <td>5000</td>\n",
       "      <td>5000</td>\n",
       "      <td>10000</td>\n",
       "      <td>Readyfor</td>\n",
       "      <td>畜産</td>\n",
       "    </tr>\n",
       "    <tr>\n",
       "      <th>4</th>\n",
       "      <td>機材を改修し、震災で販売休止となった森林ノ牛乳を復活させたい</td>\n",
       "      <td>https://readyfor.jp/projects/shinrinno</td>\n",
       "      <td>1619000</td>\n",
       "      <td>1000000</td>\n",
       "      <td>116</td>\n",
       "      <td>18</td>\n",
       "      <td>0</td>\n",
       "      <td>3457</td>\n",
       "      <td>17</td>\n",
       "      <td>6</td>\n",
       "      <td>100000</td>\n",
       "      <td>300000</td>\n",
       "      <td>3000</td>\n",
       "      <td>3000</td>\n",
       "      <td>10000</td>\n",
       "      <td>Readyfor</td>\n",
       "      <td>畜産</td>\n",
       "    </tr>\n",
       "    <tr>\n",
       "      <th>...</th>\n",
       "      <td>...</td>\n",
       "      <td>...</td>\n",
       "      <td>...</td>\n",
       "      <td>...</td>\n",
       "      <td>...</td>\n",
       "      <td>...</td>\n",
       "      <td>...</td>\n",
       "      <td>...</td>\n",
       "      <td>...</td>\n",
       "      <td>...</td>\n",
       "      <td>...</td>\n",
       "      <td>...</td>\n",
       "      <td>...</td>\n",
       "      <td>...</td>\n",
       "      <td>...</td>\n",
       "      <td>...</td>\n",
       "      <td>...</td>\n",
       "    </tr>\n",
       "    <tr>\n",
       "      <th>104</th>\n",
       "      <td>希少和牛の希少部位！奥出雲和牛のシャトーブリアンとすき焼きセットをお届けします</td>\n",
       "      <td>https://www.makuake.com/project/okuizumowagyu/</td>\n",
       "      <td>2619000</td>\n",
       "      <td>500000</td>\n",
       "      <td>166</td>\n",
       "      <td>28</td>\n",
       "      <td>1</td>\n",
       "      <td>2658</td>\n",
       "      <td>11</td>\n",
       "      <td>4</td>\n",
       "      <td>38000</td>\n",
       "      <td>38000</td>\n",
       "      <td>3480</td>\n",
       "      <td>3480</td>\n",
       "      <td>3480</td>\n",
       "      <td>Makuake</td>\n",
       "      <td>畜産</td>\n",
       "    </tr>\n",
       "    <tr>\n",
       "      <th>105</th>\n",
       "      <td>信州生産者応援プロジェクト</td>\n",
       "      <td>https://www.makuake.com/project/nagano/</td>\n",
       "      <td>613000</td>\n",
       "      <td>300000</td>\n",
       "      <td>80</td>\n",
       "      <td>6</td>\n",
       "      <td>0</td>\n",
       "      <td>4414</td>\n",
       "      <td>7</td>\n",
       "      <td>4</td>\n",
       "      <td>10000</td>\n",
       "      <td>10000</td>\n",
       "      <td>5000</td>\n",
       "      <td>5000</td>\n",
       "      <td>5000</td>\n",
       "      <td>Makuake</td>\n",
       "      <td>畜産</td>\n",
       "    </tr>\n",
       "    <tr>\n",
       "      <th>106</th>\n",
       "      <td>日本中の仲良し夫婦に食べてほしい！愛妻家の聖地から生まれた大人のプリン</td>\n",
       "      <td>https://www.makuake.com/project/tbeegarden/</td>\n",
       "      <td>312200</td>\n",
       "      <td>100000</td>\n",
       "      <td>81</td>\n",
       "      <td>22</td>\n",
       "      <td>0</td>\n",
       "      <td>1659</td>\n",
       "      <td>2</td>\n",
       "      <td>6</td>\n",
       "      <td>5600</td>\n",
       "      <td>5600</td>\n",
       "      <td>3000</td>\n",
       "      <td>3000</td>\n",
       "      <td>3000</td>\n",
       "      <td>Makuake</td>\n",
       "      <td>畜産</td>\n",
       "    </tr>\n",
       "    <tr>\n",
       "      <th>107</th>\n",
       "      <td>子供の誕生と成長を願う町からヤギミルクが次世代に絆ぐ新メェ～産品</td>\n",
       "      <td>https://www.makuake.com/project/koyasufarm02/</td>\n",
       "      <td>361800</td>\n",
       "      <td>300000</td>\n",
       "      <td>53</td>\n",
       "      <td>8</td>\n",
       "      <td>0</td>\n",
       "      <td>1773</td>\n",
       "      <td>13</td>\n",
       "      <td>10</td>\n",
       "      <td>100000</td>\n",
       "      <td>100000</td>\n",
       "      <td>3800</td>\n",
       "      <td>3800</td>\n",
       "      <td>3800</td>\n",
       "      <td>Makuake</td>\n",
       "      <td>畜産</td>\n",
       "    </tr>\n",
       "    <tr>\n",
       "      <th>108</th>\n",
       "      <td>全てのグルメ層におくる！　偶然生まれた、涙が出るほど旨い極上の【とんとろ】</td>\n",
       "      <td>https://www.makuake.com/project/sunrisefarmchiba/</td>\n",
       "      <td>1207000</td>\n",
       "      <td>300000</td>\n",
       "      <td>198</td>\n",
       "      <td>13</td>\n",
       "      <td>0</td>\n",
       "      <td>2210</td>\n",
       "      <td>4</td>\n",
       "      <td>4</td>\n",
       "      <td>8000</td>\n",
       "      <td>8000</td>\n",
       "      <td>4000</td>\n",
       "      <td>4000</td>\n",
       "      <td>4000</td>\n",
       "      <td>Makuake</td>\n",
       "      <td>畜産</td>\n",
       "    </tr>\n",
       "  </tbody>\n",
       "</table>\n",
       "<p>109 rows × 17 columns</p>\n",
       "</div>"
      ],
      "text/plain": [
       "                                     プロジェクト名  \\\n",
       "0             国分牧場とお客様をつなぐ！直売×カフェ×農業体験の複合施設を   \n",
       "1             宮古島のアロエ畑とヤギ。しろう農園ふれあい牧場リニューアル！   \n",
       "2               村人の命を守り、限界集落の未来を救うため、牧場を作りたい   \n",
       "3                         ストレスのない牛の生活環境を作りたい   \n",
       "4             機材を改修し、震災で販売休止となった森林ノ牛乳を復活させたい   \n",
       "..                                       ...   \n",
       "104  希少和牛の希少部位！奥出雲和牛のシャトーブリアンとすき焼きセットをお届けします   \n",
       "105                            信州生産者応援プロジェクト   \n",
       "106      日本中の仲良し夫婦に食べてほしい！愛妻家の聖地から生まれた大人のプリン   \n",
       "107         子供の誕生と成長を願う町からヤギミルクが次世代に絆ぐ新メェ～産品   \n",
       "108    全てのグルメ層におくる！　偶然生まれた、涙が出るほど旨い極上の【とんとろ】   \n",
       "\n",
       "                                                   URL     支援総額     目標金額  \\\n",
       "0              https://readyfor.jp/projects/kokubufarm  1185000  1000000   \n",
       "1             https://readyfor.jp/projects/shirounouen  1382000  1000000   \n",
       "2           https://readyfor.jp/projects/nigiwaibokujo  1205000  1000000   \n",
       "3    https://readyfor.jp/projects/tusimaakausinosia...   865000   600000   \n",
       "4               https://readyfor.jp/projects/shinrinno  1619000  1000000   \n",
       "..                                                 ...      ...      ...   \n",
       "104     https://www.makuake.com/project/okuizumowagyu/  2619000   500000   \n",
       "105            https://www.makuake.com/project/nagano/   613000   300000   \n",
       "106        https://www.makuake.com/project/tbeegarden/   312200   100000   \n",
       "107      https://www.makuake.com/project/koyasufarm02/   361800   300000   \n",
       "108  https://www.makuake.com/project/sunrisefarmchiba/  1207000   300000   \n",
       "\n",
       "     支援者数  画像数  動画数   文字数  活動報告回数  リターン種類数   最高支援額   支援額上限  支援額下限  最低支援額  \\\n",
       "0      71    8    0  2566       3        9   50000   50000   5000   5000   \n",
       "1      72   22    0  4010       5       12  100000  100000   3000   3000   \n",
       "2      91    9    1  4244      27       12  100000  100000   5000   5000   \n",
       "3      79   10    0  3500      13        5   10000   15000   5000   5000   \n",
       "4     116   18    0  3457      17        6  100000  300000   3000   3000   \n",
       "..    ...  ...  ...   ...     ...      ...     ...     ...    ...    ...   \n",
       "104   166   28    1  2658      11        4   38000   38000   3480   3480   \n",
       "105    80    6    0  4414       7        4   10000   10000   5000   5000   \n",
       "106    81   22    0  1659       2        6    5600    5600   3000   3000   \n",
       "107    53    8    0  1773      13       10  100000  100000   3800   3800   \n",
       "108   198   13    0  2210       4        4    8000    8000   4000   4000   \n",
       "\n",
       "     返礼品ありの下限       CFP  産業  \n",
       "0        5000  Readyfor  畜産  \n",
       "1        3000  Readyfor  畜産  \n",
       "2        5000  Readyfor  畜産  \n",
       "3       10000  Readyfor  畜産  \n",
       "4       10000  Readyfor  畜産  \n",
       "..        ...       ...  ..  \n",
       "104      3480   Makuake  畜産  \n",
       "105      5000   Makuake  畜産  \n",
       "106      3000   Makuake  畜産  \n",
       "107      3800   Makuake  畜産  \n",
       "108      4000   Makuake  畜産  \n",
       "\n",
       "[109 rows x 17 columns]"
      ]
     },
     "execution_count": 4,
     "metadata": {},
     "output_type": "execute_result"
    }
   ],
   "source": [
    "data[:109]"
   ]
  },
  {
   "cell_type": "code",
   "execution_count": 5,
   "metadata": {
    "scrolled": true
   },
   "outputs": [
    {
     "name": "stderr",
     "output_type": "stream",
     "text": [
      "<ipython-input-5-c46add677b41>:15: SettingWithCopyWarning: \n",
      "A value is trying to be set on a copy of a slice from a DataFrame\n",
      "\n",
      "See the caveats in the documentation: https://pandas.pydata.org/pandas-docs/stable/user_guide/indexing.html#returning-a-view-versus-a-copy\n",
      "  data[\"自然災害ダミー\"][i] = 1\n",
      "<ipython-input-5-c46add677b41>:19: SettingWithCopyWarning: \n",
      "A value is trying to be set on a copy of a slice from a DataFrame\n",
      "\n",
      "See the caveats in the documentation: https://pandas.pydata.org/pandas-docs/stable/user_guide/indexing.html#returning-a-view-versus-a-copy\n",
      "  data[\"自然災害ダミー\"][i] = 1\n",
      "<ipython-input-5-c46add677b41>:17: SettingWithCopyWarning: \n",
      "A value is trying to be set on a copy of a slice from a DataFrame\n",
      "\n",
      "See the caveats in the documentation: https://pandas.pydata.org/pandas-docs/stable/user_guide/indexing.html#returning-a-view-versus-a-copy\n",
      "  data[\"自然災害ダミー\"][i] = 1\n",
      "<ipython-input-5-c46add677b41>:22: SettingWithCopyWarning: \n",
      "A value is trying to be set on a copy of a slice from a DataFrame\n",
      "\n",
      "See the caveats in the documentation: https://pandas.pydata.org/pandas-docs/stable/user_guide/indexing.html#returning-a-view-versus-a-copy\n",
      "  data[\"畜産ダミー\"][:110] = 1\n",
      "/Users/takato/opt/anaconda3/lib/python3.8/site-packages/pandas/core/indexing.py:670: SettingWithCopyWarning: \n",
      "A value is trying to be set on a copy of a slice from a DataFrame\n",
      "\n",
      "See the caveats in the documentation: https://pandas.pydata.org/pandas-docs/stable/user_guide/indexing.html#returning-a-view-versus-a-copy\n",
      "  iloc._setitem_with_indexer(indexer, value)\n"
     ]
    }
   ],
   "source": [
    "# 新しい説明変数を作成する\n",
    "\n",
    "#一人当たり支援額\n",
    "data[\"一人当たり支援額\"] = round(data[\"支援総額\"]/(data[\"支援者数\"]+1))\n",
    "#最高額支援ダミー:最高支援額と支援額上限が一致するか 0:不一致 1:一致\n",
    "data[\"最高額支援ダミー\"] = 0\n",
    "data.loc[data['最高支援額']==data['支援額上限'],'最高額支援ダミー'] = 1\n",
    "#最低額返礼品ダミー:支援額下限と返礼品ありの下限が一致するか　0:不一致　1:一致\n",
    "data[\"最低額返礼品ダミー\"] = 0\n",
    "data.loc[data['支援額下限']==data['返礼品ありの下限'],'最低額返礼品ダミー'] = 1\n",
    "#自然災害ダミー:災害を示すような言葉が含まれているか\n",
    "data[\"自然災害ダミー\"] = 0\n",
    "for i in range(len(data)):\n",
    "    if \"震災\" in data[\"プロジェクト名\"][i]:\n",
    "        data[\"自然災害ダミー\"][i] = 1\n",
    "    elif \"豪雨\" in data[\"プロジェクト名\"][i]:\n",
    "        data[\"自然災害ダミー\"][i] = 1\n",
    "    elif \"台風\" in data[\"プロジェクト名\"][i]:\n",
    "        data[\"自然災害ダミー\"][i] = 1\n",
    "#畜産ダミー:畜産か耕種か　畜産:1 耕種:0\n",
    "data[\"畜産ダミー\"] = 0\n",
    "data[\"畜産ダミー\"][:110] = 1\n",
    "\n",
    "#target値を作成　0:失敗　1:成功\n",
    "data[\"achievement\"] = data[\"支援総額\"] // data[\"目標金額\"]\n",
    "data[\"target\"] = 0\n",
    "data.loc[data['achievement']>=1,'target'] = 1"
   ]
  },
  {
   "cell_type": "code",
   "execution_count": 6,
   "metadata": {},
   "outputs": [],
   "source": [
    "delate_col = [\"プロジェクト名\",\"URL\",\"CFP\",\"産業\",\"achievement\"]\n",
    "data = data.drop(columns=delate_col)"
   ]
  },
  {
   "cell_type": "code",
   "execution_count": 7,
   "metadata": {},
   "outputs": [
    {
     "data": {
      "text/html": [
       "<div>\n",
       "<style scoped>\n",
       "    .dataframe tbody tr th:only-of-type {\n",
       "        vertical-align: middle;\n",
       "    }\n",
       "\n",
       "    .dataframe tbody tr th {\n",
       "        vertical-align: top;\n",
       "    }\n",
       "\n",
       "    .dataframe thead th {\n",
       "        text-align: right;\n",
       "    }\n",
       "</style>\n",
       "<table border=\"1\" class=\"dataframe\">\n",
       "  <thead>\n",
       "    <tr style=\"text-align: right;\">\n",
       "      <th></th>\n",
       "      <th>支援総額</th>\n",
       "      <th>目標金額</th>\n",
       "      <th>支援者数</th>\n",
       "      <th>画像数</th>\n",
       "      <th>動画数</th>\n",
       "      <th>文字数</th>\n",
       "      <th>活動報告回数</th>\n",
       "      <th>リターン種類数</th>\n",
       "      <th>最高支援額</th>\n",
       "      <th>支援額上限</th>\n",
       "      <th>支援額下限</th>\n",
       "      <th>最低支援額</th>\n",
       "      <th>返礼品ありの下限</th>\n",
       "      <th>一人当たり支援額</th>\n",
       "      <th>最高額支援ダミー</th>\n",
       "      <th>最低額返礼品ダミー</th>\n",
       "      <th>自然災害ダミー</th>\n",
       "      <th>畜産ダミー</th>\n",
       "      <th>target</th>\n",
       "    </tr>\n",
       "  </thead>\n",
       "  <tbody>\n",
       "    <tr>\n",
       "      <th>0</th>\n",
       "      <td>1185000</td>\n",
       "      <td>1000000</td>\n",
       "      <td>71</td>\n",
       "      <td>8</td>\n",
       "      <td>0</td>\n",
       "      <td>2566</td>\n",
       "      <td>3</td>\n",
       "      <td>9</td>\n",
       "      <td>50000</td>\n",
       "      <td>50000</td>\n",
       "      <td>5000</td>\n",
       "      <td>5000</td>\n",
       "      <td>5000</td>\n",
       "      <td>16458.0</td>\n",
       "      <td>1</td>\n",
       "      <td>1</td>\n",
       "      <td>0</td>\n",
       "      <td>1</td>\n",
       "      <td>1</td>\n",
       "    </tr>\n",
       "    <tr>\n",
       "      <th>1</th>\n",
       "      <td>1382000</td>\n",
       "      <td>1000000</td>\n",
       "      <td>72</td>\n",
       "      <td>22</td>\n",
       "      <td>0</td>\n",
       "      <td>4010</td>\n",
       "      <td>5</td>\n",
       "      <td>12</td>\n",
       "      <td>100000</td>\n",
       "      <td>100000</td>\n",
       "      <td>3000</td>\n",
       "      <td>3000</td>\n",
       "      <td>3000</td>\n",
       "      <td>18932.0</td>\n",
       "      <td>1</td>\n",
       "      <td>1</td>\n",
       "      <td>0</td>\n",
       "      <td>1</td>\n",
       "      <td>1</td>\n",
       "    </tr>\n",
       "    <tr>\n",
       "      <th>2</th>\n",
       "      <td>1205000</td>\n",
       "      <td>1000000</td>\n",
       "      <td>91</td>\n",
       "      <td>9</td>\n",
       "      <td>1</td>\n",
       "      <td>4244</td>\n",
       "      <td>27</td>\n",
       "      <td>12</td>\n",
       "      <td>100000</td>\n",
       "      <td>100000</td>\n",
       "      <td>5000</td>\n",
       "      <td>5000</td>\n",
       "      <td>5000</td>\n",
       "      <td>13098.0</td>\n",
       "      <td>1</td>\n",
       "      <td>1</td>\n",
       "      <td>0</td>\n",
       "      <td>1</td>\n",
       "      <td>1</td>\n",
       "    </tr>\n",
       "    <tr>\n",
       "      <th>3</th>\n",
       "      <td>865000</td>\n",
       "      <td>600000</td>\n",
       "      <td>79</td>\n",
       "      <td>10</td>\n",
       "      <td>0</td>\n",
       "      <td>3500</td>\n",
       "      <td>13</td>\n",
       "      <td>5</td>\n",
       "      <td>10000</td>\n",
       "      <td>15000</td>\n",
       "      <td>5000</td>\n",
       "      <td>5000</td>\n",
       "      <td>10000</td>\n",
       "      <td>10812.0</td>\n",
       "      <td>0</td>\n",
       "      <td>0</td>\n",
       "      <td>0</td>\n",
       "      <td>1</td>\n",
       "      <td>1</td>\n",
       "    </tr>\n",
       "    <tr>\n",
       "      <th>4</th>\n",
       "      <td>1619000</td>\n",
       "      <td>1000000</td>\n",
       "      <td>116</td>\n",
       "      <td>18</td>\n",
       "      <td>0</td>\n",
       "      <td>3457</td>\n",
       "      <td>17</td>\n",
       "      <td>6</td>\n",
       "      <td>100000</td>\n",
       "      <td>300000</td>\n",
       "      <td>3000</td>\n",
       "      <td>3000</td>\n",
       "      <td>10000</td>\n",
       "      <td>13838.0</td>\n",
       "      <td>0</td>\n",
       "      <td>0</td>\n",
       "      <td>1</td>\n",
       "      <td>1</td>\n",
       "      <td>1</td>\n",
       "    </tr>\n",
       "  </tbody>\n",
       "</table>\n",
       "</div>"
      ],
      "text/plain": [
       "      支援総額     目標金額  支援者数  画像数  動画数   文字数  活動報告回数  リターン種類数   最高支援額   支援額上限  \\\n",
       "0  1185000  1000000    71    8    0  2566       3        9   50000   50000   \n",
       "1  1382000  1000000    72   22    0  4010       5       12  100000  100000   \n",
       "2  1205000  1000000    91    9    1  4244      27       12  100000  100000   \n",
       "3   865000   600000    79   10    0  3500      13        5   10000   15000   \n",
       "4  1619000  1000000   116   18    0  3457      17        6  100000  300000   \n",
       "\n",
       "   支援額下限  最低支援額  返礼品ありの下限  一人当たり支援額  最高額支援ダミー  最低額返礼品ダミー  自然災害ダミー  畜産ダミー  \\\n",
       "0   5000   5000      5000   16458.0         1          1        0      1   \n",
       "1   3000   3000      3000   18932.0         1          1        0      1   \n",
       "2   5000   5000      5000   13098.0         1          1        0      1   \n",
       "3   5000   5000     10000   10812.0         0          0        0      1   \n",
       "4   3000   3000     10000   13838.0         0          0        1      1   \n",
       "\n",
       "   target  \n",
       "0       1  \n",
       "1       1  \n",
       "2       1  \n",
       "3       1  \n",
       "4       1  "
      ]
     },
     "execution_count": 7,
     "metadata": {},
     "output_type": "execute_result"
    }
   ],
   "source": [
    "data.head(5)"
   ]
  },
  {
   "cell_type": "code",
   "execution_count": 8,
   "metadata": {},
   "outputs": [
    {
     "data": {
      "text/plain": [
       "支援総額         0\n",
       "目標金額         0\n",
       "支援者数         0\n",
       "画像数          0\n",
       "動画数          0\n",
       "文字数          0\n",
       "活動報告回数       0\n",
       "リターン種類数      0\n",
       "最高支援額        0\n",
       "支援額上限        0\n",
       "支援額下限        0\n",
       "最低支援額        0\n",
       "返礼品ありの下限     0\n",
       "一人当たり支援額     0\n",
       "最高額支援ダミー     0\n",
       "最低額返礼品ダミー    0\n",
       "自然災害ダミー      0\n",
       "畜産ダミー        0\n",
       "target       0\n",
       "dtype: int64"
      ]
     },
     "execution_count": 8,
     "metadata": {},
     "output_type": "execute_result"
    }
   ],
   "source": [
    "data.isnull().sum()"
   ]
  },
  {
   "cell_type": "markdown",
   "metadata": {},
   "source": [
    "## EDA"
   ]
  },
  {
   "cell_type": "markdown",
   "metadata": {},
   "source": [
    "#### target"
   ]
  },
  {
   "cell_type": "code",
   "execution_count": 9,
   "metadata": {
    "scrolled": true
   },
   "outputs": [
    {
     "data": {
      "text/plain": [
       "<AxesSubplot:xlabel='target', ylabel='count'>"
      ]
     },
     "execution_count": 9,
     "metadata": {},
     "output_type": "execute_result"
    },
    {
     "data": {
      "image/png": "[encoded data removed]",
      "text/plain": [
       "<Figure size 750x500 with 1 Axes>"
      ]
     },
     "metadata": {
      "needs_background": "light"
     },
     "output_type": "display_data"
    }
   ],
   "source": [
    "fig = plt.figure(figsize=(15, 10), dpi=50)\n",
    "ax = fig.add_subplot()\n",
    "plt.xlabel('target',fontsize=18)\n",
    "plt.ylabel('count',fontsize=18)\n",
    "plt.xticks(fontsize=16)\n",
    "plt.yticks(fontsize=16)\n",
    "sns.countplot(x=\"target\",data=data)"
   ]
  },
  {
   "cell_type": "code",
   "execution_count": 10,
   "metadata": {},
   "outputs": [
    {
     "name": "stdout",
     "output_type": "stream",
     "text": [
      "成功割合:0.5266955266955267\n"
     ]
    }
   ],
   "source": [
    "success = data[\"target\"].sum() / len(data[\"target\"])\n",
    "print(\"成功割合:{}\".format(success))"
   ]
  },
  {
   "cell_type": "markdown",
   "metadata": {},
   "source": [
    "##### 目標金額"
   ]
  },
  {
   "cell_type": "code",
   "execution_count": 11,
   "metadata": {},
   "outputs": [
    {
     "name": "stdout",
     "output_type": "stream",
     "text": [
      "max:30000000 min:10000\n"
     ]
    }
   ],
   "source": [
    "print(\"max:{} min:{}\".format(data[\"目標金額\"].max(),data[\"目標金額\"].min()))"
   ]
  },
  {
   "cell_type": "code",
   "execution_count": 12,
   "metadata": {},
   "outputs": [
    {
     "data": {
      "text/plain": [
       "<matplotlib.legend.Legend at 0x7fbf7d4e70d0>"
      ]
     },
     "execution_count": 12,
     "metadata": {},
     "output_type": "execute_result"
    },
    {
     "data": {
      "image/png": "[encoded data removed]",
      "text/plain": [
       "<Figure size 750x500 with 1 Axes>"
      ]
     },
     "metadata": {
      "needs_background": "light"
     },
     "output_type": "display_data"
    }
   ],
   "source": [
    "fig = plt.figure(figsize=(15, 10), dpi=50)\n",
    "ax = fig.add_subplot()\n",
    "plt.hist(data.loc[data['target']==0,'目標金額'],range=(10000,10000000),bins=25,alpha=0.5,label='0')\n",
    "plt.hist(data.loc[data['target']==1,'目標金額'],range=(10000,10000000),bins=25,alpha=0.5,label='1')\n",
    "plt.xlabel('target_value',fontsize=18)\n",
    "plt.ylabel('count',fontsize=18)\n",
    "plt.xticks(fontsize=16)\n",
    "plt.yticks(fontsize=16)\n",
    "plt.legend(title='Success',fontsize=20)"
   ]
  },
  {
   "cell_type": "markdown",
   "metadata": {},
   "source": [
    "目標額200万以上だと失敗プロジェクトが優勢"
   ]
  },
  {
   "cell_type": "code",
   "execution_count": 13,
   "metadata": {},
   "outputs": [
    {
     "name": "stdout",
     "output_type": "stream",
     "text": [
      "成功グループの平均:901689.4630136986\n",
      "失敗グループの平均:1814899.8140243902\n",
      "成功グループの中央値:500000.0\n",
      "失敗グループの中央値:1000000.0\n"
     ]
    }
   ],
   "source": [
    "#外れ値があるので平均は不適切かも\n",
    "print(\"成功グループの平均:{}\".format(data.loc[data['target']==1,'目標金額'].mean()))\n",
    "print(\"失敗グループの平均:{}\".format(data.loc[data['target']==0,'目標金額'].mean()))\n",
    "print(\"成功グループの中央値:{}\".format(data.loc[data['target']==1,'目標金額'].median()))\n",
    "print(\"失敗グループの中央値:{}\".format(data.loc[data['target']==0,'目標金額'].median()))"
   ]
  },
  {
   "cell_type": "markdown",
   "metadata": {},
   "source": [
    "#### 支援者数"
   ]
  },
  {
   "cell_type": "code",
   "execution_count": 14,
   "metadata": {},
   "outputs": [
    {
     "name": "stdout",
     "output_type": "stream",
     "text": [
      "max:10002 min:0\n"
     ]
    }
   ],
   "source": [
    "print(\"max:{} min:{}\".format(data[\"支援者数\"].max(),data[\"支援者数\"].min()))"
   ]
  },
  {
   "cell_type": "code",
   "execution_count": 15,
   "metadata": {
    "scrolled": true
   },
   "outputs": [
    {
     "data": {
      "text/plain": [
       "<matplotlib.legend.Legend at 0x7fbf7d54cf70>"
      ]
     },
     "execution_count": 15,
     "metadata": {},
     "output_type": "execute_result"
    },
    {
     "data": {
      "image/png": "[encoded data removed]",
      "text/plain": [
       "<Figure size 600x400 with 1 Axes>"
      ]
     },
     "metadata": {
      "needs_background": "light"
     },
     "output_type": "display_data"
    }
   ],
   "source": [
    "fig = plt.figure(figsize=(12, 8), dpi=50)\n",
    "ax = fig.add_subplot()\n",
    "plt.hist(data.loc[data['target']==0,'支援者数'],range=(0,600),bins=30,alpha=0.5,label='0')\n",
    "plt.hist(data.loc[data['target']==1,'支援者数'],range=(0,600),bins=30,alpha=0.5,label='1')\n",
    "plt.xlabel('supporters',fontsize=18)\n",
    "plt.ylabel('count',fontsize=18)\n",
    "plt.xticks(fontsize=16)\n",
    "plt.yticks(fontsize=16)\n",
    "plt.legend(title='Success',fontsize=20)"
   ]
  },
  {
   "cell_type": "markdown",
   "metadata": {},
   "source": [
    "失敗プロジェクトは支援者数40以下が大多数である"
   ]
  },
  {
   "cell_type": "code",
   "execution_count": 16,
   "metadata": {},
   "outputs": [
    {
     "name": "stdout",
     "output_type": "stream",
     "text": [
      "成功グループの平均:151.97260273972603\n",
      "失敗グループの平均:32.56707317073171\n",
      "成功グループの中央値:89.0\n",
      "失敗グループの中央値:14.0\n"
     ]
    }
   ],
   "source": [
    "#外れ値があるので平均は不適切かも\n",
    "print(\"成功グループの平均:{}\".format(data.loc[data['target']==1,'支援者数'].mean()))\n",
    "print(\"失敗グループの平均:{}\".format(data.loc[data['target']==0,'支援者数'].mean()))\n",
    "print(\"成功グループの中央値:{}\".format(data.loc[data['target']==1,'支援者数'].median()))\n",
    "print(\"失敗グループの中央値:{}\".format(data.loc[data['target']==0,'支援者数'].median()))"
   ]
  },
  {
   "cell_type": "markdown",
   "metadata": {},
   "source": [
    "#### 画像数"
   ]
  },
  {
   "cell_type": "code",
   "execution_count": 17,
   "metadata": {},
   "outputs": [
    {
     "name": "stdout",
     "output_type": "stream",
     "text": [
      "max:67 min:0\n"
     ]
    }
   ],
   "source": [
    "print(\"max:{} min:{}\".format(data[\"画像数\"].max(),data[\"画像数\"].min()))"
   ]
  },
  {
   "cell_type": "code",
   "execution_count": 18,
   "metadata": {},
   "outputs": [
    {
     "data": {
      "text/plain": [
       "<matplotlib.legend.Legend at 0x7fbf7d818760>"
      ]
     },
     "execution_count": 18,
     "metadata": {},
     "output_type": "execute_result"
    },
    {
     "data": {
      "image/png": "[encoded data removed]",
      "text/plain": [
       "<Figure size 750x500 with 1 Axes>"
      ]
     },
     "metadata": {
      "needs_background": "light"
     },
     "output_type": "display_data"
    }
   ],
   "source": [
    "fig = plt.figure(figsize=(15, 10), dpi=50)\n",
    "ax = fig.add_subplot()\n",
    "plt.hist(data.loc[data['target']==0,'画像数'],range=(0,70),bins=14,alpha=0.5,label='0')\n",
    "plt.hist(data.loc[data['target']==1,'画像数'],range=(0,70),bins=14,alpha=0.5,label='1')\n",
    "plt.xlabel('image',fontsize=18)\n",
    "plt.ylabel('count',fontsize=18)\n",
    "plt.xticks(fontsize=16)\n",
    "plt.yticks(fontsize=16)\n",
    "plt.legend(title='Success',fontsize=20)"
   ]
  },
  {
   "cell_type": "code",
   "execution_count": 19,
   "metadata": {},
   "outputs": [
    {
     "name": "stdout",
     "output_type": "stream",
     "text": [
      "成功グループの平均:16.843835616438355\n",
      "失敗グループの平均:11.332317073170731\n",
      "成功グループの中央値:14.0\n",
      "失敗グループの中央値:9.0\n"
     ]
    }
   ],
   "source": [
    "print(\"成功グループの平均:{}\".format(data.loc[data['target']==1,'画像数'].mean()))\n",
    "print(\"失敗グループの平均:{}\".format(data.loc[data['target']==0,'画像数'].mean()))\n",
    "print(\"成功グループの中央値:{}\".format(data.loc[data['target']==1,'画像数'].median()))\n",
    "print(\"失敗グループの中央値:{}\".format(data.loc[data['target']==0,'画像数'].median()))"
   ]
  },
  {
   "cell_type": "markdown",
   "metadata": {},
   "source": [
    "成功グループの方が画像数が多い傾向はあるが主要因ではなさそう"
   ]
  },
  {
   "cell_type": "markdown",
   "metadata": {},
   "source": [
    "#### 動画数"
   ]
  },
  {
   "cell_type": "code",
   "execution_count": 20,
   "metadata": {},
   "outputs": [
    {
     "name": "stdout",
     "output_type": "stream",
     "text": [
      "max:6 min:0\n"
     ]
    }
   ],
   "source": [
    "print(\"max:{} min:{}\".format(data[\"動画数\"].max(),data[\"動画数\"].min()))"
   ]
  },
  {
   "cell_type": "code",
   "execution_count": 21,
   "metadata": {
    "scrolled": true
   },
   "outputs": [
    {
     "data": {
      "text/plain": [
       "<matplotlib.legend.Legend at 0x7fbf7d872640>"
      ]
     },
     "execution_count": 21,
     "metadata": {},
     "output_type": "execute_result"
    },
    {
     "data": {
      "image/png": "[encoded data removed]",
      "text/plain": [
       "<Figure size 750x500 with 1 Axes>"
      ]
     },
     "metadata": {
      "needs_background": "light"
     },
     "output_type": "display_data"
    }
   ],
   "source": [
    "fig = plt.figure(figsize=(15, 10), dpi=50)\n",
    "ax = fig.add_subplot()\n",
    "plt.hist(data.loc[data['target']==0,'動画数'],range=(0,6),bins=6,alpha=0.5,label='0')\n",
    "plt.hist(data.loc[data['target']==1,'動画数'],range=(0,6),bins=6,alpha=0.5,label='1')\n",
    "plt.xlabel('movie',fontsize=18)\n",
    "plt.ylabel('count',fontsize=18)\n",
    "plt.xticks(fontsize=16)\n",
    "plt.yticks(fontsize=16)\n",
    "plt.legend(title='Success',fontsize=20)"
   ]
  },
  {
   "cell_type": "code",
   "execution_count": 22,
   "metadata": {},
   "outputs": [
    {
     "name": "stdout",
     "output_type": "stream",
     "text": [
      "成功グループの平均:0.3561643835616438\n",
      "失敗グループの平均:0.2621951219512195\n",
      "成功グループの中央値:0.0\n",
      "失敗グループの中央値:0.0\n"
     ]
    }
   ],
   "source": [
    "print(\"成功グループの平均:{}\".format(data.loc[data['target']==1,'動画数'].mean()))\n",
    "print(\"失敗グループの平均:{}\".format(data.loc[data['target']==0,'動画数'].mean()))\n",
    "print(\"成功グループの中央値:{}\".format(data.loc[data['target']==1,'動画数'].median()))\n",
    "print(\"失敗グループの中央値:{}\".format(data.loc[data['target']==0,'動画数'].median()))"
   ]
  },
  {
   "cell_type": "code",
   "execution_count": 23,
   "metadata": {},
   "outputs": [
    {
     "name": "stdout",
     "output_type": "stream",
     "text": [
      "動画ありグループの成功率:0.6197183098591549\n",
      "動画なしグループの成功率:0.5027223230490018\n"
     ]
    }
   ],
   "source": [
    "print(\"動画ありグループの成功率:{}\".format(data.loc[data['動画数']>=1,'target'].mean()))\n",
    "print(\"動画なしグループの成功率:{}\".format(data.loc[data['動画数']==0,'target'].mean()))"
   ]
  },
  {
   "cell_type": "markdown",
   "metadata": {},
   "source": [
    "成否にはほとんど影響なさそう"
   ]
  },
  {
   "cell_type": "markdown",
   "metadata": {},
   "source": [
    "#### 文字数"
   ]
  },
  {
   "cell_type": "code",
   "execution_count": 24,
   "metadata": {},
   "outputs": [
    {
     "name": "stdout",
     "output_type": "stream",
     "text": [
      "max:20054 min:378\n"
     ]
    }
   ],
   "source": [
    "print(\"max:{} min:{}\".format(data[\"文字数\"].max(),data[\"文字数\"].min()))"
   ]
  },
  {
   "cell_type": "code",
   "execution_count": 25,
   "metadata": {},
   "outputs": [
    {
     "data": {
      "text/plain": [
       "<matplotlib.legend.Legend at 0x7fbf7dc0bbb0>"
      ]
     },
     "execution_count": 25,
     "metadata": {},
     "output_type": "execute_result"
    },
    {
     "data": {
      "image/png": "[encoded data removed]",
      "text/plain": [
       "<Figure size 750x500 with 1 Axes>"
      ]
     },
     "metadata": {
      "needs_background": "light"
     },
     "output_type": "display_data"
    }
   ],
   "source": [
    "fig = plt.figure(figsize=(15, 10), dpi=50)\n",
    "ax = fig.add_subplot()\n",
    "plt.hist(data.loc[data['target']==0,'文字数'],range=(0,8000),bins=40,alpha=0.5,label='0')\n",
    "plt.hist(data.loc[data['target']==1,'文字数'],range=(0,8000),bins=40,alpha=0.5,label='1')\n",
    "plt.xlabel('word',fontsize=18)\n",
    "plt.ylabel('count',fontsize=18)\n",
    "plt.xticks(fontsize=16)\n",
    "plt.yticks(fontsize=16)\n",
    "plt.legend(title='Success',fontsize=20)"
   ]
  },
  {
   "cell_type": "code",
   "execution_count": 26,
   "metadata": {},
   "outputs": [
    {
     "name": "stdout",
     "output_type": "stream",
     "text": [
      "成功グループの平均:3726.972602739726\n",
      "失敗グループの平均:2724.314024390244\n",
      "成功グループの中央値:3403.0\n",
      "失敗グループの中央値:2380.5\n"
     ]
    }
   ],
   "source": [
    "print(\"成功グループの平均:{}\".format(data.loc[data['target']==1,'文字数'].mean()))\n",
    "print(\"失敗グループの平均:{}\".format(data.loc[data['target']==0,'文字数'].mean()))\n",
    "print(\"成功グループの中央値:{}\".format(data.loc[data['target']==1,'文字数'].median()))\n",
    "print(\"失敗グループの中央値:{}\".format(data.loc[data['target']==0,'文字数'].median()))"
   ]
  },
  {
   "cell_type": "markdown",
   "metadata": {},
   "source": [
    "成功グループの方が文字数はやや多い"
   ]
  },
  {
   "cell_type": "markdown",
   "metadata": {},
   "source": [
    "#### 活動報告回数"
   ]
  },
  {
   "cell_type": "code",
   "execution_count": 27,
   "metadata": {},
   "outputs": [
    {
     "name": "stdout",
     "output_type": "stream",
     "text": [
      "max:99 min:0\n"
     ]
    }
   ],
   "source": [
    "print(\"max:{} min:{}\".format(data[\"活動報告回数\"].max(),data[\"活動報告回数\"].min()))"
   ]
  },
  {
   "cell_type": "code",
   "execution_count": 28,
   "metadata": {},
   "outputs": [
    {
     "data": {
      "text/plain": [
       "<matplotlib.legend.Legend at 0x7fbf7ddfd580>"
      ]
     },
     "execution_count": 28,
     "metadata": {},
     "output_type": "execute_result"
    },
    {
     "data": {
      "image/png": "[encoded data removed]",
      "text/plain": [
       "<Figure size 750x500 with 1 Axes>"
      ]
     },
     "metadata": {
      "needs_background": "light"
     },
     "output_type": "display_data"
    }
   ],
   "source": [
    "fig = plt.figure(figsize=(15, 10), dpi=50)\n",
    "ax = fig.add_subplot()\n",
    "plt.hist(data.loc[data['target']==0,'活動報告回数'],range=(0,100),bins=25,alpha=0.5,label='0')\n",
    "plt.hist(data.loc[data['target']==1,'活動報告回数'],range=(0,100),bins=25,alpha=0.5,label='1')\n",
    "plt.xlabel('report',fontsize=18)\n",
    "plt.ylabel('count',fontsize=18)\n",
    "plt.xticks(fontsize=16)\n",
    "plt.yticks(fontsize=16)\n",
    "plt.legend(title='Success',fontsize=20)"
   ]
  },
  {
   "cell_type": "markdown",
   "metadata": {},
   "source": [
    "失敗プロジェクトは活動報告回数4以下が大多数"
   ]
  },
  {
   "cell_type": "code",
   "execution_count": 29,
   "metadata": {
    "scrolled": true
   },
   "outputs": [
    {
     "name": "stdout",
     "output_type": "stream",
     "text": [
      "成功グループの平均:11.983561643835616\n",
      "失敗グループの平均:3.923780487804878\n",
      "成功グループの中央値:9.0\n",
      "失敗グループの中央値:1.0\n"
     ]
    }
   ],
   "source": [
    "print(\"成功グループの平均:{}\".format(data.loc[data['target']==1,'活動報告回数'].mean()))\n",
    "print(\"失敗グループの平均:{}\".format(data.loc[data['target']==0,'活動報告回数'].mean()))\n",
    "print(\"成功グループの中央値:{}\".format(data.loc[data['target']==1,'活動報告回数'].median()))\n",
    "print(\"失敗グループの中央値:{}\".format(data.loc[data['target']==0,'活動報告回数'].median()))"
   ]
  },
  {
   "cell_type": "markdown",
   "metadata": {},
   "source": [
    "　成功グループと失敗グループで明確な差があり,成否に大きく影響しそう"
   ]
  },
  {
   "cell_type": "markdown",
   "metadata": {},
   "source": [
    "#### リターン種類数"
   ]
  },
  {
   "cell_type": "code",
   "execution_count": 30,
   "metadata": {},
   "outputs": [
    {
     "name": "stdout",
     "output_type": "stream",
     "text": [
      "max:49 min:0\n"
     ]
    }
   ],
   "source": [
    "print(\"max:{} min:{}\".format(data[\"リターン種類数\"].max(),data[\"リターン種類数\"].min()))"
   ]
  },
  {
   "cell_type": "code",
   "execution_count": 31,
   "metadata": {},
   "outputs": [
    {
     "data": {
      "text/plain": [
       "<matplotlib.legend.Legend at 0x7fbf7d84a550>"
      ]
     },
     "execution_count": 31,
     "metadata": {},
     "output_type": "execute_result"
    },
    {
     "data": {
      "image/png": "[encoded data removed]",
      "text/plain": [
       "<Figure size 750x500 with 1 Axes>"
      ]
     },
     "metadata": {
      "needs_background": "light"
     },
     "output_type": "display_data"
    }
   ],
   "source": [
    "fig = plt.figure(figsize=(15, 10), dpi=50)\n",
    "ax = fig.add_subplot()\n",
    "plt.hist(data.loc[data['target']==0,'リターン種類数'],range=(0,50),bins=25,alpha=0.5,label='0')\n",
    "plt.hist(data.loc[data['target']==1,'リターン種類数'],range=(0,50),bins=25,alpha=0.5,label='1')\n",
    "plt.xlabel('return',fontsize=18)\n",
    "plt.ylabel('count',fontsize=18)\n",
    "plt.xticks(fontsize=16)\n",
    "plt.yticks(fontsize=16)\n",
    "plt.legend(title='Success',fontsize=20)"
   ]
  },
  {
   "cell_type": "code",
   "execution_count": 32,
   "metadata": {},
   "outputs": [
    {
     "name": "stdout",
     "output_type": "stream",
     "text": [
      "成功グループの平均:8.92054794520548\n",
      "失敗グループの平均:7.323170731707317\n",
      "成功グループの中央値:8.0\n",
      "失敗グループの中央値:6.0\n"
     ]
    }
   ],
   "source": [
    "print(\"成功グループの平均:{}\".format(data.loc[data['target']==1,'リターン種類数'].mean()))\n",
    "print(\"失敗グループの平均:{}\".format(data.loc[data['target']==0,'リターン種類数'].mean()))\n",
    "print(\"成功グループの中央値:{}\".format(data.loc[data['target']==1,'リターン種類数'].median()))\n",
    "print(\"失敗グループの中央値:{}\".format(data.loc[data['target']==0,'リターン種類数'].median()))"
   ]
  },
  {
   "cell_type": "markdown",
   "metadata": {},
   "source": [
    "成否にはほとんど影響なさそう"
   ]
  },
  {
   "cell_type": "markdown",
   "metadata": {},
   "source": [
    "#### 支援額上限"
   ]
  },
  {
   "cell_type": "code",
   "execution_count": 33,
   "metadata": {},
   "outputs": [
    {
     "name": "stdout",
     "output_type": "stream",
     "text": [
      "max:2900000 min:1200\n"
     ]
    }
   ],
   "source": [
    "print(\"max:{} min:{}\".format(data[\"支援額上限\"].max(),data[\"支援額上限\"].min()))"
   ]
  },
  {
   "cell_type": "code",
   "execution_count": 34,
   "metadata": {},
   "outputs": [
    {
     "data": {
      "text/plain": [
       "<matplotlib.legend.Legend at 0x7fbf7e22baf0>"
      ]
     },
     "execution_count": 34,
     "metadata": {},
     "output_type": "execute_result"
    },
    {
     "data": {
      "image/png": "[encoded data removed]",
      "text/plain": [
       "<Figure size 750x500 with 1 Axes>"
      ]
     },
     "metadata": {
      "needs_background": "light"
     },
     "output_type": "display_data"
    }
   ],
   "source": [
    "fig = plt.figure(figsize=(15, 10), dpi=50)\n",
    "ax = fig.add_subplot()\n",
    "plt.hist(data.loc[data['target']==0,'支援額上限'],range=(1000,1000000),bins=50,alpha=0.5,label='0')\n",
    "plt.hist(data.loc[data['target']==1,'支援額上限'],range=(1000,1000000),bins=50,alpha=0.5,label='1')\n",
    "plt.xlabel('upper_value',fontsize=18)\n",
    "plt.ylabel('count',fontsize=18)\n",
    "plt.xticks(fontsize=16)\n",
    "plt.yticks(fontsize=16)\n",
    "plt.legend(title='Success',fontsize=20)"
   ]
  },
  {
   "cell_type": "code",
   "execution_count": 35,
   "metadata": {},
   "outputs": [
    {
     "name": "stdout",
     "output_type": "stream",
     "text": [
      "成功グループの平均:129201.11780821918\n",
      "失敗グループの平均:147056.92682926828\n",
      "成功グループの中央値:50000.0\n",
      "失敗グループの中央値:50000.0\n"
     ]
    }
   ],
   "source": [
    "print(\"成功グループの平均:{}\".format(data.loc[data['target']==1,'支援額上限'].mean()))\n",
    "print(\"失敗グループの平均:{}\".format(data.loc[data['target']==0,'支援額上限'].mean()))\n",
    "print(\"成功グループの中央値:{}\".format(data.loc[data['target']==1,'支援額上限'].median()))\n",
    "print(\"失敗グループの中央値:{}\".format(data.loc[data['target']==0,'支援額上限'].median()))"
   ]
  },
  {
   "cell_type": "markdown",
   "metadata": {},
   "source": [
    "成否にはほとんど影響なさそう"
   ]
  },
  {
   "cell_type": "markdown",
   "metadata": {},
   "source": [
    "#### 支援額下限"
   ]
  },
  {
   "cell_type": "code",
   "execution_count": 36,
   "metadata": {},
   "outputs": [
    {
     "name": "stdout",
     "output_type": "stream",
     "text": [
      "max:26000 min:500\n"
     ]
    }
   ],
   "source": [
    "print(\"max:{} min:{}\".format(data[\"支援額下限\"].max(),data[\"支援額下限\"].min()))"
   ]
  },
  {
   "cell_type": "code",
   "execution_count": 37,
   "metadata": {
    "scrolled": true
   },
   "outputs": [
    {
     "data": {
      "text/plain": [
       "<matplotlib.legend.Legend at 0x7fbf7e551dc0>"
      ]
     },
     "execution_count": 37,
     "metadata": {},
     "output_type": "execute_result"
    },
    {
     "data": {
      "image/png": "[encoded data removed]",
      "text/plain": [
       "<Figure size 750x500 with 1 Axes>"
      ]
     },
     "metadata": {
      "needs_background": "light"
     },
     "output_type": "display_data"
    }
   ],
   "source": [
    "fig = plt.figure(figsize=(15, 10), dpi=50)\n",
    "ax = fig.add_subplot()\n",
    "plt.hist(data.loc[data['target']==0,'支援額下限'],range=(500,10000),bins=25,alpha=0.5,label='0')\n",
    "plt.hist(data.loc[data['target']==1,'支援額下限'],range=(500,10000),bins=25,alpha=0.5,label='1')\n",
    "plt.xlabel('bottom_value',fontsize=18)\n",
    "plt.ylabel('count',fontsize=18)\n",
    "plt.xticks(fontsize=16)\n",
    "plt.yticks(fontsize=16)\n",
    "plt.legend(title='Success',fontsize=20)"
   ]
  },
  {
   "cell_type": "code",
   "execution_count": 38,
   "metadata": {},
   "outputs": [
    {
     "name": "stdout",
     "output_type": "stream",
     "text": [
      "成功グループの平均:3310.145205479452\n",
      "失敗グループの平均:3310.231707317073\n",
      "成功グループの中央値:3000.0\n",
      "失敗グループの中央値:3000.0\n"
     ]
    }
   ],
   "source": [
    "print(\"成功グループの平均:{}\".format(data.loc[data['target']==1,'支援額下限'].mean()))\n",
    "print(\"失敗グループの平均:{}\".format(data.loc[data['target']==0,'支援額下限'].mean()))\n",
    "print(\"成功グループの中央値:{}\".format(data.loc[data['target']==1,'支援額下限'].median()))\n",
    "print(\"失敗グループの中央値:{}\".format(data.loc[data['target']==0,'支援額下限'].median()))"
   ]
  },
  {
   "cell_type": "markdown",
   "metadata": {},
   "source": [
    "成否にはほとんど影響なさそう"
   ]
  },
  {
   "cell_type": "markdown",
   "metadata": {},
   "source": [
    "#### 最高支援額"
   ]
  },
  {
   "cell_type": "code",
   "execution_count": 39,
   "metadata": {},
   "outputs": [
    {
     "name": "stdout",
     "output_type": "stream",
     "text": [
      "max:1200000 min:0\n"
     ]
    }
   ],
   "source": [
    "print(\"max:{} min:{}\".format(data[\"最高支援額\"].max(),data[\"最低支援額\"].min()))"
   ]
  },
  {
   "cell_type": "code",
   "execution_count": 40,
   "metadata": {},
   "outputs": [
    {
     "data": {
      "text/plain": [
       "<matplotlib.legend.Legend at 0x7fbf7e73cb50>"
      ]
     },
     "execution_count": 40,
     "metadata": {},
     "output_type": "execute_result"
    },
    {
     "data": {
      "image/png": "[encoded data removed]",
      "text/plain": [
       "<Figure size 750x500 with 1 Axes>"
      ]
     },
     "metadata": {
      "needs_background": "light"
     },
     "output_type": "display_data"
    }
   ],
   "source": [
    "fig = plt.figure(figsize=(15, 10), dpi=50)\n",
    "ax = fig.add_subplot()\n",
    "plt.hist(data.loc[data['target']==0,'最高支援額'],range=(0,400000),bins=25,alpha=0.5,label='0')\n",
    "plt.hist(data.loc[data['target']==1,'最高支援額'],range=(0,400000),bins=25,alpha=0.5,label='1')\n",
    "plt.xlabel('max_value',fontsize=18)\n",
    "plt.ylabel('count',fontsize=18)\n",
    "plt.xticks(fontsize=16)\n",
    "plt.yticks(fontsize=16)\n",
    "plt.legend(title='Success',fontsize=20)"
   ]
  },
  {
   "cell_type": "code",
   "execution_count": 41,
   "metadata": {},
   "outputs": [
    {
     "name": "stdout",
     "output_type": "stream",
     "text": [
      "成功グループの平均:79039.30958904109\n",
      "失敗グループの平均:38090.40243902439\n",
      "成功グループの中央値:50000.0\n",
      "失敗グループの中央値:12000.0\n"
     ]
    }
   ],
   "source": [
    "print(\"成功グループの平均:{}\".format(data.loc[data['target']==1,'最高支援額'].mean()))\n",
    "print(\"失敗グループの平均:{}\".format(data.loc[data['target']==0,'最高支援額'].mean()))\n",
    "print(\"成功グループの中央値:{}\".format(data.loc[data['target']==1,'最高支援額'].median()))\n",
    "print(\"失敗グループの中央値:{}\".format(data.loc[data['target']==0,'最高支援額'].median()))"
   ]
  },
  {
   "cell_type": "markdown",
   "metadata": {},
   "source": [
    "#### 最低支援額"
   ]
  },
  {
   "cell_type": "code",
   "execution_count": 42,
   "metadata": {},
   "outputs": [
    {
     "name": "stdout",
     "output_type": "stream",
     "text": [
      "max:50000 min:0\n"
     ]
    }
   ],
   "source": [
    "print(\"max:{} min:{}\".format(data[\"最低支援額\"].max(),data[\"最低支援額\"].min()))"
   ]
  },
  {
   "cell_type": "code",
   "execution_count": 43,
   "metadata": {
    "scrolled": true
   },
   "outputs": [
    {
     "data": {
      "text/plain": [
       "<matplotlib.legend.Legend at 0x7fbf7ea7da30>"
      ]
     },
     "execution_count": 43,
     "metadata": {},
     "output_type": "execute_result"
    },
    {
     "data": {
      "image/png": "[encoded data removed]",
      "text/plain": [
       "<Figure size 750x500 with 1 Axes>"
      ]
     },
     "metadata": {
      "needs_background": "light"
     },
     "output_type": "display_data"
    }
   ],
   "source": [
    "fig = plt.figure(figsize=(15, 10), dpi=50)\n",
    "ax = fig.add_subplot()\n",
    "plt.hist(data.loc[data['target']==0,'最高支援額'],range=(0,400000),bins=25,alpha=0.5,label='0')\n",
    "plt.hist(data.loc[data['target']==1,'最高支援額'],range=(0,400000),bins=25,alpha=0.5,label='1')\n",
    "plt.xlabel('min_value',fontsize=18)\n",
    "plt.ylabel('count',fontsize=18)\n",
    "plt.xticks(fontsize=16)\n",
    "plt.yticks(fontsize=16)\n",
    "plt.legend(title='Success',fontsize=20)"
   ]
  },
  {
   "cell_type": "code",
   "execution_count": 44,
   "metadata": {},
   "outputs": [
    {
     "name": "stdout",
     "output_type": "stream",
     "text": [
      "成功グループの平均:3430.6931506849314\n",
      "失敗グループの平均:3733.7103658536585\n",
      "成功グループの中央値:3000.0\n",
      "失敗グループの中央値:3000.0\n"
     ]
    }
   ],
   "source": [
    "print(\"成功グループの平均:{}\".format(data.loc[data['target']==1,'最低支援額'].mean()))\n",
    "print(\"失敗グループの平均:{}\".format(data.loc[data['target']==0,'最低支援額'].mean()))\n",
    "print(\"成功グループの中央値:{}\".format(data.loc[data['target']==1,'最低支援額'].median()))\n",
    "print(\"失敗グループの中央値:{}\".format(data.loc[data['target']==0,'最低支援額'].median()))"
   ]
  },
  {
   "cell_type": "markdown",
   "metadata": {},
   "source": [
    "#### 一人当たり支援額"
   ]
  },
  {
   "cell_type": "code",
   "execution_count": 45,
   "metadata": {},
   "outputs": [
    {
     "name": "stdout",
     "output_type": "stream",
     "text": [
      "max:69895.0 min:0.0\n"
     ]
    }
   ],
   "source": [
    "print(\"max:{} min:{}\".format(data[\"一人当たり支援額\"].max(),data[\"一人当たり支援額\"].min()))"
   ]
  },
  {
   "cell_type": "code",
   "execution_count": 46,
   "metadata": {
    "scrolled": false
   },
   "outputs": [
    {
     "data": {
      "text/plain": [
       "<matplotlib.legend.Legend at 0x7fbf7ec7c730>"
      ]
     },
     "execution_count": 46,
     "metadata": {},
     "output_type": "execute_result"
    },
    {
     "data": {
      "image/png": "[encoded data removed]",
      "text/plain": [
       "<Figure size 750x500 with 1 Axes>"
      ]
     },
     "metadata": {
      "needs_background": "light"
     },
     "output_type": "display_data"
    }
   ],
   "source": [
    "fig = plt.figure(figsize=(15, 10), dpi=50)\n",
    "ax = fig.add_subplot()\n",
    "plt.hist(data.loc[data['target']==0,'一人当たり支援額'],range=(0,70000),bins=25,alpha=0.5,label='0')\n",
    "plt.hist(data.loc[data['target']==1,'一人当たり支援額'],range=(0,70000),bins=25,alpha=0.5,label='1')\n",
    "plt.xlabel('value_per_head',fontsize=18)\n",
    "plt.ylabel('count',fontsize=18)\n",
    "plt.xticks(fontsize=16)\n",
    "plt.yticks(fontsize=16)\n",
    "plt.legend(title='Success',fontsize=20)"
   ]
  },
  {
   "cell_type": "code",
   "execution_count": 47,
   "metadata": {},
   "outputs": [
    {
     "name": "stdout",
     "output_type": "stream",
     "text": [
      "成功グループの平均:12077.739726027397\n",
      "失敗グループの平均:8283.128048780487\n",
      "成功グループの中央値:9979.0\n",
      "失敗グループの中央値:6691.0\n"
     ]
    }
   ],
   "source": [
    "print(\"成功グループの平均:{}\".format(data.loc[data['target']==1,'一人当たり支援額'].mean()))\n",
    "print(\"失敗グループの平均:{}\".format(data.loc[data['target']==0,'一人当たり支援額'].mean()))\n",
    "print(\"成功グループの中央値:{}\".format(data.loc[data['target']==1,'一人当たり支援額'].median()))\n",
    "print(\"失敗グループの中央値:{}\".format(data.loc[data['target']==0,'一人当たり支援額'].median()))"
   ]
  },
  {
   "cell_type": "markdown",
   "metadata": {},
   "source": [
    "成功グループでは失敗グループに比べて,平均的に約1.5倍高い結果になった"
   ]
  },
  {
   "cell_type": "markdown",
   "metadata": {},
   "source": [
    "#### 返礼品ありの下限"
   ]
  },
  {
   "cell_type": "code",
   "execution_count": 48,
   "metadata": {},
   "outputs": [
    {
     "name": "stdout",
     "output_type": "stream",
     "text": [
      "max:50000 min:0\n"
     ]
    }
   ],
   "source": [
    "print(\"max:{} min:{}\".format(data[\"返礼品ありの下限\"].max(),data[\"返礼品ありの下限\"].min()))"
   ]
  },
  {
   "cell_type": "code",
   "execution_count": 49,
   "metadata": {},
   "outputs": [
    {
     "data": {
      "text/plain": [
       "<matplotlib.legend.Legend at 0x7fbf7e2846a0>"
      ]
     },
     "execution_count": 49,
     "metadata": {},
     "output_type": "execute_result"
    },
    {
     "data": {
      "image/png": "[encoded data removed]",
      "text/plain": [
       "<Figure size 750x500 with 1 Axes>"
      ]
     },
     "metadata": {
      "needs_background": "light"
     },
     "output_type": "display_data"
    }
   ],
   "source": [
    "fig = plt.figure(figsize=(15, 10), dpi=50)\n",
    "ax = fig.add_subplot()\n",
    "plt.hist(data.loc[data['target']==0,'返礼品ありの下限'],range=(0,10000),bins=25,alpha=0.5,label='0')\n",
    "plt.hist(data.loc[data['target']==1,'返礼品ありの下限'],range=(0,10000),bins=25,alpha=0.5,label='1')\n",
    "plt.xlabel('word',fontsize=18)\n",
    "plt.ylabel('count',fontsize=18)\n",
    "plt.xticks(fontsize=16)\n",
    "plt.yticks(fontsize=16)\n",
    "plt.legend(title='Success',fontsize=20)"
   ]
  },
  {
   "cell_type": "code",
   "execution_count": 50,
   "metadata": {},
   "outputs": [
    {
     "name": "stdout",
     "output_type": "stream",
     "text": [
      "成功グループの平均:4265.734246575343\n",
      "失敗グループの平均:4789.198170731707\n",
      "成功グループの中央値:3000.0\n",
      "失敗グループの中央値:3200.0\n"
     ]
    }
   ],
   "source": [
    "print(\"成功グループの平均:{}\".format(data.loc[data['target']==1,'返礼品ありの下限'].mean()))\n",
    "print(\"失敗グループの平均:{}\".format(data.loc[data['target']==0,'返礼品ありの下限'].mean()))\n",
    "print(\"成功グループの中央値:{}\".format(data.loc[data['target']==1,'返礼品ありの下限'].median()))\n",
    "print(\"失敗グループの中央値:{}\".format(data.loc[data['target']==0,'返礼品ありの下限'].median()))"
   ]
  },
  {
   "cell_type": "markdown",
   "metadata": {},
   "source": [
    "成否にほとんど影響なさそう"
   ]
  },
  {
   "cell_type": "markdown",
   "metadata": {},
   "source": [
    "#### 最高額支援ダミー"
   ]
  },
  {
   "cell_type": "code",
   "execution_count": 51,
   "metadata": {},
   "outputs": [
    {
     "data": {
      "text/plain": [
       "<matplotlib.legend.Legend at 0x7fbf7f1c6910>"
      ]
     },
     "execution_count": 51,
     "metadata": {},
     "output_type": "execute_result"
    },
    {
     "data": {
      "image/png": "[encoded data removed]",
      "text/plain": [
       "<Figure size 750x500 with 1 Axes>"
      ]
     },
     "metadata": {
      "needs_background": "light"
     },
     "output_type": "display_data"
    }
   ],
   "source": [
    "fig = plt.figure(figsize=(15, 10), dpi=50)\n",
    "ax = fig.add_subplot()\n",
    "sns.countplot(x='最高額支援ダミー',hue='target',data=data)\n",
    "plt.xlabel('dummy',fontsize=18)\n",
    "plt.ylabel('count',fontsize=18)\n",
    "plt.xticks(fontsize=16)\n",
    "plt.yticks(fontsize=16)\n",
    "plt.legend(title='Success',fontsize=20)"
   ]
  },
  {
   "cell_type": "code",
   "execution_count": 52,
   "metadata": {},
   "outputs": [
    {
     "name": "stdout",
     "output_type": "stream",
     "text": [
      "ダミー変数が1になる割合:0.5873015873015873\n"
     ]
    }
   ],
   "source": [
    "dummy = data[\"最高額支援ダミー\"].sum() / len(data[\"最高額支援ダミー\"])\n",
    "print(\"ダミー変数が1になる割合:{}\".format(dummy))"
   ]
  },
  {
   "cell_type": "code",
   "execution_count": 53,
   "metadata": {},
   "outputs": [
    {
     "name": "stdout",
     "output_type": "stream",
     "text": [
      "成功グループの割合:0.7561643835616438\n",
      "失敗グループの割合:0.39939024390243905\n"
     ]
    }
   ],
   "source": [
    "print(\"成功グループの割合:{}\".format(data.loc[data['target']==1,'最高額支援ダミー'].sum() / len(data.loc[data['target']==1])))\n",
    "print(\"失敗グループの割合:{}\".format(data.loc[data['target']==0,'最高額支援ダミー'].sum() / len(data.loc[data['target']==0])))"
   ]
  },
  {
   "cell_type": "markdown",
   "metadata": {},
   "source": [
    "#### 最低額返礼品ダミー"
   ]
  },
  {
   "cell_type": "code",
   "execution_count": 54,
   "metadata": {
    "scrolled": false
   },
   "outputs": [
    {
     "data": {
      "text/plain": [
       "<matplotlib.legend.Legend at 0x7fbf7f221d30>"
      ]
     },
     "execution_count": 54,
     "metadata": {},
     "output_type": "execute_result"
    },
    {
     "data": {
      "image/png": "[encoded data removed]",
      "text/plain": [
       "<Figure size 750x500 with 1 Axes>"
      ]
     },
     "metadata": {
      "needs_background": "light"
     },
     "output_type": "display_data"
    }
   ],
   "source": [
    "fig = plt.figure(figsize=(15, 10), dpi=50)\n",
    "ax = fig.add_subplot()\n",
    "sns.countplot(x='最低額返礼品ダミー',hue='target',data=data)\n",
    "plt.xlabel('dummy',fontsize=18)\n",
    "plt.ylabel('count',fontsize=18)\n",
    "plt.xticks(fontsize=16)\n",
    "plt.yticks(fontsize=16)\n",
    "plt.legend(title='Success',fontsize=20)"
   ]
  },
  {
   "cell_type": "code",
   "execution_count": 55,
   "metadata": {},
   "outputs": [
    {
     "name": "stdout",
     "output_type": "stream",
     "text": [
      "ダミー変数が1になる割合:0.7056277056277056\n"
     ]
    }
   ],
   "source": [
    "dummy = data[\"最低額返礼品ダミー\"].sum() / len(data[\"最低額返礼品ダミー\"])\n",
    "print(\"ダミー変数が1になる割合:{}\".format(dummy))"
   ]
  },
  {
   "cell_type": "code",
   "execution_count": 56,
   "metadata": {},
   "outputs": [
    {
     "name": "stdout",
     "output_type": "stream",
     "text": [
      "成功グループの割合:0.7452054794520548\n",
      "失敗グループの割合:0.6615853658536586\n"
     ]
    }
   ],
   "source": [
    "print(\"成功グループの割合:{}\".format(data.loc[data['target']==1,'最低額返礼品ダミー'].sum() / len(data.loc[data['target']==1])))\n",
    "print(\"失敗グループの割合:{}\".format(data.loc[data['target']==0,'最低額返礼品ダミー'].sum() / len(data.loc[data['target']==0])))"
   ]
  },
  {
   "cell_type": "markdown",
   "metadata": {},
   "source": [
    "成功グループ,失敗グループ問わず70%前後のプロジェクトでは,最低額のコースに返礼品が付与"
   ]
  },
  {
   "cell_type": "markdown",
   "metadata": {},
   "source": [
    "#### 自然災害ダミー"
   ]
  },
  {
   "cell_type": "code",
   "execution_count": 57,
   "metadata": {
    "scrolled": false
   },
   "outputs": [
    {
     "data": {
      "text/plain": [
       "<matplotlib.legend.Legend at 0x7fbf7f491c70>"
      ]
     },
     "execution_count": 57,
     "metadata": {},
     "output_type": "execute_result"
    },
    {
     "data": {
      "image/png": "[encoded data removed]",
      "text/plain": [
       "<Figure size 750x500 with 1 Axes>"
      ]
     },
     "metadata": {
      "needs_background": "light"
     },
     "output_type": "display_data"
    }
   ],
   "source": [
    "fig = plt.figure(figsize=(15, 10), dpi=50)\n",
    "ax = fig.add_subplot()\n",
    "sns.countplot(x='target',hue='自然災害ダミー',data=data)\n",
    "plt.xlabel('dummy',fontsize=18)\n",
    "plt.ylabel('count',fontsize=18)\n",
    "plt.xticks(fontsize=16)\n",
    "plt.yticks(fontsize=16)\n",
    "plt.legend(title='Success',fontsize=20)"
   ]
  },
  {
   "cell_type": "code",
   "execution_count": 58,
   "metadata": {},
   "outputs": [
    {
     "name": "stdout",
     "output_type": "stream",
     "text": [
      "ダミー変数が1になる割合:0.049062049062049064\n"
     ]
    }
   ],
   "source": [
    "dummy = data[\"自然災害ダミー\"].sum() / len(data[\"自然災害ダミー\"])\n",
    "print(\"ダミー変数が1になる割合:{}\".format(dummy))"
   ]
  },
  {
   "cell_type": "code",
   "execution_count": 59,
   "metadata": {},
   "outputs": [
    {
     "name": "stdout",
     "output_type": "stream",
     "text": [
      "災害グループの成功率:0.38235294117647056\n",
      "非災害グループの成功率:0.5341426403641881\n"
     ]
    }
   ],
   "source": [
    "print(\"災害グループの成功率:{}\".format(data.loc[data['自然災害ダミー']==1,'target'].mean()))\n",
    "print(\"非災害グループの成功率:{}\".format(data.loc[data['自然災害ダミー']==0,'target'].mean()))"
   ]
  },
  {
   "cell_type": "markdown",
   "metadata": {},
   "source": [
    "#### 畜産ダミー"
   ]
  },
  {
   "cell_type": "code",
   "execution_count": 60,
   "metadata": {
    "scrolled": true
   },
   "outputs": [
    {
     "data": {
      "text/plain": [
       "<matplotlib.legend.Legend at 0x7fbf7f4f4b50>"
      ]
     },
     "execution_count": 60,
     "metadata": {},
     "output_type": "execute_result"
    },
    {
     "data": {
      "image/png": "[encoded data removed]",
      "text/plain": [
       "<Figure size 750x500 with 1 Axes>"
      ]
     },
     "metadata": {
      "needs_background": "light"
     },
     "output_type": "display_data"
    }
   ],
   "source": [
    "fig = plt.figure(figsize=(15, 10), dpi=50)\n",
    "ax = fig.add_subplot()\n",
    "sns.countplot(x='target',hue='畜産ダミー',data=data)\n",
    "plt.xlabel('dummy',fontsize=18)\n",
    "plt.ylabel('count',fontsize=18)\n",
    "plt.xticks(fontsize=16)\n",
    "plt.yticks(fontsize=16)\n",
    "plt.legend(title='Success',fontsize=20)"
   ]
  },
  {
   "cell_type": "code",
   "execution_count": 61,
   "metadata": {},
   "outputs": [
    {
     "name": "stdout",
     "output_type": "stream",
     "text": [
      "ダミー変数が1になる割合:0.15873015873015872\n"
     ]
    }
   ],
   "source": [
    "dummy = data[\"畜産ダミー\"].sum() / len(data[\"畜産ダミー\"])\n",
    "print(\"ダミー変数が1になる割合:{}\".format(dummy))"
   ]
  },
  {
   "cell_type": "code",
   "execution_count": 62,
   "metadata": {},
   "outputs": [
    {
     "name": "stdout",
     "output_type": "stream",
     "text": [
      "畜産グループの成功率:0.6090909090909091\n",
      "耕種グループの成功率:0.5111492281303602\n"
     ]
    }
   ],
   "source": [
    "print(\"畜産グループの成功率:{}\".format(data.loc[data['畜産ダミー']==1,'target'].mean()))\n",
    "print(\"耕種グループの成功率:{}\".format(data.loc[data['畜産ダミー']==0,'target'].mean()))"
   ]
  }
 ],
 "metadata": {
  "kernelspec": {
   "display_name": "Python 3",
   "language": "python",
   "name": "python3"
  },
  "language_info": {
   "codemirror_mode": {
    "name": "ipython",
    "version": 3
   },
   "file_extension": ".py",
   "mimetype": "text/x-python",
   "name": "python",
   "nbconvert_exporter": "python",
   "pygments_lexer": "ipython3",
   "version": "3.8.5"
  }
 },
 "nbformat": 4,
 "nbformat_minor": 2
}
