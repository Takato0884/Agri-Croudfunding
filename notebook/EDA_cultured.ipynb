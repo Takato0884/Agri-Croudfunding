{
 "cells": [
  {
   "cell_type": "markdown",
   "metadata": {},
   "source": [
    "# 前処理"
   ]
  },
  {
   "cell_type": "code",
   "execution_count": 1,
   "metadata": {},
   "outputs": [],
   "source": [
    "import numpy as np\n",
    "import pandas as pd\n",
    "import matplotlib.pyplot as plt\n",
    "import seaborn as sns"
   ]
  },
  {
   "cell_type": "code",
   "execution_count": 2,
   "metadata": {},
   "outputs": [],
   "source": [
    "#scvファイルの読み込み\n",
    "livestock = pd.read_csv(\"../data/livestock.csv\")\n",
    "cultured = pd.read_csv(\"../data/cultured.csv\")"
   ]
  },
  {
   "cell_type": "code",
   "execution_count": 3,
   "metadata": {},
   "outputs": [],
   "source": [
    "data_pre = pd.concat([livestock,cultured],sort=False)\n",
    "data = data_pre.reset_index(drop=True)"
   ]
  },
  {
   "cell_type": "code",
   "execution_count": 4,
   "metadata": {},
   "outputs": [
    {
     "name": "stderr",
     "output_type": "stream",
     "text": [
      "<ipython-input-4-766776659890>:15: SettingWithCopyWarning: \n",
      "A value is trying to be set on a copy of a slice from a DataFrame\n",
      "\n",
      "See the caveats in the documentation: https://pandas.pydata.org/pandas-docs/stable/user_guide/indexing.html#returning-a-view-versus-a-copy\n",
      "  data[\"自然災害ダミー\"][i] = 1\n",
      "<ipython-input-4-766776659890>:19: SettingWithCopyWarning: \n",
      "A value is trying to be set on a copy of a slice from a DataFrame\n",
      "\n",
      "See the caveats in the documentation: https://pandas.pydata.org/pandas-docs/stable/user_guide/indexing.html#returning-a-view-versus-a-copy\n",
      "  data[\"自然災害ダミー\"][i] = 1\n",
      "<ipython-input-4-766776659890>:17: SettingWithCopyWarning: \n",
      "A value is trying to be set on a copy of a slice from a DataFrame\n",
      "\n",
      "See the caveats in the documentation: https://pandas.pydata.org/pandas-docs/stable/user_guide/indexing.html#returning-a-view-versus-a-copy\n",
      "  data[\"自然災害ダミー\"][i] = 1\n"
     ]
    }
   ],
   "source": [
    "# 新しい説明変数を作成する\n",
    "\n",
    "#一人当たり支援額\n",
    "data[\"一人当たり支援額\"] = round(data[\"支援総額\"]/(data[\"支援者数\"]+1))\n",
    "#最高額支援ダミー:最高支援額と支援額上限が一致するか 0:不一致 1:一致\n",
    "data[\"最高額支援ダミー\"] = 0\n",
    "data.loc[data['最高支援額']==data['支援額上限'],'最高額支援ダミー'] = 1\n",
    "#最低額返礼品ダミー:支援額下限と返礼品ありの下限が一致するか　0:不一致　1:一致\n",
    "data[\"最低額返礼品ダミー\"] = 0\n",
    "data.loc[data['支援額下限']==data['返礼品ありの下限'],'最低額返礼品ダミー'] = 1\n",
    "#自然災害ダミー:災害を示すような言葉が含まれているか\n",
    "data[\"自然災害ダミー\"] = 0\n",
    "for i in range(len(data)):\n",
    "    if \"震災\" in data[\"プロジェクト名\"][i]:\n",
    "        data[\"自然災害ダミー\"][i] = 1\n",
    "    elif \"豪雨\" in data[\"プロジェクト名\"][i]:\n",
    "        data[\"自然災害ダミー\"][i] = 1\n",
    "    elif \"台風\" in data[\"プロジェクト名\"][i]:\n",
    "        data[\"自然災害ダミー\"][i] = 1\n",
    "\n",
    "#target値を作成　0:失敗　1:成功\n",
    "data[\"achievement\"] = data[\"支援総額\"] // data[\"目標金額\"]\n",
    "data[\"target\"] = 0\n",
    "data.loc[data['achievement']>=1,'target'] = 1"
   ]
  },
  {
   "cell_type": "code",
   "execution_count": 5,
   "metadata": {},
   "outputs": [],
   "source": [
    "delate_col = [\"プロジェクト名\",\"URL\",\"CFP\",\"産業\",\"achievement\"]\n",
    "data = data.drop(columns=delate_col)"
   ]
  },
  {
   "cell_type": "code",
   "execution_count": 6,
   "metadata": {
    "scrolled": false
   },
   "outputs": [
    {
     "data": {
      "text/html": [
       "<div>\n",
       "<style scoped>\n",
       "    .dataframe tbody tr th:only-of-type {\n",
       "        vertical-align: middle;\n",
       "    }\n",
       "\n",
       "    .dataframe tbody tr th {\n",
       "        vertical-align: top;\n",
       "    }\n",
       "\n",
       "    .dataframe thead th {\n",
       "        text-align: right;\n",
       "    }\n",
       "</style>\n",
       "<table border=\"1\" class=\"dataframe\">\n",
       "  <thead>\n",
       "    <tr style=\"text-align: right;\">\n",
       "      <th></th>\n",
       "      <th>支援総額</th>\n",
       "      <th>目標金額</th>\n",
       "      <th>支援者数</th>\n",
       "      <th>画像数</th>\n",
       "      <th>動画数</th>\n",
       "      <th>文字数</th>\n",
       "      <th>活動報告回数</th>\n",
       "      <th>リターン種類数</th>\n",
       "      <th>最高支援額</th>\n",
       "      <th>支援額上限</th>\n",
       "      <th>支援額下限</th>\n",
       "      <th>最低支援額</th>\n",
       "      <th>返礼品ありの下限</th>\n",
       "      <th>一人当たり支援額</th>\n",
       "      <th>最高額支援ダミー</th>\n",
       "      <th>最低額返礼品ダミー</th>\n",
       "      <th>自然災害ダミー</th>\n",
       "      <th>target</th>\n",
       "    </tr>\n",
       "  </thead>\n",
       "  <tbody>\n",
       "    <tr>\n",
       "      <th>0</th>\n",
       "      <td>1185000</td>\n",
       "      <td>1000000</td>\n",
       "      <td>71</td>\n",
       "      <td>8</td>\n",
       "      <td>0</td>\n",
       "      <td>2566</td>\n",
       "      <td>3</td>\n",
       "      <td>9</td>\n",
       "      <td>50000</td>\n",
       "      <td>50000</td>\n",
       "      <td>5000</td>\n",
       "      <td>5000</td>\n",
       "      <td>5000</td>\n",
       "      <td>16458.0</td>\n",
       "      <td>1</td>\n",
       "      <td>1</td>\n",
       "      <td>0</td>\n",
       "      <td>1</td>\n",
       "    </tr>\n",
       "    <tr>\n",
       "      <th>1</th>\n",
       "      <td>1382000</td>\n",
       "      <td>1000000</td>\n",
       "      <td>72</td>\n",
       "      <td>22</td>\n",
       "      <td>0</td>\n",
       "      <td>4010</td>\n",
       "      <td>5</td>\n",
       "      <td>12</td>\n",
       "      <td>100000</td>\n",
       "      <td>100000</td>\n",
       "      <td>3000</td>\n",
       "      <td>3000</td>\n",
       "      <td>3000</td>\n",
       "      <td>18932.0</td>\n",
       "      <td>1</td>\n",
       "      <td>1</td>\n",
       "      <td>0</td>\n",
       "      <td>1</td>\n",
       "    </tr>\n",
       "    <tr>\n",
       "      <th>2</th>\n",
       "      <td>1205000</td>\n",
       "      <td>1000000</td>\n",
       "      <td>91</td>\n",
       "      <td>9</td>\n",
       "      <td>1</td>\n",
       "      <td>4244</td>\n",
       "      <td>27</td>\n",
       "      <td>12</td>\n",
       "      <td>100000</td>\n",
       "      <td>100000</td>\n",
       "      <td>5000</td>\n",
       "      <td>5000</td>\n",
       "      <td>5000</td>\n",
       "      <td>13098.0</td>\n",
       "      <td>1</td>\n",
       "      <td>1</td>\n",
       "      <td>0</td>\n",
       "      <td>1</td>\n",
       "    </tr>\n",
       "    <tr>\n",
       "      <th>3</th>\n",
       "      <td>865000</td>\n",
       "      <td>600000</td>\n",
       "      <td>79</td>\n",
       "      <td>10</td>\n",
       "      <td>0</td>\n",
       "      <td>3500</td>\n",
       "      <td>13</td>\n",
       "      <td>5</td>\n",
       "      <td>10000</td>\n",
       "      <td>15000</td>\n",
       "      <td>5000</td>\n",
       "      <td>5000</td>\n",
       "      <td>10000</td>\n",
       "      <td>10812.0</td>\n",
       "      <td>0</td>\n",
       "      <td>0</td>\n",
       "      <td>0</td>\n",
       "      <td>1</td>\n",
       "    </tr>\n",
       "    <tr>\n",
       "      <th>4</th>\n",
       "      <td>1619000</td>\n",
       "      <td>1000000</td>\n",
       "      <td>116</td>\n",
       "      <td>18</td>\n",
       "      <td>0</td>\n",
       "      <td>3457</td>\n",
       "      <td>17</td>\n",
       "      <td>6</td>\n",
       "      <td>100000</td>\n",
       "      <td>300000</td>\n",
       "      <td>3000</td>\n",
       "      <td>3000</td>\n",
       "      <td>10000</td>\n",
       "      <td>13838.0</td>\n",
       "      <td>0</td>\n",
       "      <td>0</td>\n",
       "      <td>1</td>\n",
       "      <td>1</td>\n",
       "    </tr>\n",
       "  </tbody>\n",
       "</table>\n",
       "</div>"
      ],
      "text/plain": [
       "      支援総額     目標金額  支援者数  画像数  動画数   文字数  活動報告回数  リターン種類数   最高支援額   支援額上限  \\\n",
       "0  1185000  1000000    71    8    0  2566       3        9   50000   50000   \n",
       "1  1382000  1000000    72   22    0  4010       5       12  100000  100000   \n",
       "2  1205000  1000000    91    9    1  4244      27       12  100000  100000   \n",
       "3   865000   600000    79   10    0  3500      13        5   10000   15000   \n",
       "4  1619000  1000000   116   18    0  3457      17        6  100000  300000   \n",
       "\n",
       "   支援額下限  最低支援額  返礼品ありの下限  一人当たり支援額  最高額支援ダミー  最低額返礼品ダミー  自然災害ダミー  target  \n",
       "0   5000   5000      5000   16458.0         1          1        0       1  \n",
       "1   3000   3000      3000   18932.0         1          1        0       1  \n",
       "2   5000   5000      5000   13098.0         1          1        0       1  \n",
       "3   5000   5000     10000   10812.0         0          0        0       1  \n",
       "4   3000   3000     10000   13838.0         0          0        1       1  "
      ]
     },
     "execution_count": 6,
     "metadata": {},
     "output_type": "execute_result"
    }
   ],
   "source": [
    "data.head()"
   ]
  },
  {
   "cell_type": "code",
   "execution_count": 7,
   "metadata": {},
   "outputs": [],
   "source": [
    "livestock = data[:109]\n",
    "cultured = data[109:]"
   ]
  },
  {
   "cell_type": "markdown",
   "metadata": {},
   "source": [
    "# 耕種"
   ]
  },
  {
   "cell_type": "markdown",
   "metadata": {},
   "source": [
    "#### target"
   ]
  },
  {
   "cell_type": "code",
   "execution_count": 8,
   "metadata": {},
   "outputs": [
    {
     "data": {
      "text/plain": [
       "<AxesSubplot:xlabel='target', ylabel='count'>"
      ]
     },
     "execution_count": 8,
     "metadata": {},
     "output_type": "execute_result"
    },
    {
     "data": {
      "image/png": "[encoded data removed]",
      "text/plain": [
       "<Figure size 750x500 with 1 Axes>"
      ]
     },
     "metadata": {
      "needs_background": "light"
     },
     "output_type": "display_data"
    }
   ],
   "source": [
    "fig = plt.figure(figsize=(15, 10), dpi=50)\n",
    "ax = fig.add_subplot()\n",
    "plt.xlabel('target',fontsize=18)\n",
    "plt.ylabel('count',fontsize=18)\n",
    "plt.xticks(fontsize=16)\n",
    "plt.yticks(fontsize=16)\n",
    "sns.countplot(x=\"target\",data=cultured)"
   ]
  },
  {
   "cell_type": "code",
   "execution_count": 9,
   "metadata": {},
   "outputs": [
    {
     "name": "stdout",
     "output_type": "stream",
     "text": [
      "成功割合:0.5102739726027398\n"
     ]
    }
   ],
   "source": [
    "success = cultured[\"target\"].sum() / len(cultured[\"target\"])\n",
    "print(\"成功割合:{}\".format(success))"
   ]
  },
  {
   "cell_type": "markdown",
   "metadata": {},
   "source": [
    "#### 目標金額"
   ]
  },
  {
   "cell_type": "code",
   "execution_count": 10,
   "metadata": {},
   "outputs": [
    {
     "name": "stdout",
     "output_type": "stream",
     "text": [
      "max:30000000 min:10000\n"
     ]
    }
   ],
   "source": [
    "print(\"max:{} min:{}\".format(cultured[\"目標金額\"].max(),cultured[\"目標金額\"].min()))"
   ]
  },
  {
   "cell_type": "code",
   "execution_count": 11,
   "metadata": {},
   "outputs": [
    {
     "data": {
      "text/plain": [
       "<matplotlib.legend.Legend at 0x7fb11dc6b250>"
      ]
     },
     "execution_count": 11,
     "metadata": {},
     "output_type": "execute_result"
    },
    {
     "data": {
      "image/png": "[encoded data removed]",
      "text/plain": [
       "<Figure size 750x500 with 1 Axes>"
      ]
     },
     "metadata": {
      "needs_background": "light"
     },
     "output_type": "display_data"
    }
   ],
   "source": [
    "fig = plt.figure(figsize=(15, 10), dpi=50)\n",
    "ax = fig.add_subplot()\n",
    "plt.hist(cultured.loc[cultured['target']==0,'目標金額'],range=(10000,10000000),bins=25,alpha=0.5,label='0')\n",
    "plt.hist(cultured.loc[cultured['target']==1,'目標金額'],range=(10000,10000000),bins=25,alpha=0.5,label='1')\n",
    "plt.xlabel('target_value',fontsize=18)\n",
    "plt.ylabel('count',fontsize=18)\n",
    "plt.xticks(fontsize=16)\n",
    "plt.yticks(fontsize=16)\n",
    "plt.legend(title='Success',fontsize=20)"
   ]
  },
  {
   "cell_type": "code",
   "execution_count": 12,
   "metadata": {},
   "outputs": [
    {
     "name": "stdout",
     "output_type": "stream",
     "text": [
      "成功グループの平均:821582.7315436242\n",
      "失敗グループの平均:1847955.0314685316\n",
      "成功グループの中央値:500000.0\n",
      "失敗グループの中央値:1000000.0\n"
     ]
    }
   ],
   "source": [
    "#外れ値があるので平均は不適切かも\n",
    "print(\"成功グループの平均:{}\".format(cultured.loc[cultured['target']==1,'目標金額'].mean()))\n",
    "print(\"失敗グループの平均:{}\".format(cultured.loc[cultured['target']==0,'目標金額'].mean()))\n",
    "print(\"成功グループの中央値:{}\".format(cultured.loc[cultured['target']==1,'目標金額'].median()))\n",
    "print(\"失敗グループの中央値:{}\".format(cultured.loc[cultured['target']==0,'目標金額'].median()))"
   ]
  },
  {
   "cell_type": "markdown",
   "metadata": {},
   "source": [
    "#### 支援者数"
   ]
  },
  {
   "cell_type": "code",
   "execution_count": 13,
   "metadata": {},
   "outputs": [
    {
     "name": "stdout",
     "output_type": "stream",
     "text": [
      "max:1163 min:0\n"
     ]
    }
   ],
   "source": [
    "print(\"max:{} min:{}\".format(cultured[\"支援者数\"].max(),cultured[\"支援者数\"].min()))"
   ]
  },
  {
   "cell_type": "code",
   "execution_count": 14,
   "metadata": {},
   "outputs": [
    {
     "data": {
      "text/plain": [
       "<matplotlib.legend.Legend at 0x7fb11de09e80>"
      ]
     },
     "execution_count": 14,
     "metadata": {},
     "output_type": "execute_result"
    },
    {
     "data": {
      "image/png": "[encoded data removed]",
      "text/plain": [
       "<Figure size 600x400 with 1 Axes>"
      ]
     },
     "metadata": {
      "needs_background": "light"
     },
     "output_type": "display_data"
    }
   ],
   "source": [
    "fig = plt.figure(figsize=(12, 8), dpi=50)\n",
    "ax = fig.add_subplot()\n",
    "plt.hist(cultured.loc[cultured['target']==0,'支援者数'],range=(0,600),bins=30,alpha=0.5,label='0')\n",
    "plt.hist(cultured.loc[cultured['target']==1,'支援者数'],range=(0,600),bins=30,alpha=0.5,label='1')\n",
    "plt.xlabel('supporters',fontsize=18)\n",
    "plt.ylabel('count',fontsize=18)\n",
    "plt.xticks(fontsize=16)\n",
    "plt.yticks(fontsize=16)\n",
    "plt.legend(title='Success',fontsize=20)"
   ]
  },
  {
   "cell_type": "code",
   "execution_count": 15,
   "metadata": {},
   "outputs": [
    {
     "name": "stdout",
     "output_type": "stream",
     "text": [
      "成功グループの平均:117.88926174496645\n",
      "失敗グループの平均:31.03146853146853\n",
      "成功グループの中央値:85.5\n",
      "失敗グループの中央値:13.5\n"
     ]
    }
   ],
   "source": [
    "#外れ値があるので平均は不適切かも\n",
    "print(\"成功グループの平均:{}\".format(cultured.loc[cultured['target']==1,'支援者数'].mean()))\n",
    "print(\"失敗グループの平均:{}\".format(cultured.loc[cultured['target']==0,'支援者数'].mean()))\n",
    "print(\"成功グループの中央値:{}\".format(cultured.loc[cultured['target']==1,'支援者数'].median()))\n",
    "print(\"失敗グループの中央値:{}\".format(cultured.loc[cultured['target']==0,'支援者数'].median()))"
   ]
  },
  {
   "cell_type": "markdown",
   "metadata": {},
   "source": [
    "#### 画像数"
   ]
  },
  {
   "cell_type": "code",
   "execution_count": 16,
   "metadata": {},
   "outputs": [
    {
     "name": "stdout",
     "output_type": "stream",
     "text": [
      "max:67 min:0\n"
     ]
    }
   ],
   "source": [
    "print(\"max:{} min:{}\".format(cultured[\"画像数\"].max(),cultured[\"画像数\"].min()))"
   ]
  },
  {
   "cell_type": "code",
   "execution_count": 17,
   "metadata": {},
   "outputs": [
    {
     "data": {
      "text/plain": [
       "<matplotlib.legend.Legend at 0x7fb11e0d63a0>"
      ]
     },
     "execution_count": 17,
     "metadata": {},
     "output_type": "execute_result"
    },
    {
     "data": {
      "image/png": "[encoded data removed]",
      "text/plain": [
       "<Figure size 750x500 with 1 Axes>"
      ]
     },
     "metadata": {
      "needs_background": "light"
     },
     "output_type": "display_data"
    }
   ],
   "source": [
    "fig = plt.figure(figsize=(15, 10), dpi=50)\n",
    "ax = fig.add_subplot()\n",
    "plt.hist(cultured.loc[cultured['target']==0,'画像数'],range=(0,70),bins=14,alpha=0.5,label='0')\n",
    "plt.hist(cultured.loc[cultured['target']==1,'画像数'],range=(0,70),bins=14,alpha=0.5,label='1')\n",
    "plt.xlabel('image',fontsize=18)\n",
    "plt.ylabel('count',fontsize=18)\n",
    "plt.xticks(fontsize=16)\n",
    "plt.yticks(fontsize=16)\n",
    "plt.legend(title='Success',fontsize=20)"
   ]
  },
  {
   "cell_type": "code",
   "execution_count": 18,
   "metadata": {},
   "outputs": [
    {
     "name": "stdout",
     "output_type": "stream",
     "text": [
      "成功グループの平均:17.238255033557046\n",
      "失敗グループの平均:11.43006993006993\n",
      "成功グループの中央値:15.0\n",
      "失敗グループの中央値:9.5\n"
     ]
    }
   ],
   "source": [
    "print(\"成功グループの平均:{}\".format(cultured.loc[cultured['target']==1,'画像数'].mean()))\n",
    "print(\"失敗グループの平均:{}\".format(cultured.loc[cultured['target']==0,'画像数'].mean()))\n",
    "print(\"成功グループの中央値:{}\".format(cultured.loc[cultured['target']==1,'画像数'].median()))\n",
    "print(\"失敗グループの中央値:{}\".format(cultured.loc[cultured['target']==0,'画像数'].median()))"
   ]
  },
  {
   "cell_type": "markdown",
   "metadata": {},
   "source": [
    "#### 動画数"
   ]
  },
  {
   "cell_type": "code",
   "execution_count": 19,
   "metadata": {},
   "outputs": [
    {
     "name": "stdout",
     "output_type": "stream",
     "text": [
      "max:6 min:0\n"
     ]
    }
   ],
   "source": [
    "print(\"max:{} min:{}\".format(cultured[\"動画数\"].max(),cultured[\"動画数\"].min()))"
   ]
  },
  {
   "cell_type": "code",
   "execution_count": 20,
   "metadata": {},
   "outputs": [
    {
     "data": {
      "text/plain": [
       "<matplotlib.legend.Legend at 0x7fb11e28e6d0>"
      ]
     },
     "execution_count": 20,
     "metadata": {},
     "output_type": "execute_result"
    },
    {
     "data": {
      "image/png": "[encoded data removed]",
      "text/plain": [
       "<Figure size 750x500 with 1 Axes>"
      ]
     },
     "metadata": {
      "needs_background": "light"
     },
     "output_type": "display_data"
    }
   ],
   "source": [
    "fig = plt.figure(figsize=(15, 10), dpi=50)\n",
    "ax = fig.add_subplot()\n",
    "plt.hist(cultured.loc[cultured['target']==0,'動画数'],range=(0,7),bins=7,alpha=0.5,label='0')\n",
    "plt.hist(cultured.loc[cultured['target']==1,'動画数'],range=(0,7),bins=7,alpha=0.5,label='1')\n",
    "plt.xlabel('movie',fontsize=18)\n",
    "plt.ylabel('count',fontsize=18)\n",
    "plt.xticks(fontsize=16)\n",
    "plt.yticks(fontsize=16)\n",
    "plt.legend(title='Success',fontsize=20)"
   ]
  },
  {
   "cell_type": "code",
   "execution_count": 21,
   "metadata": {},
   "outputs": [
    {
     "name": "stdout",
     "output_type": "stream",
     "text": [
      "成功グループの平均:0.3825503355704698\n",
      "失敗グループの平均:0.25524475524475526\n",
      "成功グループの中央値:0.0\n",
      "失敗グループの中央値:0.0\n"
     ]
    }
   ],
   "source": [
    "print(\"成功グループの平均:{}\".format(cultured.loc[cultured['target']==1,'動画数'].mean()))\n",
    "print(\"失敗グループの平均:{}\".format(cultured.loc[cultured['target']==0,'動画数'].mean()))\n",
    "print(\"成功グループの中央値:{}\".format(cultured.loc[cultured['target']==1,'動画数'].median()))\n",
    "print(\"失敗グループの中央値:{}\".format(cultured.loc[cultured['target']==0,'動画数'].median()))"
   ]
  },
  {
   "cell_type": "code",
   "execution_count": 22,
   "metadata": {},
   "outputs": [
    {
     "name": "stdout",
     "output_type": "stream",
     "text": [
      "動画ありグループの成功率:0.6302521008403361\n",
      "動画なしグループの成功率:0.47956989247311826\n"
     ]
    }
   ],
   "source": [
    "print(\"動画ありグループの成功率:{}\".format(cultured.loc[cultured['動画数']>=1,'target'].mean()))\n",
    "print(\"動画なしグループの成功率:{}\".format(cultured.loc[cultured['動画数']==0,'target'].mean()))"
   ]
  },
  {
   "cell_type": "markdown",
   "metadata": {},
   "source": [
    "#### 文字数"
   ]
  },
  {
   "cell_type": "code",
   "execution_count": 23,
   "metadata": {},
   "outputs": [
    {
     "name": "stdout",
     "output_type": "stream",
     "text": [
      "max:20054 min:378\n"
     ]
    }
   ],
   "source": [
    "print(\"max:{} min:{}\".format(cultured[\"文字数\"].max(),cultured[\"文字数\"].min()))"
   ]
  },
  {
   "cell_type": "code",
   "execution_count": 24,
   "metadata": {},
   "outputs": [
    {
     "data": {
      "text/plain": [
       "<matplotlib.legend.Legend at 0x7fb11e4d0bb0>"
      ]
     },
     "execution_count": 24,
     "metadata": {},
     "output_type": "execute_result"
    },
    {
     "data": {
      "image/png": "[encoded data removed]",
      "text/plain": [
       "<Figure size 750x500 with 1 Axes>"
      ]
     },
     "metadata": {
      "needs_background": "light"
     },
     "output_type": "display_data"
    }
   ],
   "source": [
    "fig = plt.figure(figsize=(15, 10), dpi=50)\n",
    "ax = fig.add_subplot()\n",
    "plt.hist(cultured.loc[cultured['target']==0,'文字数'],range=(0,8000),bins=40,alpha=0.5,label='0')\n",
    "plt.hist(cultured.loc[cultured['target']==1,'文字数'],range=(0,8000),bins=40,alpha=0.5,label='1')\n",
    "plt.xlabel('word',fontsize=18)\n",
    "plt.ylabel('count',fontsize=18)\n",
    "plt.xticks(fontsize=16)\n",
    "plt.yticks(fontsize=16)\n",
    "plt.legend(title='Success',fontsize=20)"
   ]
  },
  {
   "cell_type": "code",
   "execution_count": 25,
   "metadata": {},
   "outputs": [
    {
     "name": "stdout",
     "output_type": "stream",
     "text": [
      "成功グループの平均:3777.8959731543623\n",
      "失敗グループの平均:2737.7272727272725\n",
      "成功グループの中央値:3441.5\n",
      "失敗グループの中央値:2375.5\n"
     ]
    }
   ],
   "source": [
    "print(\"成功グループの平均:{}\".format(cultured.loc[cultured['target']==1,'文字数'].mean()))\n",
    "print(\"失敗グループの平均:{}\".format(cultured.loc[cultured['target']==0,'文字数'].mean()))\n",
    "print(\"成功グループの中央値:{}\".format(cultured.loc[cultured['target']==1,'文字数'].median()))\n",
    "print(\"失敗グループの中央値:{}\".format(cultured.loc[cultured['target']==0,'文字数'].median()))"
   ]
  },
  {
   "cell_type": "markdown",
   "metadata": {},
   "source": [
    "#### 活動報告回数"
   ]
  },
  {
   "cell_type": "code",
   "execution_count": 26,
   "metadata": {},
   "outputs": [
    {
     "name": "stdout",
     "output_type": "stream",
     "text": [
      "max:99 min:0\n"
     ]
    }
   ],
   "source": [
    "print(\"max:{} min:{}\".format(cultured[\"活動報告回数\"].max(),cultured[\"活動報告回数\"].min()))"
   ]
  },
  {
   "cell_type": "code",
   "execution_count": 27,
   "metadata": {},
   "outputs": [
    {
     "data": {
      "text/plain": [
       "<matplotlib.legend.Legend at 0x7fb11e6bfe50>"
      ]
     },
     "execution_count": 27,
     "metadata": {},
     "output_type": "execute_result"
    },
    {
     "data": {
      "image/png": "[encoded data removed]",
      "text/plain": [
       "<Figure size 750x500 with 1 Axes>"
      ]
     },
     "metadata": {
      "needs_background": "light"
     },
     "output_type": "display_data"
    }
   ],
   "source": [
    "fig = plt.figure(figsize=(15, 10), dpi=50)\n",
    "ax = fig.add_subplot()\n",
    "plt.hist(cultured.loc[cultured['target']==0,'活動報告回数'],range=(0,100),bins=25,alpha=0.5,label='0')\n",
    "plt.hist(cultured.loc[cultured['target']==1,'活動報告回数'],range=(0,100),bins=25,alpha=0.5,label='1')\n",
    "plt.xlabel('report',fontsize=18)\n",
    "plt.ylabel('count',fontsize=18)\n",
    "plt.xticks(fontsize=16)\n",
    "plt.yticks(fontsize=16)\n",
    "plt.legend(title='Success',fontsize=20)"
   ]
  },
  {
   "cell_type": "code",
   "execution_count": 28,
   "metadata": {},
   "outputs": [
    {
     "name": "stdout",
     "output_type": "stream",
     "text": [
      "成功グループの平均:12.224832214765101\n",
      "失敗グループの平均:3.8286713286713288\n",
      "成功グループの中央値:9.0\n",
      "失敗グループの中央値:1.0\n"
     ]
    }
   ],
   "source": [
    "print(\"成功グループの平均:{}\".format(cultured.loc[cultured['target']==1,'活動報告回数'].mean()))\n",
    "print(\"失敗グループの平均:{}\".format(cultured.loc[cultured['target']==0,'活動報告回数'].mean()))\n",
    "print(\"成功グループの中央値:{}\".format(cultured.loc[cultured['target']==1,'活動報告回数'].median()))\n",
    "print(\"失敗グループの中央値:{}\".format(cultured.loc[cultured['target']==0,'活動報告回数'].median()))"
   ]
  },
  {
   "cell_type": "markdown",
   "metadata": {},
   "source": [
    "#### リターン種類数"
   ]
  },
  {
   "cell_type": "code",
   "execution_count": 29,
   "metadata": {},
   "outputs": [
    {
     "name": "stdout",
     "output_type": "stream",
     "text": [
      "max:49 min:0\n"
     ]
    }
   ],
   "source": [
    "print(\"max:{} min:{}\".format(cultured[\"リターン種類数\"].max(),cultured[\"リターン種類数\"].min()))"
   ]
  },
  {
   "cell_type": "code",
   "execution_count": 30,
   "metadata": {},
   "outputs": [
    {
     "data": {
      "text/plain": [
       "<matplotlib.legend.Legend at 0x7fb11e503a30>"
      ]
     },
     "execution_count": 30,
     "metadata": {},
     "output_type": "execute_result"
    },
    {
     "data": {
      "image/png": "[encoded data removed]",
      "text/plain": [
       "<Figure size 750x500 with 1 Axes>"
      ]
     },
     "metadata": {
      "needs_background": "light"
     },
     "output_type": "display_data"
    }
   ],
   "source": [
    "fig = plt.figure(figsize=(15, 10), dpi=50)\n",
    "ax = fig.add_subplot()\n",
    "plt.hist(cultured.loc[cultured['target']==0,'リターン種類数'],range=(0,50),bins=25,alpha=0.5,label='0')\n",
    "plt.hist(cultured.loc[cultured['target']==1,'リターン種類数'],range=(0,50),bins=25,alpha=0.5,label='1')\n",
    "plt.xlabel('return',fontsize=18)\n",
    "plt.ylabel('count',fontsize=18)\n",
    "plt.xticks(fontsize=16)\n",
    "plt.yticks(fontsize=16)\n",
    "plt.legend(title='Success',fontsize=20)"
   ]
  },
  {
   "cell_type": "code",
   "execution_count": 31,
   "metadata": {},
   "outputs": [
    {
     "name": "stdout",
     "output_type": "stream",
     "text": [
      "成功グループの平均:8.953020134228188\n",
      "失敗グループの平均:7.356643356643357\n",
      "成功グループの中央値:8.0\n",
      "失敗グループの中央値:6.0\n"
     ]
    }
   ],
   "source": [
    "print(\"成功グループの平均:{}\".format(cultured.loc[cultured['target']==1,'リターン種類数'].mean()))\n",
    "print(\"失敗グループの平均:{}\".format(cultured.loc[cultured['target']==0,'リターン種類数'].mean()))\n",
    "print(\"成功グループの中央値:{}\".format(cultured.loc[cultured['target']==1,'リターン種類数'].median()))\n",
    "print(\"失敗グループの中央値:{}\".format(cultured.loc[cultured['target']==0,'リターン種類数'].median()))"
   ]
  },
  {
   "cell_type": "markdown",
   "metadata": {},
   "source": [
    "#### 支援額上限"
   ]
  },
  {
   "cell_type": "code",
   "execution_count": 32,
   "metadata": {},
   "outputs": [
    {
     "name": "stdout",
     "output_type": "stream",
     "text": [
      "max:2900000 min:1200\n"
     ]
    }
   ],
   "source": [
    "print(\"max:{} min:{}\".format(cultured[\"支援額上限\"].max(),cultured[\"支援額上限\"].min()))"
   ]
  },
  {
   "cell_type": "code",
   "execution_count": 33,
   "metadata": {},
   "outputs": [
    {
     "data": {
      "text/plain": [
       "<matplotlib.legend.Legend at 0x7fb11ec469a0>"
      ]
     },
     "execution_count": 33,
     "metadata": {},
     "output_type": "execute_result"
    },
    {
     "data": {
      "image/png": "[encoded data removed]",
      "text/plain": [
       "<Figure size 750x500 with 1 Axes>"
      ]
     },
     "metadata": {
      "needs_background": "light"
     },
     "output_type": "display_data"
    }
   ],
   "source": [
    "fig = plt.figure(figsize=(15, 10), dpi=50)\n",
    "ax = fig.add_subplot()\n",
    "plt.hist(cultured.loc[cultured['target']==0,'支援額上限'],range=(1000,1000000),bins=50,alpha=0.5,label='0')\n",
    "plt.hist(cultured.loc[cultured['target']==1,'支援額上限'],range=(1000,1000000),bins=50,alpha=0.5,label='1')\n",
    "plt.xlabel('upper_value',fontsize=18)\n",
    "plt.ylabel('count',fontsize=18)\n",
    "plt.xticks(fontsize=16)\n",
    "plt.yticks(fontsize=16)\n",
    "plt.legend(title='Success',fontsize=20)"
   ]
  },
  {
   "cell_type": "code",
   "execution_count": 34,
   "metadata": {},
   "outputs": [
    {
     "name": "stdout",
     "output_type": "stream",
     "text": [
      "成功グループの平均:128497.47651006712\n",
      "失敗グループの平均:145444.26573426573\n",
      "成功グループの中央値:50000.0\n",
      "失敗グループの中央値:50000.0\n"
     ]
    }
   ],
   "source": [
    "print(\"成功グループの平均:{}\".format(cultured.loc[cultured['target']==1,'支援額上限'].mean()))\n",
    "print(\"失敗グループの平均:{}\".format(cultured.loc[cultured['target']==0,'支援額上限'].mean()))\n",
    "print(\"成功グループの中央値:{}\".format(cultured.loc[cultured['target']==1,'支援額上限'].median()))\n",
    "print(\"失敗グループの中央値:{}\".format(cultured.loc[cultured['target']==0,'支援額上限'].median()))"
   ]
  },
  {
   "cell_type": "markdown",
   "metadata": {},
   "source": [
    "#### 支援額下限"
   ]
  },
  {
   "cell_type": "code",
   "execution_count": 35,
   "metadata": {},
   "outputs": [
    {
     "name": "stdout",
     "output_type": "stream",
     "text": [
      "max:26000 min:500\n"
     ]
    }
   ],
   "source": [
    "print(\"max:{} min:{}\".format(cultured[\"支援額下限\"].max(),cultured[\"支援額下限\"].min()))"
   ]
  },
  {
   "cell_type": "code",
   "execution_count": 36,
   "metadata": {},
   "outputs": [
    {
     "data": {
      "text/plain": [
       "<matplotlib.legend.Legend at 0x7fb11ee31730>"
      ]
     },
     "execution_count": 36,
     "metadata": {},
     "output_type": "execute_result"
    },
    {
     "data": {
      "image/png": "[encoded data removed]",
      "text/plain": [
       "<Figure size 750x500 with 1 Axes>"
      ]
     },
     "metadata": {
      "needs_background": "light"
     },
     "output_type": "display_data"
    }
   ],
   "source": [
    "fig = plt.figure(figsize=(15, 10), dpi=50)\n",
    "ax = fig.add_subplot()\n",
    "plt.hist(cultured.loc[cultured['target']==0,'支援額下限'],range=(500,10000),bins=25,alpha=0.5,label='0')\n",
    "plt.hist(cultured.loc[cultured['target']==1,'支援額下限'],range=(500,10000),bins=25,alpha=0.5,label='1')\n",
    "plt.xlabel('bottom_value',fontsize=18)\n",
    "plt.ylabel('count',fontsize=18)\n",
    "plt.xticks(fontsize=16)\n",
    "plt.yticks(fontsize=16)\n",
    "plt.legend(title='Success',fontsize=20)"
   ]
  },
  {
   "cell_type": "code",
   "execution_count": 37,
   "metadata": {},
   "outputs": [
    {
     "name": "stdout",
     "output_type": "stream",
     "text": [
      "成功グループの平均:3281.1476510067114\n",
      "失敗グループの平均:3278.877622377622\n",
      "成功グループの中央値:3000.0\n",
      "失敗グループの中央値:3000.0\n"
     ]
    }
   ],
   "source": [
    "print(\"成功グループの平均:{}\".format(cultured.loc[cultured['target']==1,'支援額下限'].mean()))\n",
    "print(\"失敗グループの平均:{}\".format(cultured.loc[cultured['target']==0,'支援額下限'].mean()))\n",
    "print(\"成功グループの中央値:{}\".format(cultured.loc[cultured['target']==1,'支援額下限'].median()))\n",
    "print(\"失敗グループの中央値:{}\".format(cultured.loc[cultured['target']==0,'支援額下限'].median()))"
   ]
  },
  {
   "cell_type": "markdown",
   "metadata": {},
   "source": [
    "#### 最高支援額"
   ]
  },
  {
   "cell_type": "code",
   "execution_count": 38,
   "metadata": {},
   "outputs": [
    {
     "name": "stdout",
     "output_type": "stream",
     "text": [
      "max:1200000 min:0\n"
     ]
    }
   ],
   "source": [
    "print(\"max:{} min:{}\".format(cultured[\"最高支援額\"].max(),cultured[\"最低支援額\"].min()))"
   ]
  },
  {
   "cell_type": "code",
   "execution_count": 39,
   "metadata": {},
   "outputs": [
    {
     "data": {
      "text/plain": [
       "<matplotlib.legend.Legend at 0x7fb11f127790>"
      ]
     },
     "execution_count": 39,
     "metadata": {},
     "output_type": "execute_result"
    },
    {
     "data": {
      "image/png": "[encoded data removed]",
      "text/plain": [
       "<Figure size 750x500 with 1 Axes>"
      ]
     },
     "metadata": {
      "needs_background": "light"
     },
     "output_type": "display_data"
    }
   ],
   "source": [
    "fig = plt.figure(figsize=(15, 10), dpi=50)\n",
    "ax = fig.add_subplot()\n",
    "plt.hist(cultured.loc[cultured['target']==0,'最高支援額'],range=(0,400000),bins=25,alpha=0.5,label='0')\n",
    "plt.hist(cultured.loc[cultured['target']==1,'最高支援額'],range=(0,400000),bins=25,alpha=0.5,label='1')\n",
    "plt.xlabel('max_value',fontsize=18)\n",
    "plt.ylabel('count',fontsize=18)\n",
    "plt.xticks(fontsize=16)\n",
    "plt.yticks(fontsize=16)\n",
    "plt.legend(title='Success',fontsize=20)"
   ]
  },
  {
   "cell_type": "code",
   "execution_count": 40,
   "metadata": {},
   "outputs": [
    {
     "name": "stdout",
     "output_type": "stream",
     "text": [
      "成功グループの平均:73999.95973154363\n",
      "失敗グループの平均:38131.25874125874\n",
      "成功グループの中央値:50000.0\n",
      "失敗グループの中央値:11000.0\n"
     ]
    }
   ],
   "source": [
    "print(\"成功グループの平均:{}\".format(cultured.loc[cultured['target']==1,'最高支援額'].mean()))\n",
    "print(\"失敗グループの平均:{}\".format(cultured.loc[cultured['target']==0,'最高支援額'].mean()))\n",
    "print(\"成功グループの中央値:{}\".format(cultured.loc[cultured['target']==1,'最高支援額'].median()))\n",
    "print(\"失敗グループの中央値:{}\".format(cultured.loc[cultured['target']==0,'最高支援額'].median()))"
   ]
  },
  {
   "cell_type": "markdown",
   "metadata": {},
   "source": [
    "#### 最低支援額"
   ]
  },
  {
   "cell_type": "code",
   "execution_count": 41,
   "metadata": {},
   "outputs": [
    {
     "name": "stdout",
     "output_type": "stream",
     "text": [
      "max:50000 min:0\n"
     ]
    }
   ],
   "source": [
    "print(\"max:{} min:{}\".format(cultured[\"最低支援額\"].max(),cultured[\"最低支援額\"].min()))"
   ]
  },
  {
   "cell_type": "code",
   "execution_count": 42,
   "metadata": {},
   "outputs": [
    {
     "data": {
      "text/plain": [
       "<matplotlib.legend.Legend at 0x7fb11f31b7c0>"
      ]
     },
     "execution_count": 42,
     "metadata": {},
     "output_type": "execute_result"
    },
    {
     "data": {
      "image/png": "[encoded data removed]",
      "text/plain": [
       "<Figure size 750x500 with 1 Axes>"
      ]
     },
     "metadata": {
      "needs_background": "light"
     },
     "output_type": "display_data"
    }
   ],
   "source": [
    "fig = plt.figure(figsize=(15, 10), dpi=50)\n",
    "ax = fig.add_subplot()\n",
    "plt.hist(cultured.loc[cultured['target']==0,'最高支援額'],range=(0,400000),bins=25,alpha=0.5,label='0')\n",
    "plt.hist(cultured.loc[cultured['target']==1,'最高支援額'],range=(0,400000),bins=25,alpha=0.5,label='1')\n",
    "plt.xlabel('min_value',fontsize=18)\n",
    "plt.ylabel('count',fontsize=18)\n",
    "plt.xticks(fontsize=16)\n",
    "plt.yticks(fontsize=16)\n",
    "plt.legend(title='Success',fontsize=20)"
   ]
  },
  {
   "cell_type": "code",
   "execution_count": 43,
   "metadata": {},
   "outputs": [
    {
     "name": "stdout",
     "output_type": "stream",
     "text": [
      "成功グループの平均:3405.308724832215\n",
      "失敗グループの平均:3741.818181818182\n",
      "成功グループの中央値:3000.0\n",
      "失敗グループの中央値:3000.0\n"
     ]
    }
   ],
   "source": [
    "print(\"成功グループの平均:{}\".format(cultured.loc[cultured['target']==1,'最低支援額'].mean()))\n",
    "print(\"失敗グループの平均:{}\".format(cultured.loc[cultured['target']==0,'最低支援額'].mean()))\n",
    "print(\"成功グループの中央値:{}\".format(cultured.loc[cultured['target']==1,'最低支援額'].median()))\n",
    "print(\"失敗グループの中央値:{}\".format(cultured.loc[cultured['target']==0,'最低支援額'].median()))"
   ]
  },
  {
   "cell_type": "markdown",
   "metadata": {},
   "source": [
    "#### 一人当たり支援額"
   ]
  },
  {
   "cell_type": "code",
   "execution_count": 44,
   "metadata": {},
   "outputs": [
    {
     "name": "stdout",
     "output_type": "stream",
     "text": [
      "max:62531.0 min:0.0\n"
     ]
    }
   ],
   "source": [
    "print(\"max:{} min:{}\".format(cultured[\"一人当たり支援額\"].max(),cultured[\"一人当たり支援額\"].min()))"
   ]
  },
  {
   "cell_type": "code",
   "execution_count": 45,
   "metadata": {},
   "outputs": [
    {
     "data": {
      "text/plain": [
       "<matplotlib.legend.Legend at 0x7fb11f51e040>"
      ]
     },
     "execution_count": 45,
     "metadata": {},
     "output_type": "execute_result"
    },
    {
     "data": {
      "image/png": "[encoded data removed]",
      "text/plain": [
       "<Figure size 750x500 with 1 Axes>"
      ]
     },
     "metadata": {
      "needs_background": "light"
     },
     "output_type": "display_data"
    }
   ],
   "source": [
    "fig = plt.figure(figsize=(15, 10), dpi=50)\n",
    "ax = fig.add_subplot()\n",
    "plt.hist(cultured.loc[cultured['target']==0,'一人当たり支援額'],range=(0,70000),bins=25,alpha=0.5,label='0')\n",
    "plt.hist(cultured.loc[cultured['target']==1,'一人当たり支援額'],range=(0,70000),bins=25,alpha=0.5,label='1')\n",
    "plt.xlabel('value_per_head',fontsize=18)\n",
    "plt.ylabel('count',fontsize=18)\n",
    "plt.xticks(fontsize=16)\n",
    "plt.yticks(fontsize=16)\n",
    "plt.legend(title='Success',fontsize=20)"
   ]
  },
  {
   "cell_type": "code",
   "execution_count": 46,
   "metadata": {},
   "outputs": [
    {
     "name": "stdout",
     "output_type": "stream",
     "text": [
      "成功グループの平均:11714.557046979866\n",
      "失敗グループの平均:8203.220279720279\n",
      "成功グループの中央値:9757.0\n",
      "失敗グループの中央値:6667.0\n"
     ]
    }
   ],
   "source": [
    "print(\"成功グループの平均:{}\".format(cultured.loc[cultured['target']==1,'一人当たり支援額'].mean()))\n",
    "print(\"失敗グループの平均:{}\".format(cultured.loc[cultured['target']==0,'一人当たり支援額'].mean()))\n",
    "print(\"成功グループの中央値:{}\".format(cultured.loc[cultured['target']==1,'一人当たり支援額'].median()))\n",
    "print(\"失敗グループの中央値:{}\".format(cultured.loc[cultured['target']==0,'一人当たり支援額'].median()))"
   ]
  },
  {
   "cell_type": "markdown",
   "metadata": {},
   "source": [
    "#### 返礼品ありの下限"
   ]
  },
  {
   "cell_type": "code",
   "execution_count": 47,
   "metadata": {},
   "outputs": [
    {
     "name": "stdout",
     "output_type": "stream",
     "text": [
      "max:50000 min:0\n"
     ]
    }
   ],
   "source": [
    "print(\"max:{} min:{}\".format(cultured[\"返礼品ありの下限\"].max(),cultured[\"返礼品ありの下限\"].min()))"
   ]
  },
  {
   "cell_type": "code",
   "execution_count": 48,
   "metadata": {},
   "outputs": [
    {
     "data": {
      "text/plain": [
       "<matplotlib.legend.Legend at 0x7fb11e4dd9d0>"
      ]
     },
     "execution_count": 48,
     "metadata": {},
     "output_type": "execute_result"
    },
    {
     "data": {
      "image/png": "[encoded data removed]",
      "text/plain": [
       "<Figure size 750x500 with 1 Axes>"
      ]
     },
     "metadata": {
      "needs_background": "light"
     },
     "output_type": "display_data"
    }
   ],
   "source": [
    "fig = plt.figure(figsize=(15, 10), dpi=50)\n",
    "ax = fig.add_subplot()\n",
    "plt.hist(cultured.loc[cultured['target']==0,'返礼品ありの下限'],range=(0,10000),bins=25,alpha=0.5,label='0')\n",
    "plt.hist(cultured.loc[cultured['target']==1,'返礼品ありの下限'],range=(0,10000),bins=25,alpha=0.5,label='1')\n",
    "plt.xlabel('word',fontsize=18)\n",
    "plt.ylabel('count',fontsize=18)\n",
    "plt.xticks(fontsize=16)\n",
    "plt.yticks(fontsize=16)\n",
    "plt.legend(title='Success',fontsize=20)"
   ]
  },
  {
   "cell_type": "code",
   "execution_count": 49,
   "metadata": {},
   "outputs": [
    {
     "name": "stdout",
     "output_type": "stream",
     "text": [
      "成功グループの平均:4251.919463087248\n",
      "失敗グループの平均:4877.832167832168\n",
      "成功グループの中央値:3000.0\n",
      "失敗グループの中央値:3500.0\n"
     ]
    }
   ],
   "source": [
    "print(\"成功グループの平均:{}\".format(cultured.loc[cultured['target']==1,'返礼品ありの下限'].mean()))\n",
    "print(\"失敗グループの平均:{}\".format(cultured.loc[cultured['target']==0,'返礼品ありの下限'].mean()))\n",
    "print(\"成功グループの中央値:{}\".format(cultured.loc[cultured['target']==1,'返礼品ありの下限'].median()))\n",
    "print(\"失敗グループの中央値:{}\".format(cultured.loc[cultured['target']==0,'返礼品ありの下限'].median()))"
   ]
  },
  {
   "cell_type": "markdown",
   "metadata": {},
   "source": [
    "#### 最高額支援ダミー"
   ]
  },
  {
   "cell_type": "code",
   "execution_count": 50,
   "metadata": {},
   "outputs": [
    {
     "data": {
      "text/plain": [
       "<matplotlib.legend.Legend at 0x7fb11ee56130>"
      ]
     },
     "execution_count": 50,
     "metadata": {},
     "output_type": "execute_result"
    },
    {
     "data": {
      "image/png": "[encoded data removed]",
      "text/plain": [
       "<Figure size 750x500 with 1 Axes>"
      ]
     },
     "metadata": {
      "needs_background": "light"
     },
     "output_type": "display_data"
    }
   ],
   "source": [
    "fig = plt.figure(figsize=(15, 10), dpi=50)\n",
    "ax = fig.add_subplot()\n",
    "sns.countplot(x='最高額支援ダミー',hue='target',data=cultured)\n",
    "plt.xlabel('dummy',fontsize=18)\n",
    "plt.ylabel('count',fontsize=18)\n",
    "plt.xticks(fontsize=16)\n",
    "plt.yticks(fontsize=16)\n",
    "plt.legend(title='Success',fontsize=20)"
   ]
  },
  {
   "cell_type": "code",
   "execution_count": 51,
   "metadata": {},
   "outputs": [
    {
     "name": "stdout",
     "output_type": "stream",
     "text": [
      "ダミー変数が1になる割合:0.5616438356164384\n"
     ]
    }
   ],
   "source": [
    "dummy = cultured[\"最高額支援ダミー\"].sum() / len(cultured[\"最高額支援ダミー\"])\n",
    "print(\"ダミー変数が1になる割合:{}\".format(dummy))"
   ]
  },
  {
   "cell_type": "code",
   "execution_count": 52,
   "metadata": {},
   "outputs": [
    {
     "name": "stdout",
     "output_type": "stream",
     "text": [
      "成功グループの割合:0.7281879194630873\n",
      "失敗グループの割合:0.3881118881118881\n"
     ]
    }
   ],
   "source": [
    "print(\"成功グループの割合:{}\".format(cultured.loc[cultured['target']==1,'最高額支援ダミー'].sum() / len(cultured.loc[cultured['target']==1])))\n",
    "print(\"失敗グループの割合:{}\".format(cultured.loc[cultured['target']==0,'最高額支援ダミー'].sum() / len(cultured.loc[cultured['target']==0])))"
   ]
  },
  {
   "cell_type": "markdown",
   "metadata": {},
   "source": [
    "#### 最低額返礼品ダミー"
   ]
  },
  {
   "cell_type": "code",
   "execution_count": 53,
   "metadata": {},
   "outputs": [
    {
     "data": {
      "text/plain": [
       "<matplotlib.legend.Legend at 0x7fb11f772f10>"
      ]
     },
     "execution_count": 53,
     "metadata": {},
     "output_type": "execute_result"
    },
    {
     "data": {
      "image/png": "[encoded data removed]",
      "text/plain": [
       "<Figure size 750x500 with 1 Axes>"
      ]
     },
     "metadata": {
      "needs_background": "light"
     },
     "output_type": "display_data"
    }
   ],
   "source": [
    "fig = plt.figure(figsize=(15, 10), dpi=50)\n",
    "ax = fig.add_subplot()\n",
    "sns.countplot(x='最低額返礼品ダミー',hue='target',data=cultured)\n",
    "plt.xlabel('dummy',fontsize=18)\n",
    "plt.ylabel('count',fontsize=18)\n",
    "plt.xticks(fontsize=16)\n",
    "plt.yticks(fontsize=16)\n",
    "plt.legend(title='Success',fontsize=20)"
   ]
  },
  {
   "cell_type": "code",
   "execution_count": 54,
   "metadata": {},
   "outputs": [
    {
     "name": "stdout",
     "output_type": "stream",
     "text": [
      "ダミー変数が1になる割合:0.6934931506849316\n"
     ]
    }
   ],
   "source": [
    "dummy = cultured[\"最低額返礼品ダミー\"].sum() / len(cultured[\"最低額返礼品ダミー\"])\n",
    "print(\"ダミー変数が1になる割合:{}\".format(dummy))"
   ]
  },
  {
   "cell_type": "code",
   "execution_count": 55,
   "metadata": {},
   "outputs": [
    {
     "name": "stdout",
     "output_type": "stream",
     "text": [
      "成功グループの割合:0.7348993288590604\n",
      "失敗グループの割合:0.6503496503496503\n"
     ]
    }
   ],
   "source": [
    "print(\"成功グループの割合:{}\".format(cultured.loc[cultured['target']==1,'最低額返礼品ダミー'].sum() / len(cultured.loc[cultured['target']==1])))\n",
    "print(\"失敗グループの割合:{}\".format(cultured.loc[cultured['target']==0,'最低額返礼品ダミー'].sum() / len(cultured.loc[cultured['target']==0])))"
   ]
  },
  {
   "cell_type": "markdown",
   "metadata": {},
   "source": [
    "#### 自然災害ダミー"
   ]
  },
  {
   "cell_type": "code",
   "execution_count": 56,
   "metadata": {},
   "outputs": [
    {
     "data": {
      "text/plain": [
       "<matplotlib.legend.Legend at 0x7fb11f8d1c70>"
      ]
     },
     "execution_count": 56,
     "metadata": {},
     "output_type": "execute_result"
    },
    {
     "data": {
      "image/png": "[encoded data removed]",
      "text/plain": [
       "<Figure size 750x500 with 1 Axes>"
      ]
     },
     "metadata": {
      "needs_background": "light"
     },
     "output_type": "display_data"
    }
   ],
   "source": [
    "fig = plt.figure(figsize=(15, 10), dpi=50)\n",
    "ax = fig.add_subplot()\n",
    "sns.countplot(x='target',hue='自然災害ダミー',data=cultured)\n",
    "plt.xlabel('dummy',fontsize=18)\n",
    "plt.ylabel('count',fontsize=18)\n",
    "plt.xticks(fontsize=16)\n",
    "plt.yticks(fontsize=16)\n",
    "plt.legend(title='Success',fontsize=20)"
   ]
  },
  {
   "cell_type": "code",
   "execution_count": 57,
   "metadata": {},
   "outputs": [
    {
     "name": "stdout",
     "output_type": "stream",
     "text": [
      "ダミー変数が1になる割合:0.05136986301369863\n"
     ]
    }
   ],
   "source": [
    "dummy = cultured[\"自然災害ダミー\"].sum() / len(cultured[\"自然災害ダミー\"])\n",
    "print(\"ダミー変数が1になる割合:{}\".format(dummy))"
   ]
  },
  {
   "cell_type": "code",
   "execution_count": 58,
   "metadata": {},
   "outputs": [
    {
     "name": "stdout",
     "output_type": "stream",
     "text": [
      "災害グループの成功率:0.4\n",
      "非災害グループの成功率:0.516245487364621\n"
     ]
    }
   ],
   "source": [
    "print(\"災害グループの成功率:{}\".format(cultured.loc[cultured['自然災害ダミー']==1,'target'].mean()))\n",
    "print(\"非災害グループの成功率:{}\".format(cultured.loc[cultured['自然災害ダミー']==0,'target'].mean()))"
   ]
  }
 ],
 "metadata": {
  "kernelspec": {
   "display_name": "Python 3",
   "language": "python",
   "name": "python3"
  },
  "language_info": {
   "codemirror_mode": {
    "name": "ipython",
    "version": 3
   },
   "file_extension": ".py",
   "mimetype": "text/x-python",
   "name": "python",
   "nbconvert_exporter": "python",
   "pygments_lexer": "ipython3",
   "version": "3.8.5"
  }
 },
 "nbformat": 4,
 "nbformat_minor": 4
}
